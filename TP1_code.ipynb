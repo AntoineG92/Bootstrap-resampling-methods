{
 "cells": [
  {
   "cell_type": "markdown",
   "metadata": {},
   "source": [
    "# <center> Bootstrap TP1\n",
    "<b>Antoine GRELETY</b>\n",
    "<b>Vincent LE MEUR</b>"
   ]
  },
  {
   "cell_type": "markdown",
   "metadata": {},
   "source": [
    "## Importation des librairies et des données"
   ]
  },
  {
   "cell_type": "code",
   "execution_count": 1,
   "metadata": {
    "ExecuteTime": {
     "end_time": "2018-02-25T19:21:59.684792Z",
     "start_time": "2018-02-25T19:21:47.202902Z"
    }
   },
   "outputs": [],
   "source": [
    "import numpy as np\n",
    "import numpy.random as npr\n",
    "import pandas as pd\n",
    "from matplotlib import pyplot as plt\n",
    "from scipy.stats import norm\n",
    "import math"
   ]
  },
  {
   "cell_type": "code",
   "execution_count": 2,
   "metadata": {
    "ExecuteTime": {
     "end_time": "2018-02-25T19:21:59.831912Z",
     "start_time": "2018-02-25T19:21:59.687873Z"
    }
   },
   "outputs": [],
   "source": [
    "#law=pd.read_csv(\"/Users/antoinegrelety/Documents/ENSAE/S2_Bootstrap/TP1/lsat.dat\")\n",
    "law=pd.read_table(\"lsat.dat\",sep=\" \")"
   ]
  },
  {
   "cell_type": "code",
   "execution_count": 3,
   "metadata": {
    "ExecuteTime": {
     "end_time": "2018-02-25T19:21:59.969498Z",
     "start_time": "2018-02-25T19:21:59.835605Z"
    }
   },
   "outputs": [
    {
     "data": {
      "text/html": [
       "<div>\n",
       "<style>\n",
       "    .dataframe thead tr:only-child th {\n",
       "        text-align: right;\n",
       "    }\n",
       "\n",
       "    .dataframe thead th {\n",
       "        text-align: left;\n",
       "    }\n",
       "\n",
       "    .dataframe tbody tr th {\n",
       "        vertical-align: top;\n",
       "    }\n",
       "</style>\n",
       "<table border=\"1\" class=\"dataframe\">\n",
       "  <thead>\n",
       "    <tr style=\"text-align: right;\">\n",
       "      <th></th>\n",
       "      <th>LSAT</th>\n",
       "      <th>GPA</th>\n",
       "    </tr>\n",
       "  </thead>\n",
       "  <tbody>\n",
       "    <tr>\n",
       "      <th>0</th>\n",
       "      <td>576</td>\n",
       "      <td>3.39</td>\n",
       "    </tr>\n",
       "    <tr>\n",
       "      <th>1</th>\n",
       "      <td>635</td>\n",
       "      <td>3.30</td>\n",
       "    </tr>\n",
       "    <tr>\n",
       "      <th>2</th>\n",
       "      <td>558</td>\n",
       "      <td>2.81</td>\n",
       "    </tr>\n",
       "    <tr>\n",
       "      <th>3</th>\n",
       "      <td>578</td>\n",
       "      <td>3.03</td>\n",
       "    </tr>\n",
       "    <tr>\n",
       "      <th>4</th>\n",
       "      <td>666</td>\n",
       "      <td>3.44</td>\n",
       "    </tr>\n",
       "  </tbody>\n",
       "</table>\n",
       "</div>"
      ],
      "text/plain": [
       "   LSAT   GPA\n",
       "0   576  3.39\n",
       "1   635  3.30\n",
       "2   558  2.81\n",
       "3   578  3.03\n",
       "4   666  3.44"
      ]
     },
     "execution_count": 3,
     "metadata": {},
     "output_type": "execute_result"
    }
   ],
   "source": [
    "law.head()"
   ]
  },
  {
   "cell_type": "code",
   "execution_count": 4,
   "metadata": {
    "ExecuteTime": {
     "end_time": "2018-02-25T19:21:59.978663Z",
     "start_time": "2018-02-25T19:21:59.972753Z"
    }
   },
   "outputs": [],
   "source": [
    "n=law.shape[0]"
   ]
  },
  {
   "cell_type": "code",
   "execution_count": 5,
   "metadata": {
    "ExecuteTime": {
     "end_time": "2018-02-25T19:22:00.025934Z",
     "start_time": "2018-02-25T19:21:59.985055Z"
    }
   },
   "outputs": [],
   "source": [
    "LSAT=np.array(law[\"LSAT\"])\n",
    "GPA=np.array(law[\"GPA\"])"
   ]
  },
  {
   "cell_type": "code",
   "execution_count": 6,
   "metadata": {
    "ExecuteTime": {
     "end_time": "2018-02-25T19:22:00.053447Z",
     "start_time": "2018-02-25T19:22:00.031596Z"
    }
   },
   "outputs": [],
   "source": [
    "law=np.array(law)"
   ]
  },
  {
   "cell_type": "markdown",
   "metadata": {},
   "source": [
    "## Partie 1 :  Estimateurs bootstrap"
   ]
  },
  {
   "cell_type": "markdown",
   "metadata": {},
   "source": [
    "### Estimateur bootstrap de la variance de la corrélation"
   ]
  },
  {
   "cell_type": "code",
   "execution_count": 7,
   "metadata": {
    "ExecuteTime": {
     "end_time": "2018-02-25T19:22:02.260336Z",
     "start_time": "2018-02-25T19:22:00.058813Z"
    }
   },
   "outputs": [],
   "source": [
    "B=200\n",
    "corr_star=np.zeros(B)\n",
    "for b in range(B):\n",
    "    ind=npr.randint(0,n,15)\n",
    "    sample_b=law[ind,:]\n",
    "    corr_star[b]=np.corrcoef(LSAT[ind],GPA[ind])[0,1]\n",
    "    #print(corr_star[b])"
   ]
  },
  {
   "cell_type": "code",
   "execution_count": 8,
   "metadata": {
    "ExecuteTime": {
     "end_time": "2018-02-25T19:22:02.310705Z",
     "start_time": "2018-02-25T19:22:02.263549Z"
    }
   },
   "outputs": [
    {
     "name": "stdout",
     "output_type": "stream",
     "text": [
      "estimateur bootstrap: 0.01848404435332366\n"
     ]
    }
   ],
   "source": [
    "print(\"estimateur bootstrap:\",np.var(corr_star))"
   ]
  },
  {
   "cell_type": "markdown",
   "metadata": {},
   "source": [
    "### Médiane"
   ]
  },
  {
   "cell_type": "code",
   "execution_count": 9,
   "metadata": {
    "ExecuteTime": {
     "end_time": "2018-02-25T19:22:13.392438Z",
     "start_time": "2018-02-25T19:22:02.314799Z"
    }
   },
   "outputs": [
    {
     "name": "stdout",
     "output_type": "stream",
     "text": [
      "Variance de la médiane : 0.07784323426754702\n",
      "Variance de la médiane : 0.008929682099053112\n",
      "Variance de la médiane : 0.0005239181826130319\n",
      "Variance de la médiane : 8.622772137762366e-05\n"
     ]
    }
   ],
   "source": [
    "Z_size=[10,100,1000,10000,10]\n",
    "\n",
    "B=10000\n",
    "i=0\n",
    "for c in Z_size:\n",
    "    i=i+1\n",
    "    Z=npr.exponential(size=c)\n",
    "    med_star=np.zeros(B)\n",
    "    med=np.zeros(B)\n",
    "    for b in range(B):\n",
    "        ind=npr.randint(0,len(Z),len(Z))\n",
    "        sample_b=Z[ind]\n",
    "        med_star[b]=np.median(sample_b)\n",
    "    if i<=4:     # Cette condition nous sert à garder en mémoire la valeur pour n=10 (qui sera utilisée après)\n",
    "        print(\"Variance de la médiane :\",np.var(med_star))\n",
    "        \n",
    "    "
   ]
  },
  {
   "cell_type": "markdown",
   "metadata": {},
   "source": [
    "On constate que la variance de la médiane tend vers 0 ce qui correspond à la valeur limite."
   ]
  },
  {
   "cell_type": "markdown",
   "metadata": {},
   "source": [
    "### Estimation de la fonction de répartition"
   ]
  },
  {
   "cell_type": "code",
   "execution_count": 10,
   "metadata": {
    "ExecuteTime": {
     "end_time": "2018-02-25T19:22:13.401594Z",
     "start_time": "2018-02-25T19:22:13.394993Z"
    }
   },
   "outputs": [],
   "source": [
    "Z=npr.exponential(size=10)\n",
    "med_Z=np.median(Z)"
   ]
  },
  {
   "cell_type": "markdown",
   "metadata": {},
   "source": [
    "Fonction de répartition de la médiane empirique approché par Monte Carlo"
   ]
  },
  {
   "cell_type": "code",
   "execution_count": 11,
   "metadata": {
    "ExecuteTime": {
     "end_time": "2018-02-25T19:22:14.597216Z",
     "start_time": "2018-02-25T19:22:13.405665Z"
    }
   },
   "outputs": [
    {
     "name": "stdout",
     "output_type": "stream",
     "text": [
      "médiane via MC: 0.7439436121509623\n"
     ]
    }
   ],
   "source": [
    "M=10000\n",
    "med_MC=np.zeros(M)\n",
    "for m in range(M):\n",
    "        Z=npr.exponential(size=10)\n",
    "        med_MC[m]=np.median(Z)\n",
    "print(\"médiane via MC:\",np.mean(med_MC))"
   ]
  },
  {
   "cell_type": "markdown",
   "metadata": {},
   "source": [
    "Comparaison des fonctions de répartition de l'approximation asymptotique gaussienne, celle approchée par Monte Carlo et celle obtenue par estimateurs boostrapés :"
   ]
  },
  {
   "cell_type": "code",
   "execution_count": 12,
   "metadata": {
    "ExecuteTime": {
     "end_time": "2018-02-25T19:22:16.107733Z",
     "start_time": "2018-02-25T19:22:14.600600Z"
    }
   },
   "outputs": [
    {
     "data": {
      "image/png": "[encoded data removed]",
      "text/plain": [
       "<matplotlib.figure.Figure at 0x10f20d198>"
      ]
     },
     "metadata": {},
     "output_type": "display_data"
    }
   ],
   "source": [
    "plt.plot(np.sqrt(len(Z))*(np.sort(med_MC)-np.log(2)),(1/M)*np.arange(M))\n",
    "gridnorm=np.arange(-2,5,0.01)\n",
    "plt.plot(gridnorm,norm.cdf(gridnorm))\n",
    "plt.plot(np.sqrt(len(Z))*(np.sort(med_star)-med_Z),(1/B)*np.arange(B))\n",
    "plt.legend([\"Monte Carlo\",\"Approx. gaussienne\",\"Estimateurs bootstrapés\"])\n",
    "plt.show()"
   ]
  },
  {
   "cell_type": "markdown",
   "metadata": {},
   "source": [
    "La fonction de répartition obtenue par estimateurs boostrapés oscille autour de celle obtenue par approximation Gaussienne. En comparaison, la méthode de Monte Carlo semble ici plus précise pour cette estimation.\n",
    "\n",
    "On vérifie ici la convergence en loi de la médiane obtenue par boostrap vers une loi normale."
   ]
  },
  {
   "cell_type": "markdown",
   "metadata": {},
   "source": [
    "## Partie 2: intervalles de confiance"
   ]
  },
  {
   "cell_type": "markdown",
   "metadata": {},
   "source": [
    "On définit ci-dessous les paramètres :"
   ]
  },
  {
   "cell_type": "code",
   "execution_count": 13,
   "metadata": {
    "ExecuteTime": {
     "end_time": "2018-02-25T19:22:16.120990Z",
     "start_time": "2018-02-25T19:22:16.110876Z"
    }
   },
   "outputs": [],
   "source": [
    "n=10\n",
    "p=0.7\n",
    "theta=0.007\n",
    "q=1\n",
    "kappa=0.02\n",
    "alpha=0.05\n",
    "tau=(p*kappa)/(q*theta)"
   ]
  },
  {
   "cell_type": "markdown",
   "metadata": {},
   "source": [
    "On définit nos deux échantillons de taille n :"
   ]
  },
  {
   "cell_type": "code",
   "execution_count": 14,
   "metadata": {
    "ExecuteTime": {
     "end_time": "2018-02-25T19:22:16.149364Z",
     "start_time": "2018-02-25T19:22:16.125056Z"
    }
   },
   "outputs": [],
   "source": [
    "X=npr.gamma(p,1/theta,size=n)\n",
    "Y=npr.gamma(q,1/kappa,size=n)"
   ]
  },
  {
   "cell_type": "code",
   "execution_count": 15,
   "metadata": {
    "ExecuteTime": {
     "end_time": "2018-02-25T19:22:16.162455Z",
     "start_time": "2018-02-25T19:22:16.154202Z"
    }
   },
   "outputs": [],
   "source": [
    "def tau_hat(x,y):\n",
    "    return(np.mean(x)/np.mean(y))"
   ]
  },
  {
   "cell_type": "markdown",
   "metadata": {},
   "source": [
    "## Intervalle de confiance par approximation normale :"
   ]
  },
  {
   "cell_type": "markdown",
   "metadata": {},
   "source": [
    "La loi limite de $\\sqrt{n}(\\hat{\\tau}-\\tau)$ est $\\mathcal{N}(0,\\sigma^2)$ avec $\\sigma^2 = \\dfrac{\\mathbb{V}(X)}{\\bar{Y}_n^{2}} + \\dfrac{\\bar{X}_n^2 \\mathbb{V}(Y)}{\\bar{Y}_n^4}$"
   ]
  },
  {
   "cell_type": "markdown",
   "metadata": {},
   "source": [
    "On en déduit l'intervalle de confiance asymptotique par approximation normale :"
   ]
  },
  {
   "cell_type": "markdown",
   "metadata": {},
   "source": [
    "$$IC_{\\text{AN}}(\\alpha)=\\left[\\hat{\\tau} -\n",
    "\\frac{\\hat{\\sigma}}{\\sqrt n} \\Phi^{-1} (1-\\alpha/2);\\hat{\\tau}+\n",
    "\\frac{\\hat{\\sigma}}{\\sqrt n} \\Phi^{-1} (1-\\alpha/2)\\right]\n",
    "$$\n",
    "\n",
    "où $$\\hat{\\sigma}=\\sqrt{\\frac{\\frac{1}{n} \\sum_{i=1}^n (X_i\n",
    "-\\bar{X}_n)^2 }{\\bar{Y}_n^2}+\\frac{\\bar{X}_n^2}{\\bar{Y}_n^4}\n",
    "\\frac{1}{n} \\sum_{i=1}^n (Y_i -\\bar{Y}_n)^2}.$$"
   ]
  },
  {
   "cell_type": "markdown",
   "metadata": {},
   "source": [
    "## Intervalle de confiance par Boostrap :"
   ]
  },
  {
   "cell_type": "markdown",
   "metadata": {},
   "source": [
    "### IC par bootstrap"
   ]
  },
  {
   "cell_type": "markdown",
   "metadata": {},
   "source": [
    "Construction de l'intervalle de confiance par approximation normale :"
   ]
  },
  {
   "cell_type": "code",
   "execution_count": 16,
   "metadata": {
    "ExecuteTime": {
     "end_time": "2018-02-25T19:22:16.176143Z",
     "start_time": "2018-02-25T19:22:16.166582Z"
    }
   },
   "outputs": [],
   "source": [
    "def sigma_hat(x,y):\n",
    "    return  np.sqrt( np.var(x)/(np.mean(y**2)) + (np.mean(x**2)/np.mean(y**4))*np.var(y) )"
   ]
  },
  {
   "cell_type": "code",
   "execution_count": 17,
   "metadata": {
    "ExecuteTime": {
     "end_time": "2018-02-25T19:22:16.201588Z",
     "start_time": "2018-02-25T19:22:16.180470Z"
    }
   },
   "outputs": [],
   "source": [
    "def ICAN(alpha,X,Y):\n",
    "    A= []\n",
    "    A.append(tau_hat(X,Y)-sigma_hat(X,Y)/np.sqrt(n)*norm.ppf(1-alpha/2))\n",
    "    A.append(tau_hat(X,Y)+sigma_hat(X,Y)/np.sqrt(n)*norm.ppf(1-alpha/2))\n",
    "    return A"
   ]
  },
  {
   "cell_type": "code",
   "execution_count": 18,
   "metadata": {
    "ExecuteTime": {
     "end_time": "2018-02-25T19:22:16.221251Z",
     "start_time": "2018-02-25T19:22:16.207611Z"
    }
   },
   "outputs": [
    {
     "name": "stdout",
     "output_type": "stream",
     "text": [
      "Intervalle de confiance à un niveau alpha = 5% d'une approximation normale :  [1.7876645511421447, 7.841911700420223]\n",
      "Valeur de l'estimation :  4.814788125781184\n"
     ]
    }
   ],
   "source": [
    "print(\"Intervalle de confiance à un niveau alpha = 5% d'une approximation normale : \",ICAN(alpha,X,Y))\n",
    "print(\"Valeur de l'estimation : \",tau_hat(X,Y))"
   ]
  },
  {
   "cell_type": "markdown",
   "metadata": {},
   "source": [
    "On estime le paramètre $\\hat{\\tau}$, par Boostrap ci-dessous. On stocke les différentes valeurs dans le vecteur \"tau_star\" : "
   ]
  },
  {
   "cell_type": "code",
   "execution_count": 19,
   "metadata": {
    "ExecuteTime": {
     "end_time": "2018-02-25T19:22:16.587037Z",
     "start_time": "2018-02-25T19:22:16.226008Z"
    }
   },
   "outputs": [],
   "source": [
    "#Bootstrap\n",
    "B=1000\n",
    "tau_star=np.zeros(B)\n",
    "S_star=np.zeros(B)\n",
    "tau_hat_val=tau_hat(X,Y)\n",
    "for b in range(B):\n",
    "    ind=npr.randint(0,n,n)\n",
    "    sample_X=X[ind]\n",
    "    sample_Y=Y[ind]\n",
    "    tau_star[b]=tau_hat(sample_X,sample_Y)\n",
    "    var_hat=np.var(sample_X/np.sqrt(np.var(sample_X)/np.mean(sample_Y)**2+\n",
    "                                    np.mean(sample_X)*np.var(sample_Y)/np.mean(sample_Y)**4) )\n",
    "    S_star[b]=np.sqrt(n)*(tau_star[b]-tau_hat_val)/np.sqrt(var_hat)\n",
    "\n",
    "#ordonne les paramètres estimés\n",
    "tau_star=np.sort(tau_star)\n",
    "S_star=np.sort(S_star)"
   ]
  },
  {
   "cell_type": "markdown",
   "metadata": {},
   "source": [
    "On définit ci-dessous notre intevalle de confiance du boostrap basique (\"IC_base\") :"
   ]
  },
  {
   "cell_type": "code",
   "execution_count": 20,
   "metadata": {
    "ExecuteTime": {
     "end_time": "2018-02-25T19:22:16.605386Z",
     "start_time": "2018-02-25T19:22:16.589757Z"
    }
   },
   "outputs": [],
   "source": [
    "def IC_base(alpha,x,y,theta):\n",
    "    A= []\n",
    "    A.append( 2*tau_hat(x,y)-theta[math.ceil(len(theta)*(1-alpha/2))] )\n",
    "    A.append( 2*tau_hat(x,y)-theta[math.ceil(len(theta)*(alpha/2))] )\n",
    "    return(A)"
   ]
  },
  {
   "cell_type": "code",
   "execution_count": 21,
   "metadata": {
    "ExecuteTime": {
     "end_time": "2018-02-25T19:22:16.619108Z",
     "start_time": "2018-02-25T19:22:16.609644Z"
    }
   },
   "outputs": [
    {
     "name": "stdout",
     "output_type": "stream",
     "text": [
      "Intervalle de confiance de base: [-2.6697072465769516, 7.683709882008846]\n"
     ]
    }
   ],
   "source": [
    "print(\"Intervalle de confiance de base:\",IC_base(alpha,X,Y,tau_star))"
   ]
  },
  {
   "cell_type": "markdown",
   "metadata": {},
   "source": [
    "On définit ci-dessous notre intervalle de confiance du percentile (\"IC_perc\") : "
   ]
  },
  {
   "cell_type": "code",
   "execution_count": 22,
   "metadata": {
    "ExecuteTime": {
     "end_time": "2018-02-25T19:22:16.646353Z",
     "start_time": "2018-02-25T19:22:16.623457Z"
    }
   },
   "outputs": [],
   "source": [
    "def IC_perc(alpha,x,y,theta):\n",
    "    A= []\n",
    "    A.append( theta[math.ceil(len(theta)*(alpha/2))] )\n",
    "    A.append( theta[math.ceil(len(theta)*(1-alpha/2))] )\n",
    "    return(A)"
   ]
  },
  {
   "cell_type": "code",
   "execution_count": 23,
   "metadata": {
    "ExecuteTime": {
     "end_time": "2018-02-25T19:22:16.659577Z",
     "start_time": "2018-02-25T19:22:16.649663Z"
    }
   },
   "outputs": [
    {
     "name": "stdout",
     "output_type": "stream",
     "text": [
      "Intervalle de confiance percentile: [1.9458663695535219, 12.299283498139319]\n"
     ]
    }
   ],
   "source": [
    "print(\"Intervalle de confiance percentile:\",IC_perc(alpha,X,Y,tau_star))"
   ]
  },
  {
   "cell_type": "markdown",
   "metadata": {},
   "source": [
    "On définit enfin, l'intervalle de confiance du t-boostrap (\"IC_t_boot\") :"
   ]
  },
  {
   "cell_type": "code",
   "execution_count": 24,
   "metadata": {
    "ExecuteTime": {
     "end_time": "2018-02-25T19:22:16.687581Z",
     "start_time": "2018-02-25T19:22:16.663752Z"
    }
   },
   "outputs": [],
   "source": [
    "def IC_t_boot(alpha,x,y,theta):\n",
    "    A= []\n",
    "    sigma_F=np.sqrt( np.var(x/np.sqrt(np.var(x)/np.mean(y)**2+\n",
    "                                    np.mean(x)*np.var(y)/np.mean(y)**4) ) )\n",
    "    \n",
    "    A.append( tau_hat(x,y) - sigma_F*theta[math.ceil(len(theta)*(1-alpha/2))]/np.sqrt(n) )\n",
    "    A.append( tau_hat(x,y) - sigma_F*theta[math.ceil(len(theta)*(alpha/2))]/np.sqrt(n)  )\n",
    "    return(A)"
   ]
  },
  {
   "cell_type": "code",
   "execution_count": 25,
   "metadata": {
    "ExecuteTime": {
     "end_time": "2018-02-25T19:22:16.703605Z",
     "start_time": "2018-02-25T19:22:16.691927Z"
    }
   },
   "outputs": [
    {
     "name": "stdout",
     "output_type": "stream",
     "text": [
      "Intervalle de confiance t-bootstrap: [-7.314690220336636, 7.556644526137523]\n"
     ]
    }
   ],
   "source": [
    "print(\"Intervalle de confiance t-bootstrap:\",IC_t_boot(alpha,X,Y,S_star))"
   ]
  },
  {
   "cell_type": "markdown",
   "metadata": {},
   "source": [
    "### Comparaison des IC"
   ]
  },
  {
   "cell_type": "markdown",
   "metadata": {},
   "source": [
    "Dans cette partie nous allons comparer par Monte Carlo les performances des différents intervalles de confiances obtenus par les trois fonctions précédentes, en considérant la moyenne des bornes inf et sup de ces intervalles."
   ]
  },
  {
   "cell_type": "code",
   "execution_count": 26,
   "metadata": {
    "ExecuteTime": {
     "end_time": "2018-02-25T19:27:21.657142Z",
     "start_time": "2018-02-25T19:22:16.708292Z"
    }
   },
   "outputs": [],
   "source": [
    "#Monte Carlo \n",
    "M=1000\n",
    "tau_star=np.zeros(B)\n",
    "S_star=np.zeros(B)\n",
    "tau_hat_val=tau_hat(X,Y)\n",
    "\n",
    "#intervalles de confiance\n",
    "IC_base_list=[]\n",
    "IC_perc_list=[]\n",
    "IC_boot_list=[]\n",
    "\n",
    "for m in range(M):\n",
    "    X=npr.gamma(p,1/theta,size=n)\n",
    "    Y=npr.gamma(q,1/kappa,size=n)\n",
    "    for b in range(B):\n",
    "        \n",
    "        ind=npr.randint(0,n,n)\n",
    "        sample_X=X[ind]\n",
    "        sample_Y=Y[ind]\n",
    "        tau_star[b]=tau_hat(sample_X,sample_Y)\n",
    "        var_hat=np.var(sample_X/np.sqrt(np.var(sample_X)/np.mean(sample_Y)**2+\n",
    "                                   np.mean(sample_X)*np.var(sample_Y)/np.mean(sample_Y)**4) )\n",
    "        S_star[b]=np.sqrt(n)*(tau_star[b]-tau_hat_val)/np.sqrt(var_hat)\n",
    "   #ordonne les paramètres estimés\n",
    "    tau_star=np.sort(tau_star)\n",
    "    S_star=np.sort(S_star)\n",
    "    IC_base_list.append(IC_base(alpha,X,Y,tau_star))\n",
    "    IC_perc_list.append(IC_perc(alpha,X,Y,tau_star))\n",
    "    IC_boot_list.append(IC_t_boot(alpha,X,Y,S_star))"
   ]
  },
  {
   "cell_type": "code",
   "execution_count": 27,
   "metadata": {
    "ExecuteTime": {
     "end_time": "2018-02-25T19:27:21.692256Z",
     "start_time": "2018-02-25T19:27:21.660001Z"
    }
   },
   "outputs": [],
   "source": [
    "#crée listes contenant les IC de chaque méthode, pour chaque itération de Monte Carlo m=1...M\n",
    "inf_base=np.zeros(M)\n",
    "inf_perc=np.zeros(M)\n",
    "inf_boot=np.zeros(M)\n",
    "sup_base=np.zeros(M)\n",
    "sup_perc=np.zeros(M)\n",
    "sup_boot=np.zeros(M)\n",
    "\n",
    "for m in range(M):\n",
    "    inf_base[m]= IC_base_list[m][0]\n",
    "    inf_perc[m]= IC_perc_list[m][0]\n",
    "    inf_boot[m]= IC_boot_list[m][0]\n",
    "    sup_base[m]= IC_base_list[m][1]\n",
    "    sup_perc[m]= IC_perc_list[m][1]\n",
    "    sup_boot[m]= IC_boot_list[m][1]"
   ]
  },
  {
   "cell_type": "code",
   "execution_count": 28,
   "metadata": {
    "ExecuteTime": {
     "end_time": "2018-02-25T19:27:21.710821Z",
     "start_time": "2018-02-25T19:27:21.696360Z"
    }
   },
   "outputs": [
    {
     "name": "stdout",
     "output_type": "stream",
     "text": [
      " borne inf IC base -0.9577278648618847 \n",
      " borne inf IC percentile 0.9054538248784988 \n",
      " borne inf IC t-bootstrap 0.15333020663162683\n"
     ]
    }
   ],
   "source": [
    "#comparaison des bornes inf moyennes pour chacune des méthodes de calcul des IC\n",
    "print(\" borne inf IC base\",np.mean(inf_base),\"\\n borne inf IC percentile\",np.mean(inf_perc),\"\\n borne inf IC t-bootstrap\",np.mean(inf_boot))"
   ]
  },
  {
   "cell_type": "code",
   "execution_count": 29,
   "metadata": {
    "ExecuteTime": {
     "end_time": "2018-02-25T19:27:21.727675Z",
     "start_time": "2018-02-25T19:27:21.715002Z"
    }
   },
   "outputs": [
    {
     "name": "stdout",
     "output_type": "stream",
     "text": [
      " borne sup IC base 3.545895389708314 \n",
      " borne sup IC percentile 5.409077079448696 \n",
      " borne sup IC t-bootstrap 6.849733021602348\n"
     ]
    }
   ],
   "source": [
    "#comparaison des bornes sup moyennes pour chacune des méthodes de calcul des IC\n",
    "print(\" borne sup IC base\",np.mean(sup_base),\"\\n borne sup IC percentile\",np.mean(sup_perc),\"\\n borne sup IC t-bootstrap\",np.mean(sup_boot))"
   ]
  },
  {
   "cell_type": "markdown",
   "metadata": {},
   "source": [
    "On constate que l'intervalle de confiance par t-boostrap est plus large et est le moins centré (excentré vers la gauche). Les intervalles de confiance basique et les intervalles de confiance percentile ont une longueur proche mais l'intervalle de confiance basique semble \"mieux\" centré autour de la valeur théorique."
   ]
  },
  {
   "cell_type": "markdown",
   "metadata": {},
   "source": [
    "Nous observons ci dessous de manière plus fine la distribution de ces bornes : "
   ]
  },
  {
   "cell_type": "code",
   "execution_count": 30,
   "metadata": {
    "ExecuteTime": {
     "end_time": "2018-02-25T19:27:26.484028Z",
     "start_time": "2018-02-25T19:27:21.732167Z"
    }
   },
   "outputs": [
    {
     "data": {
      "image/png": "[encoded data removed]",
      "text/plain": [
       "<matplotlib.figure.Figure at 0x110895828>"
      ]
     },
     "metadata": {},
     "output_type": "display_data"
    }
   ],
   "source": [
    "fig=plt.figure(figsize=(18,10))\n",
    "\n",
    "plt.suptitle(\"Comparaison des bornes inférieures et supérieures \\n en fonction des différentes méthodes d'intervalle de confiance\",\n",
    "           fontweight='bold',size=16)\n",
    "\n",
    "plt.subplot(231)\n",
    "plt.hist(inf_base,bins=200,color=\"blue\")\n",
    "plt.xlim(np.percentile(inf_base,5),np.percentile(inf_base,95))\n",
    "plt.title(\"IC base borne inf\",fontweight='bold')\n",
    "\n",
    "plt.subplot(232)\n",
    "plt.hist(inf_perc,bins=200,color=\"red\")\n",
    "plt.xlim(np.percentile(inf_perc,5),np.percentile(inf_perc,95))\n",
    "plt.title(\"IC percentile borne inf\",fontweight='bold')\n",
    "\n",
    "plt.subplot(233)\n",
    "plt.hist(inf_boot,bins=200,color=\"orange\")\n",
    "plt.xlim(np.percentile(inf_boot,5),np.percentile(inf_boot,95))\n",
    "plt.title(\"IC t-bootstrap borne inf\",fontweight='bold')\n",
    "\n",
    "plt.subplot(234)\n",
    "plt.hist(sup_base,bins=200,color='blue')\n",
    "plt.xlim(np.percentile(sup_base,5),np.percentile(sup_base,95))\n",
    "plt.title(\"IC base borne sup\",fontweight='bold')\n",
    "\n",
    "plt.subplot(235)\n",
    "plt.hist(sup_perc,bins=200,color='red')\n",
    "plt.xlim(np.percentile(sup_perc,5),np.percentile(sup_perc,95))\n",
    "plt.title(\"IC percentile borne sup\",fontweight='bold')\n",
    "\n",
    "plt.subplot(236)\n",
    "plt.hist(sup_boot,bins=200,color='orange')\n",
    "plt.xlim(np.percentile(sup_boot,5),np.percentile(sup_boot,95))\n",
    "plt.title(\"IC t-bootstrap borne sup\",fontweight='bold')\n",
    "\n",
    "plt.show()\n",
    "\n"
   ]
  },
  {
   "cell_type": "markdown",
   "metadata": {},
   "source": [
    "Globalement, on constate qu'aucune des trois méthodes ne permet d'approximer de manière fine à la fois la borne sup et la borne inf de l'intervalle de confiance."
   ]
  },
  {
   "cell_type": "markdown",
   "metadata": {},
   "source": [
    "### Tests par bootstrap"
   ]
  },
  {
   "cell_type": "markdown",
   "metadata": {},
   "source": [
    "On teste: $H_{0}: \\tau=2$"
   ]
  },
  {
   "cell_type": "markdown",
   "metadata": {},
   "source": [
    "* Niveaux de tests par IC"
   ]
  },
  {
   "cell_type": "code",
   "execution_count": 31,
   "metadata": {
    "ExecuteTime": {
     "end_time": "2018-02-25T19:27:26.864243Z",
     "start_time": "2018-02-25T19:27:26.487812Z"
    }
   },
   "outputs": [],
   "source": [
    "X=npr.gamma(p,1/theta,size=n)\n",
    "Y=npr.gamma(q,1/kappa,size=n)\n",
    "#Bootstrap\n",
    "B=1000\n",
    "tau_star=np.zeros(B)\n",
    "S_star=np.zeros(B)\n",
    "tau_hat_val=tau_hat(X,Y)\n",
    "for b in range(B):\n",
    "    ind=npr.randint(0,n,n)\n",
    "    sample_X=X[ind]\n",
    "    sample_Y=Y[ind]\n",
    "    tau_star[b]=tau_hat(sample_X,sample_Y)\n",
    "    var_hat=np.var(sample_X/np.sqrt(np.var(sample_X)/np.mean(sample_Y)**2+\n",
    "                                    np.mean(sample_X)*np.var(sample_Y)/np.mean(sample_Y)**4) )\n",
    "    S_star[b]=np.sqrt(n)*(tau_star[b]-tau_hat_val)/np.sqrt(var_hat)\n",
    "\n",
    "#ordonne les paramètres estimés\n",
    "tau_star=np.sort(tau_star)\n",
    "S_star=np.sort(S_star)"
   ]
  },
  {
   "cell_type": "code",
   "execution_count": 32,
   "metadata": {
    "ExecuteTime": {
     "end_time": "2018-02-25T19:27:26.902780Z",
     "start_time": "2018-02-25T19:27:26.867325Z"
    }
   },
   "outputs": [],
   "source": [
    "#H_0: tau=2\n",
    "#calculons les p-value pour chaque IC\n",
    "def p_value(x,y,theta_0,S_star):\n",
    "    theta_hat=tau_hat(x,y)\n",
    "    sigma_F=np.sqrt( np.var(x/np.sqrt(np.var(x)/np.mean(y)**2+\n",
    "                                    np.mean(x)*np.var(y)/np.mean(y)**4) ) )\n",
    "    S_bar=np.sqrt(n)*(theta_hat-theta_0)/(sigma_F)\n",
    "    return( ( len(S_star[S_star > S_bar])+1 ) / (B+1) )"
   ]
  },
  {
   "cell_type": "code",
   "execution_count": 33,
   "metadata": {
    "ExecuteTime": {
     "end_time": "2018-02-25T19:27:26.920649Z",
     "start_time": "2018-02-25T19:27:26.908061Z"
    }
   },
   "outputs": [
    {
     "name": "stdout",
     "output_type": "stream",
     "text": [
      "0.7132867132867133\n"
     ]
    }
   ],
   "source": [
    "theta_0=2\n",
    "p_value=p_value(X,Y,theta_0,S_star)\n",
    "print(p_value)"
   ]
  },
  {
   "cell_type": "code",
   "execution_count": 34,
   "metadata": {
    "ExecuteTime": {
     "end_time": "2018-02-25T19:27:26.936601Z",
     "start_time": "2018-02-25T19:27:26.924946Z"
    }
   },
   "outputs": [
    {
     "name": "stdout",
     "output_type": "stream",
     "text": [
      "Intervalle de confiance de base avec p-value: [-0.36537962159516235, 2.3959154474676114]\n"
     ]
    }
   ],
   "source": [
    "print(\"Intervalle de confiance de base avec p-value:\",IC_base(1-p_value,X,Y,tau_star))"
   ]
  },
  {
   "cell_type": "code",
   "execution_count": 35,
   "metadata": {
    "ExecuteTime": {
     "end_time": "2018-02-25T19:27:26.952981Z",
     "start_time": "2018-02-25T19:27:26.940977Z"
    }
   },
   "outputs": [
    {
     "name": "stdout",
     "output_type": "stream",
     "text": [
      "Intervalle de confiance percentile avec p-value: [0.7720666525372663, 3.53336172160004]\n"
     ]
    }
   ],
   "source": [
    "print(\"Intervalle de confiance percentile avec p-value:\",IC_perc(1-p_value,X,Y,tau_star))"
   ]
  },
  {
   "cell_type": "code",
   "execution_count": 36,
   "metadata": {
    "ExecuteTime": {
     "end_time": "2018-02-25T19:27:26.967721Z",
     "start_time": "2018-02-25T19:27:26.957193Z"
    }
   },
   "outputs": [
    {
     "name": "stdout",
     "output_type": "stream",
     "text": [
      "Intervalle de confiance t-bootstrap avec p-value: [-1.605590476679204, 2.236249216617016]\n"
     ]
    }
   ],
   "source": [
    "print(\"Intervalle de confiance t-bootstrap avec p-value:\",IC_t_boot(1-p_value,X,Y,S_star))"
   ]
  },
  {
   "cell_type": "markdown",
   "metadata": {},
   "source": [
    "* Puissance des tests $H_{1}: \\tau=3$"
   ]
  },
  {
   "cell_type": "code",
   "execution_count": 37,
   "metadata": {
    "ExecuteTime": {
     "end_time": "2018-02-25T19:27:27.000511Z",
     "start_time": "2018-02-25T19:27:26.971523Z"
    }
   },
   "outputs": [],
   "source": [
    "p=0.7\n",
    "theta=0.007\n",
    "q=1\n",
    "kappa=0.03\n",
    "alpha=0.05"
   ]
  },
  {
   "cell_type": "code",
   "execution_count": 38,
   "metadata": {
    "ExecuteTime": {
     "end_time": "2018-02-25T19:27:27.011729Z",
     "start_time": "2018-02-25T19:27:27.004221Z"
    }
   },
   "outputs": [],
   "source": [
    "#puissance = proba que H_0 soit rejeté et que H_0 soit faux (vrai négatif) = 1 -  beta\n",
    "#Pour chaque type d'interval, calcul des quantiles sur loi gamma ?\n"
   ]
  }
 ],
 "metadata": {
  "anaconda-cloud": {},
  "kernelspec": {
   "display_name": "Python [default]",
   "language": "python",
   "name": "python3"
  },
  "language_info": {
   "codemirror_mode": {
    "name": "ipython",
    "version": 3
   },
   "file_extension": ".py",
   "mimetype": "text/x-python",
   "name": "python",
   "nbconvert_exporter": "python",
   "pygments_lexer": "ipython3",
   "version": "3.5.4"
  }
 },
 "nbformat": 4,
 "nbformat_minor": 2
}
