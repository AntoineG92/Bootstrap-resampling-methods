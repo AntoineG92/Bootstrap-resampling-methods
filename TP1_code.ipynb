{
 "cells": [
  {
   "cell_type": "markdown",
   "metadata": {},
   "source": [
    "# <center> Bootstrap TP1\n",
    "<b>Antoine GRELETY</b>\n",
    "<b>Vincent LE MEUR</b>"
   ]
  },
  {
   "cell_type": "markdown",
   "metadata": {},
   "source": [
    "## Importation des librairies et des données"
   ]
  },
  {
   "cell_type": "code",
   "execution_count": 1,
   "metadata": {
    "ExecuteTime": {
     "end_time": "2018-02-25T16:10:44.785480Z",
     "start_time": "2018-02-25T16:10:22.160482Z"
    },
    "collapsed": true
   },
   "outputs": [],
   "source": [
    "import numpy as np\n",
    "import numpy.random as npr\n",
    "import pandas as pd\n",
    "from matplotlib import pyplot as plt\n",
    "from scipy.stats import norm\n",
    "import math"
   ]
  },
  {
   "cell_type": "code",
   "execution_count": 4,
   "metadata": {
    "ExecuteTime": {
     "end_time": "2018-02-25T16:11:00.042906Z",
     "start_time": "2018-02-25T16:10:59.952205Z"
    },
    "collapsed": true
   },
   "outputs": [],
   "source": [
    "#law=pd.read_csv(\"/Users/antoinegrelety/Documents/ENSAE/S2_Bootstrap/TP1/lsat.dat\")\n",
    "law=pd.read_table(\"lsat.dat\",sep=\" \")"
   ]
  },
  {
   "cell_type": "code",
   "execution_count": 3,
   "metadata": {
    "ExecuteTime": {
     "end_time": "2018-02-25T16:11:04.114206Z",
     "start_time": "2018-02-25T16:11:04.026933Z"
    }
   },
   "outputs": [
    {
     "data": {
      "text/html": [
       "<div>\n",
       "<style>\n",
       "    .dataframe thead tr:only-child th {\n",
       "        text-align: right;\n",
       "    }\n",
       "\n",
       "    .dataframe thead th {\n",
       "        text-align: left;\n",
       "    }\n",
       "\n",
       "    .dataframe tbody tr th {\n",
       "        vertical-align: top;\n",
       "    }\n",
       "</style>\n",
       "<table border=\"1\" class=\"dataframe\">\n",
       "  <thead>\n",
       "    <tr style=\"text-align: right;\">\n",
       "      <th></th>\n",
       "      <th>LSAT</th>\n",
       "      <th>GPA</th>\n",
       "    </tr>\n",
       "  </thead>\n",
       "  <tbody>\n",
       "    <tr>\n",
       "      <th>0</th>\n",
       "      <td>576</td>\n",
       "      <td>3.39</td>\n",
       "    </tr>\n",
       "    <tr>\n",
       "      <th>1</th>\n",
       "      <td>635</td>\n",
       "      <td>3.30</td>\n",
       "    </tr>\n",
       "    <tr>\n",
       "      <th>2</th>\n",
       "      <td>558</td>\n",
       "      <td>2.81</td>\n",
       "    </tr>\n",
       "    <tr>\n",
       "      <th>3</th>\n",
       "      <td>578</td>\n",
       "      <td>3.03</td>\n",
       "    </tr>\n",
       "    <tr>\n",
       "      <th>4</th>\n",
       "      <td>666</td>\n",
       "      <td>3.44</td>\n",
       "    </tr>\n",
       "  </tbody>\n",
       "</table>\n",
       "</div>"
      ],
      "text/plain": [
       "   LSAT   GPA\n",
       "0   576  3.39\n",
       "1   635  3.30\n",
       "2   558  2.81\n",
       "3   578  3.03\n",
       "4   666  3.44"
      ]
     },
     "execution_count": 3,
     "metadata": {},
     "output_type": "execute_result"
    }
   ],
   "source": [
    "law.head()"
   ]
  },
  {
   "cell_type": "code",
   "execution_count": 4,
   "metadata": {
    "ExecuteTime": {
     "end_time": "2018-02-25T16:11:22.922999Z",
     "start_time": "2018-02-25T16:11:22.916723Z"
    },
    "collapsed": true
   },
   "outputs": [],
   "source": [
    "n=law.shape[0]"
   ]
  },
  {
   "cell_type": "code",
   "execution_count": 5,
   "metadata": {
    "ExecuteTime": {
     "end_time": "2018-02-25T16:11:24.995031Z",
     "start_time": "2018-02-25T16:11:24.945673Z"
    },
    "collapsed": true
   },
   "outputs": [],
   "source": [
    "LSAT=np.array(law[\"LSAT\"])\n",
    "GPA=np.array(law[\"GPA\"])"
   ]
  },
  {
   "cell_type": "code",
   "execution_count": 6,
   "metadata": {
    "ExecuteTime": {
     "end_time": "2018-02-25T16:11:34.358403Z",
     "start_time": "2018-02-25T16:11:34.353579Z"
    },
    "collapsed": true
   },
   "outputs": [],
   "source": [
    "law=np.array(law)"
   ]
  },
  {
   "cell_type": "markdown",
   "metadata": {},
   "source": [
    "## Partie 1 :  Estimateurs bootstrap"
   ]
  },
  {
   "cell_type": "markdown",
   "metadata": {},
   "source": [
    "### Estimateur bootstrap de la variance de la corrélation"
   ]
  },
  {
   "cell_type": "code",
   "execution_count": 147,
   "metadata": {
    "ExecuteTime": {
     "end_time": "2018-02-25T16:12:10.236102Z",
     "start_time": "2018-02-25T16:12:10.191143Z"
    }
   },
   "outputs": [
    {
     "name": "stdout",
     "output_type": "stream",
     "text": [
      "[3 5 5 8 7 2 1 2 7 2 2 9 2 1 9]\n"
     ]
    }
   ],
   "source": [
    "ind=npr.randint(0,n,15)\n",
    "print(ind)"
   ]
  },
  {
   "cell_type": "code",
   "execution_count": 148,
   "metadata": {
    "ExecuteTime": {
     "end_time": "2018-02-25T16:12:16.376950Z",
     "start_time": "2018-02-25T16:12:16.355104Z"
    },
    "collapsed": true
   },
   "outputs": [],
   "source": [
    "sample=law[ind,:]"
   ]
  },
  {
   "cell_type": "code",
   "execution_count": 2,
   "metadata": {},
   "outputs": [
    {
     "ename": "NameError",
     "evalue": "name 'n' is not defined",
     "output_type": "error",
     "traceback": [
      "\u001b[0;31m---------------------------------------------------------------------------\u001b[0m",
      "\u001b[0;31mNameError\u001b[0m                                 Traceback (most recent call last)",
      "\u001b[0;32m<ipython-input-2-a21324c9586e>\u001b[0m in \u001b[0;36m<module>\u001b[0;34m()\u001b[0m\n\u001b[1;32m      2\u001b[0m \u001b[0mcorr_star\u001b[0m\u001b[0;34m=\u001b[0m\u001b[0mnp\u001b[0m\u001b[0;34m.\u001b[0m\u001b[0mzeros\u001b[0m\u001b[0;34m(\u001b[0m\u001b[0mB\u001b[0m\u001b[0;34m)\u001b[0m\u001b[0;34m\u001b[0m\u001b[0m\n\u001b[1;32m      3\u001b[0m \u001b[0;32mfor\u001b[0m \u001b[0mb\u001b[0m \u001b[0;32min\u001b[0m \u001b[0mrange\u001b[0m\u001b[0;34m(\u001b[0m\u001b[0mB\u001b[0m\u001b[0;34m)\u001b[0m\u001b[0;34m:\u001b[0m\u001b[0;34m\u001b[0m\u001b[0m\n\u001b[0;32m----> 4\u001b[0;31m     \u001b[0mind\u001b[0m\u001b[0;34m=\u001b[0m\u001b[0mnpr\u001b[0m\u001b[0;34m.\u001b[0m\u001b[0mrandint\u001b[0m\u001b[0;34m(\u001b[0m\u001b[0;36m0\u001b[0m\u001b[0;34m,\u001b[0m\u001b[0mn\u001b[0m\u001b[0;34m,\u001b[0m\u001b[0;36m15\u001b[0m\u001b[0;34m)\u001b[0m\u001b[0;34m\u001b[0m\u001b[0m\n\u001b[0m\u001b[1;32m      5\u001b[0m     \u001b[0msample_b\u001b[0m\u001b[0;34m=\u001b[0m\u001b[0mlaw\u001b[0m\u001b[0;34m[\u001b[0m\u001b[0mind\u001b[0m\u001b[0;34m,\u001b[0m\u001b[0;34m:\u001b[0m\u001b[0;34m]\u001b[0m\u001b[0;34m\u001b[0m\u001b[0m\n\u001b[1;32m      6\u001b[0m     \u001b[0mcorr_star\u001b[0m\u001b[0;34m[\u001b[0m\u001b[0mb\u001b[0m\u001b[0;34m]\u001b[0m\u001b[0;34m=\u001b[0m\u001b[0mnp\u001b[0m\u001b[0;34m.\u001b[0m\u001b[0mcorrcoef\u001b[0m\u001b[0;34m(\u001b[0m\u001b[0mLSAT\u001b[0m\u001b[0;34m[\u001b[0m\u001b[0mind\u001b[0m\u001b[0;34m]\u001b[0m\u001b[0;34m,\u001b[0m\u001b[0mGPA\u001b[0m\u001b[0;34m[\u001b[0m\u001b[0mind\u001b[0m\u001b[0;34m]\u001b[0m\u001b[0;34m)\u001b[0m\u001b[0;34m[\u001b[0m\u001b[0;36m0\u001b[0m\u001b[0;34m,\u001b[0m\u001b[0;36m1\u001b[0m\u001b[0;34m]\u001b[0m\u001b[0;34m\u001b[0m\u001b[0m\n",
      "\u001b[0;31mNameError\u001b[0m: name 'n' is not defined"
     ]
    }
   ],
   "source": [
    "B=200\n",
    "corr_star=np.zeros(B)\n",
    "for b in range(B):\n",
    "    ind=npr.randint(0,n,15)\n",
    "    sample_b=law[ind,:]\n",
    "    corr_star[b]=np.corrcoef(LSAT[ind],GPA[ind])[0,1]\n",
    "    #print(corr_star[b])"
   ]
  },
  {
   "cell_type": "code",
   "execution_count": 150,
   "metadata": {},
   "outputs": [
    {
     "name": "stdout",
     "output_type": "stream",
     "text": [
      "estimateur bootstrap: 0.0169684904212\n"
     ]
    }
   ],
   "source": [
    "print(\"estimateur bootstrap:\",np.var(corr_star))"
   ]
  },
  {
   "cell_type": "markdown",
   "metadata": {},
   "source": [
    "### Médiane"
   ]
  },
  {
   "cell_type": "code",
   "execution_count": 25,
   "metadata": {},
   "outputs": [
    {
     "name": "stdout",
     "output_type": "stream",
     "text": [
      "0.0705616341882\n"
     ]
    }
   ],
   "source": [
    "#Z_size=[100,1000,10000]\n",
    "Z_size=[10]\n",
    "B=10000\n",
    "\n",
    "for c in Z_size:\n",
    "    Z=npr.exponential(size=c)\n",
    "    med_star=np.zeros(B)\n",
    "    med=np.zeros(B)\n",
    "    for b in range(B):\n",
    "        ind=npr.randint(0,len(Z),len(Z))\n",
    "        sample_b=Z[ind]\n",
    "        med_star[b]=np.median(sample_b)\n",
    "    print(np.var(med_star))"
   ]
  },
  {
   "cell_type": "markdown",
   "metadata": {},
   "source": [
    "### Estimation de la fonction de répartition"
   ]
  },
  {
   "cell_type": "code",
   "execution_count": 26,
   "metadata": {
    "collapsed": true
   },
   "outputs": [],
   "source": [
    "Z=npr.exponential(size=10)\n",
    "med_Z=np.median(Z)"
   ]
  },
  {
   "cell_type": "markdown",
   "metadata": {},
   "source": [
    "Fonction de répartition de la médiane empirique"
   ]
  },
  {
   "cell_type": "code",
   "execution_count": 27,
   "metadata": {},
   "outputs": [
    {
     "name": "stdout",
     "output_type": "stream",
     "text": [
      "médiane via MC: 0.746615197946\n"
     ]
    }
   ],
   "source": [
    "M=10000\n",
    "med_MC=np.zeros(M)\n",
    "for m in range(M):\n",
    "        Z=npr.exponential(size=10)\n",
    "        med_MC[m]=np.median(Z)\n",
    "print(\"médiane via MC:\",np.mean(med_MC))"
   ]
  },
  {
   "cell_type": "markdown",
   "metadata": {},
   "source": [
    "Fonction de répartition de l'approximation asymptotique gaussienne"
   ]
  },
  {
   "cell_type": "code",
   "execution_count": 28,
   "metadata": {},
   "outputs": [
    {
     "data": {
      "image/png": "[encoded data removed]",
      "text/plain": [
       "<matplotlib.figure.Figure at 0x111a310b8>"
      ]
     },
     "metadata": {},
     "output_type": "display_data"
    }
   ],
   "source": [
    "plt.plot(np.sqrt(len(Z))*(np.sort(med_MC)-np.log(2)),(1/M)*np.arange(M))\n",
    "gridnorm=np.arange(-2,5,0.01)\n",
    "plt.plot(gridnorm,norm.cdf(gridnorm))\n",
    "plt.plot(np.sqrt(len(Z))*(np.sort(med_star)-med_Z),(1/B)*np.arange(B))\n",
    "plt.legend([\"Monte Carlo\",\"Approx. gaussienne\",\"Estimateurs bootstrapés\"])\n",
    "plt.show()"
   ]
  },
  {
   "cell_type": "markdown",
   "metadata": {},
   "source": [
    "## Partie 2: intervalles de confiance"
   ]
  },
  {
   "cell_type": "code",
   "execution_count": 2,
   "metadata": {
    "collapsed": true
   },
   "outputs": [],
   "source": [
    "n=10\n",
    "p=0.7\n",
    "theta=0.007\n",
    "q=1\n",
    "kappa=0.02\n",
    "alpha=0.05\n",
    "tau=(p*kappa)/(q*theta)"
   ]
  },
  {
   "cell_type": "code",
   "execution_count": 3,
   "metadata": {
    "collapsed": true
   },
   "outputs": [],
   "source": [
    "X=npr.gamma(p,1/theta,size=n)\n",
    "Y=npr.gamma(q,1/kappa,size=n)"
   ]
  },
  {
   "cell_type": "code",
   "execution_count": 4,
   "metadata": {
    "collapsed": true
   },
   "outputs": [],
   "source": [
    "def tau_hat(x,y):\n",
    "    return(np.mean(x)/np.mean(y))"
   ]
  },
  {
   "cell_type": "markdown",
   "metadata": {},
   "source": [
    "### IC par bootstrap"
   ]
  },
  {
   "cell_type": "code",
   "execution_count": 5,
   "metadata": {
    "collapsed": true
   },
   "outputs": [],
   "source": [
    "def sigma_hat(x,y):\n",
    "    return  np.sqrt( np.var(x)/(np.mean(y**2)) + (np.mean(x**2)/np.mean(y**4))*np.var(y) )"
   ]
  },
  {
   "cell_type": "code",
   "execution_count": 6,
   "metadata": {
    "collapsed": true
   },
   "outputs": [],
   "source": [
    "def ICAN(alpha,X,Y):\n",
    "    A= []\n",
    "    A.append(tau_hat(X,Y)-sigma_hat(X,Y)/np.sqrt(n)*norm.ppf(1-alpha/2))\n",
    "    A.append(tau_hat(X,Y)+sigma_hat(X,Y)/np.sqrt(n)*norm.ppf(1-alpha/2))\n",
    "    return A"
   ]
  },
  {
   "cell_type": "code",
   "execution_count": 7,
   "metadata": {},
   "outputs": [
    {
     "name": "stdout",
     "output_type": "stream",
     "text": [
      "[0.65047998342199498, 2.2056536196001755]\n",
      "1.42806680151\n"
     ]
    }
   ],
   "source": [
    "print(ICAN(alpha,X,Y))\n",
    "print(tau_hat(X,Y))"
   ]
  },
  {
   "cell_type": "code",
   "execution_count": 8,
   "metadata": {},
   "outputs": [],
   "source": [
    "#Bootstrap\n",
    "B=1000\n",
    "tau_star=np.zeros(B)\n",
    "S_star=np.zeros(B)\n",
    "tau_hat_val=tau_hat(X,Y)\n",
    "for b in range(B):\n",
    "    ind=npr.randint(0,n,n)\n",
    "    sample_X=X[ind]\n",
    "    sample_Y=Y[ind]\n",
    "    tau_star[b]=tau_hat(sample_X,sample_Y)\n",
    "    var_hat=np.var(sample_X/np.sqrt(np.var(sample_X)/np.mean(sample_Y)**2+\n",
    "                                    np.mean(sample_X)*np.var(sample_Y)/np.mean(sample_Y)**4) )\n",
    "    S_star[b]=np.sqrt(n)*(tau_star[b]-tau_hat_val)/np.sqrt(var_hat)\n",
    "\n",
    "#ordonne les paramètres estimés\n",
    "tau_star=np.sort(tau_star)\n",
    "S_star=np.sort(S_star)"
   ]
  },
  {
   "cell_type": "code",
   "execution_count": 9,
   "metadata": {
    "collapsed": true
   },
   "outputs": [],
   "source": [
    "def IC_base(alpha,x,y,theta):\n",
    "    A= []\n",
    "    A.append( 2*tau_hat(x,y)-theta[math.ceil(len(theta)*(1-alpha/2))] )\n",
    "    A.append( 2*tau_hat(x,y)-theta[math.ceil(len(theta)*(alpha/2))] )\n",
    "    return(A)"
   ]
  },
  {
   "cell_type": "code",
   "execution_count": 10,
   "metadata": {},
   "outputs": [
    {
     "name": "stdout",
     "output_type": "stream",
     "text": [
      "Intervalle de confiance de base: [0.19465066469947079, 2.2065647588127359]\n"
     ]
    }
   ],
   "source": [
    "print(\"Intervalle de confiance de base:\",IC_base(alpha,X,Y,tau_star))"
   ]
  },
  {
   "cell_type": "code",
   "execution_count": 11,
   "metadata": {
    "collapsed": true
   },
   "outputs": [],
   "source": [
    "def IC_perc(alpha,x,y,theta):\n",
    "    A= []\n",
    "    A.append( theta[math.ceil(len(theta)*(alpha/2))] )\n",
    "    A.append( theta[math.ceil(len(theta)*(1-alpha/2))] )\n",
    "    return(A)"
   ]
  },
  {
   "cell_type": "code",
   "execution_count": 12,
   "metadata": {},
   "outputs": [
    {
     "name": "stdout",
     "output_type": "stream",
     "text": [
      "Intervalle de confiance percentile: [0.64956884420943461, 2.6614829383226999]\n"
     ]
    }
   ],
   "source": [
    "print(\"Intervalle de confiance percentile:\",IC_perc(alpha,X,Y,tau_star))"
   ]
  },
  {
   "cell_type": "code",
   "execution_count": 13,
   "metadata": {
    "collapsed": true
   },
   "outputs": [],
   "source": [
    "def IC_t_boot(alpha,x,y,theta):\n",
    "    A= []\n",
    "    sigma_F=np.sqrt( np.var(x/np.sqrt(np.var(x)/np.mean(y)**2+\n",
    "                                    np.mean(x)*np.var(y)/np.mean(y)**4) ) )\n",
    "    \n",
    "    A.append( tau_hat(x,y) - sigma_F*theta[math.ceil(len(theta)*(1-alpha/2))]/np.sqrt(n) )\n",
    "    A.append( tau_hat(x,y) - sigma_F*theta[math.ceil(len(theta)*(alpha/2))]/np.sqrt(n)  )\n",
    "    return(A)"
   ]
  },
  {
   "cell_type": "code",
   "execution_count": 14,
   "metadata": {},
   "outputs": [
    {
     "name": "stdout",
     "output_type": "stream",
     "text": [
      "Intervalle de confiance t-bootstrap: [-0.51565114785864008, 2.2926772083574005]\n"
     ]
    }
   ],
   "source": [
    "print(\"Intervalle de confiance t-bootstrap:\",IC_t_boot(alpha,X,Y,S_star))"
   ]
  },
  {
   "cell_type": "markdown",
   "metadata": {},
   "source": [
    "### Comparaison des IC"
   ]
  },
  {
   "cell_type": "code",
   "execution_count": 92,
   "metadata": {},
   "outputs": [
    {
     "name": "stdout",
     "output_type": "stream",
     "text": [
      "m= 0\n",
      "m= 1\n",
      "m= 2\n",
      "m= 3\n",
      "m= 4\n",
      "m= 5\n",
      "m= 6\n",
      "m= 7\n",
      "m= 8\n",
      "m= 9\n",
      "m= 10\n",
      "m= 11\n",
      "m= 12\n",
      "m= 13\n",
      "m= 14\n",
      "m= 15\n",
      "m= 16\n",
      "m= 17\n",
      "m= 18\n",
      "m= 19\n",
      "m= 20\n",
      "m= 21\n",
      "m= 22\n",
      "m= 23\n",
      "m= 24\n",
      "m= 25\n",
      "m= 26\n",
      "m= 27\n",
      "m= 28\n",
      "m= 29\n",
      "m= 30\n",
      "m= 31\n",
      "m= 32\n",
      "m= 33\n",
      "m= 34\n",
      "m= 35\n",
      "m= 36\n",
      "m= 37\n",
      "m= 38\n",
      "m= 39\n",
      "m= 40\n",
      "m= 41\n",
      "m= 42\n",
      "m= 43\n",
      "m= 44\n",
      "m= 45\n",
      "m= 46\n",
      "m= 47\n",
      "m= 48\n",
      "m= 49\n",
      "m= 50\n",
      "m= 51\n",
      "m= 52\n",
      "m= 53\n",
      "m= 54\n",
      "m= 55\n",
      "m= 56\n",
      "m= 57\n",
      "m= 58\n",
      "m= 59\n",
      "m= 60\n",
      "m= 61\n",
      "m= 62\n",
      "m= 63\n",
      "m= 64\n",
      "m= 65\n",
      "m= 66\n",
      "m= 67\n",
      "m= 68\n",
      "m= 69\n",
      "m= 70\n",
      "m= 71\n",
      "m= 72\n",
      "m= 73\n",
      "m= 74\n",
      "m= 75\n",
      "m= 76\n",
      "m= 77\n",
      "m= 78\n",
      "m= 79\n",
      "m= 80\n",
      "m= 81\n",
      "m= 82\n",
      "m= 83\n",
      "m= 84\n",
      "m= 85\n",
      "m= 86\n",
      "m= 87\n",
      "m= 88\n",
      "m= 89\n",
      "m= 90\n",
      "m= 91\n",
      "m= 92\n",
      "m= 93\n",
      "m= 94\n",
      "m= 95\n",
      "m= 96\n",
      "m= 97\n",
      "m= 98\n",
      "m= 99\n",
      "m= 100\n",
      "m= 101\n",
      "m= 102\n",
      "m= 103\n",
      "m= 104\n",
      "m= 105\n",
      "m= 106\n",
      "m= 107\n",
      "m= 108\n",
      "m= 109\n",
      "m= 110\n",
      "m= 111\n",
      "m= 112\n",
      "m= 113\n",
      "m= 114\n",
      "m= 115\n",
      "m= 116\n",
      "m= 117\n",
      "m= 118\n",
      "m= 119\n",
      "m= 120\n",
      "m= 121\n",
      "m= 122\n",
      "m= 123\n",
      "m= 124\n",
      "m= 125\n",
      "m= 126\n",
      "m= 127\n",
      "m= 128\n",
      "m= 129\n",
      "m= 130\n",
      "m= 131\n",
      "m= 132\n",
      "m= 133\n",
      "m= 134\n",
      "m= 135\n",
      "m= 136\n",
      "m= 137\n",
      "m= 138\n",
      "m= 139\n",
      "m= 140\n",
      "m= 141\n",
      "m= 142\n",
      "m= 143\n",
      "m= 144\n",
      "m= 145\n",
      "m= 146\n",
      "m= 147\n",
      "m= 148\n",
      "m= 149\n",
      "m= 150\n",
      "m= 151\n",
      "m= 152\n",
      "m= 153\n",
      "m= 154\n",
      "m= 155\n",
      "m= 156\n",
      "m= 157\n",
      "m= 158\n",
      "m= 159\n",
      "m= 160\n",
      "m= 161\n",
      "m= 162\n",
      "m= 163\n",
      "m= 164\n",
      "m= 165\n",
      "m= 166\n",
      "m= 167\n",
      "m= 168\n",
      "m= 169\n",
      "m= 170\n",
      "m= 171\n",
      "m= 172\n",
      "m= 173\n",
      "m= 174\n",
      "m= 175\n",
      "m= 176\n",
      "m= 177\n",
      "m= 178\n",
      "m= 179\n",
      "m= 180\n",
      "m= 181\n",
      "m= 182\n",
      "m= 183\n",
      "m= 184\n",
      "m= 185\n",
      "m= 186\n",
      "m= 187\n",
      "m= 188\n",
      "m= 189\n",
      "m= 190\n",
      "m= 191\n",
      "m= 192\n",
      "m= 193\n",
      "m= 194\n",
      "m= 195\n",
      "m= 196\n",
      "m= 197\n",
      "m= 198\n",
      "m= 199\n",
      "m= 200\n",
      "m= 201\n",
      "m= 202\n",
      "m= 203\n",
      "m= 204\n",
      "m= 205\n",
      "m= 206\n",
      "m= 207\n",
      "m= 208\n",
      "m= 209\n",
      "m= 210\n",
      "m= 211\n",
      "m= 212\n",
      "m= 213\n",
      "m= 214\n",
      "m= 215\n",
      "m= 216\n",
      "m= 217\n",
      "m= 218\n",
      "m= 219\n",
      "m= 220\n",
      "m= 221\n",
      "m= 222\n",
      "m= 223\n",
      "m= 224\n",
      "m= 225\n",
      "m= 226\n",
      "m= 227\n",
      "m= 228\n",
      "m= 229\n",
      "m= 230\n",
      "m= 231\n",
      "m= 232\n",
      "m= 233\n",
      "m= 234\n",
      "m= 235\n",
      "m= 236\n",
      "m= 237\n",
      "m= 238\n",
      "m= 239\n",
      "m= 240\n",
      "m= 241\n",
      "m= 242\n",
      "m= 243\n",
      "m= 244\n",
      "m= 245\n",
      "m= 246\n",
      "m= 247\n",
      "m= 248\n",
      "m= 249\n",
      "m= 250\n",
      "m= 251\n",
      "m= 252\n",
      "m= 253\n",
      "m= 254\n",
      "m= 255\n",
      "m= 256\n",
      "m= 257\n",
      "m= 258\n",
      "m= 259\n",
      "m= 260\n",
      "m= 261\n",
      "m= 262\n",
      "m= 263\n",
      "m= 264\n",
      "m= 265\n",
      "m= 266\n",
      "m= 267\n",
      "m= 268\n",
      "m= 269\n",
      "m= 270\n",
      "m= 271\n",
      "m= 272\n",
      "m= 273\n",
      "m= 274\n",
      "m= 275\n",
      "m= 276\n",
      "m= 277\n",
      "m= 278\n",
      "m= 279\n",
      "m= 280\n",
      "m= 281\n",
      "m= 282\n",
      "m= 283\n",
      "m= 284\n",
      "m= 285\n",
      "m= 286\n",
      "m= 287\n",
      "m= 288\n",
      "m= 289\n",
      "m= 290\n",
      "m= 291\n",
      "m= 292\n",
      "m= 293\n",
      "m= 294\n",
      "m= 295\n",
      "m= 296\n",
      "m= 297\n",
      "m= 298\n",
      "m= 299\n",
      "m= 300\n",
      "m= 301\n",
      "m= 302\n",
      "m= 303\n",
      "m= 304\n",
      "m= 305\n",
      "m= 306\n",
      "m= 307\n",
      "m= 308\n",
      "m= 309\n",
      "m= 310\n",
      "m= 311\n",
      "m= 312\n",
      "m= 313\n",
      "m= 314\n",
      "m= 315\n",
      "m= 316\n",
      "m= 317\n",
      "m= 318\n",
      "m= 319\n",
      "m= 320\n",
      "m= 321\n",
      "m= 322\n",
      "m= 323\n",
      "m= 324\n",
      "m= 325\n",
      "m= 326\n",
      "m= 327\n",
      "m= 328\n",
      "m= 329\n",
      "m= 330\n",
      "m= 331\n",
      "m= 332\n",
      "m= 333\n",
      "m= 334\n",
      "m= 335\n",
      "m= 336\n",
      "m= 337\n",
      "m= 338\n",
      "m= 339\n",
      "m= 340\n",
      "m= 341\n",
      "m= 342\n",
      "m= 343\n",
      "m= 344\n",
      "m= 345\n",
      "m= 346\n",
      "m= 347\n",
      "m= 348\n",
      "m= 349\n",
      "m= 350\n",
      "m= 351\n",
      "m= 352\n",
      "m= 353\n",
      "m= 354\n",
      "m= 355\n",
      "m= 356\n",
      "m= 357\n",
      "m= 358\n",
      "m= 359\n",
      "m= 360\n",
      "m= 361\n",
      "m= 362\n",
      "m= 363\n",
      "m= 364\n",
      "m= 365\n",
      "m= 366\n",
      "m= 367\n",
      "m= 368\n",
      "m= 369\n",
      "m= 370\n",
      "m= 371\n",
      "m= 372\n",
      "m= 373\n",
      "m= 374\n",
      "m= 375\n",
      "m= 376\n",
      "m= 377\n",
      "m= 378\n",
      "m= 379\n",
      "m= 380\n",
      "m= 381\n",
      "m= 382\n",
      "m= 383\n",
      "m= 384\n",
      "m= 385\n",
      "m= 386\n",
      "m= 387\n",
      "m= 388\n",
      "m= 389\n",
      "m= 390\n",
      "m= 391\n",
      "m= 392\n",
      "m= 393\n",
      "m= 394\n",
      "m= 395\n",
      "m= 396\n",
      "m= 397\n",
      "m= 398\n",
      "m= 399\n",
      "m= 400\n",
      "m= 401\n",
      "m= 402\n",
      "m= 403\n",
      "m= 404\n",
      "m= 405\n",
      "m= 406\n",
      "m= 407\n",
      "m= 408\n",
      "m= 409\n",
      "m= 410\n",
      "m= 411\n",
      "m= 412\n",
      "m= 413\n",
      "m= 414\n",
      "m= 415\n",
      "m= 416\n",
      "m= 417\n",
      "m= 418\n",
      "m= 419\n",
      "m= 420\n",
      "m= 421\n",
      "m= 422\n",
      "m= 423\n",
      "m= 424\n",
      "m= 425\n",
      "m= 426\n",
      "m= 427\n",
      "m= 428\n",
      "m= 429\n",
      "m= 430\n",
      "m= 431\n",
      "m= 432\n",
      "m= 433\n",
      "m= 434\n",
      "m= 435\n",
      "m= 436\n",
      "m= 437\n",
      "m= 438\n",
      "m= 439\n",
      "m= 440\n",
      "m= 441\n",
      "m= 442\n",
      "m= 443\n",
      "m= 444\n",
      "m= 445\n",
      "m= 446\n",
      "m= 447\n",
      "m= 448\n",
      "m= 449\n",
      "m= 450\n",
      "m= 451\n",
      "m= 452\n",
      "m= 453\n",
      "m= 454\n",
      "m= 455\n",
      "m= 456\n",
      "m= 457\n",
      "m= 458\n",
      "m= 459\n",
      "m= 460\n",
      "m= 461\n",
      "m= 462\n",
      "m= 463\n",
      "m= 464\n",
      "m= 465\n",
      "m= 466\n",
      "m= 467\n",
      "m= 468\n",
      "m= 469\n",
      "m= 470\n",
      "m= 471\n",
      "m= 472\n",
      "m= 473\n",
      "m= 474\n",
      "m= 475\n",
      "m= 476\n",
      "m= 477\n",
      "m= 478\n",
      "m= 479\n",
      "m= 480\n",
      "m= 481\n",
      "m= 482\n",
      "m= 483\n",
      "m= 484\n",
      "m= 485\n",
      "m= 486\n",
      "m= 487\n",
      "m= 488\n",
      "m= 489\n",
      "m= 490\n",
      "m= 491\n",
      "m= 492\n",
      "m= 493\n",
      "m= 494\n",
      "m= 495\n",
      "m= 496\n",
      "m= 497\n",
      "m= 498\n",
      "m= 499\n",
      "m= 500\n",
      "m= 501\n",
      "m= 502\n",
      "m= 503\n",
      "m= 504\n",
      "m= 505\n",
      "m= 506\n",
      "m= 507\n",
      "m= 508\n",
      "m= 509\n",
      "m= 510\n",
      "m= 511\n",
      "m= 512\n",
      "m= 513\n",
      "m= 514\n",
      "m= 515\n",
      "m= 516\n",
      "m= 517\n",
      "m= 518\n",
      "m= 519\n",
      "m= 520\n",
      "m= 521\n",
      "m= 522\n",
      "m= 523\n",
      "m= 524\n",
      "m= 525\n",
      "m= 526\n",
      "m= 527\n",
      "m= 528\n",
      "m= 529\n",
      "m= 530\n",
      "m= 531\n",
      "m= 532\n",
      "m= 533\n",
      "m= 534\n",
      "m= 535\n",
      "m= 536\n",
      "m= 537\n",
      "m= 538\n",
      "m= 539\n",
      "m= 540\n",
      "m= 541\n",
      "m= 542\n",
      "m= 543\n",
      "m= 544\n",
      "m= 545\n",
      "m= 546\n",
      "m= 547\n",
      "m= 548\n",
      "m= 549\n",
      "m= 550\n",
      "m= 551\n",
      "m= 552\n",
      "m= 553\n",
      "m= 554\n",
      "m= 555\n",
      "m= 556\n",
      "m= 557\n",
      "m= 558\n",
      "m= 559\n",
      "m= 560\n",
      "m= 561\n",
      "m= 562\n",
      "m= 563\n",
      "m= 564\n",
      "m= 565\n",
      "m= 566\n",
      "m= 567\n",
      "m= 568\n",
      "m= 569\n",
      "m= 570\n",
      "m= 571\n",
      "m= 572\n",
      "m= 573\n",
      "m= 574\n",
      "m= 575\n",
      "m= 576\n",
      "m= 577\n",
      "m= 578\n",
      "m= 579\n",
      "m= 580\n",
      "m= 581\n",
      "m= 582\n",
      "m= 583\n",
      "m= 584\n",
      "m= 585\n",
      "m= 586\n",
      "m= 587\n",
      "m= 588\n",
      "m= 589\n",
      "m= 590\n",
      "m= 591\n",
      "m= 592\n",
      "m= 593\n",
      "m= 594\n",
      "m= 595\n",
      "m= 596\n",
      "m= 597\n",
      "m= 598\n",
      "m= 599\n",
      "m= 600\n",
      "m= 601\n",
      "m= 602\n",
      "m= 603\n",
      "m= 604\n",
      "m= 605\n",
      "m= 606\n",
      "m= 607\n",
      "m= 608\n",
      "m= 609\n",
      "m= 610\n",
      "m= 611\n",
      "m= 612\n",
      "m= 613\n",
      "m= 614\n",
      "m= 615\n",
      "m= 616\n",
      "m= 617\n",
      "m= 618\n",
      "m= 619\n",
      "m= 620\n",
      "m= 621\n",
      "m= 622\n",
      "m= 623\n",
      "m= 624\n",
      "m= 625\n",
      "m= 626\n",
      "m= 627\n",
      "m= 628\n",
      "m= 629\n",
      "m= 630\n",
      "m= 631\n",
      "m= 632\n",
      "m= 633\n",
      "m= 634\n",
      "m= 635\n",
      "m= 636\n",
      "m= 637\n",
      "m= 638\n",
      "m= 639\n",
      "m= 640\n",
      "m= 641\n",
      "m= 642\n",
      "m= 643\n",
      "m= 644\n",
      "m= 645\n",
      "m= 646\n",
      "m= 647\n",
      "m= 648\n",
      "m= 649\n",
      "m= 650\n",
      "m= 651\n",
      "m= 652\n",
      "m= 653\n",
      "m= 654\n",
      "m= 655\n",
      "m= 656\n",
      "m= 657\n",
      "m= 658\n",
      "m= 659\n",
      "m= 660\n",
      "m= 661\n",
      "m= 662\n",
      "m= 663\n",
      "m= 664\n",
      "m= 665\n",
      "m= 666\n",
      "m= 667\n",
      "m= 668\n",
      "m= 669\n",
      "m= 670\n",
      "m= 671\n",
      "m= 672\n",
      "m= 673\n",
      "m= 674\n",
      "m= 675\n",
      "m= 676\n",
      "m= 677\n",
      "m= 678\n",
      "m= 679\n",
      "m= 680\n",
      "m= 681\n",
      "m= 682\n",
      "m= 683\n",
      "m= 684\n",
      "m= 685\n",
      "m= 686\n",
      "m= 687\n",
      "m= 688\n",
      "m= 689\n",
      "m= 690\n",
      "m= 691\n",
      "m= 692\n",
      "m= 693\n",
      "m= 694\n",
      "m= 695\n",
      "m= 696\n",
      "m= 697\n",
      "m= 698\n",
      "m= 699\n",
      "m= 700\n",
      "m= 701\n",
      "m= 702\n",
      "m= 703\n",
      "m= 704\n",
      "m= 705\n",
      "m= 706\n",
      "m= 707\n",
      "m= 708\n",
      "m= 709\n",
      "m= 710\n",
      "m= 711\n",
      "m= 712\n",
      "m= 713\n",
      "m= 714\n",
      "m= 715\n",
      "m= 716\n",
      "m= 717\n",
      "m= 718\n",
      "m= 719\n",
      "m= 720\n",
      "m= 721\n",
      "m= 722\n",
      "m= 723\n",
      "m= 724\n",
      "m= 725\n",
      "m= 726\n",
      "m= 727\n",
      "m= 728\n",
      "m= 729\n",
      "m= 730\n",
      "m= 731\n",
      "m= 732\n",
      "m= 733\n",
      "m= 734\n",
      "m= 735\n",
      "m= 736\n",
      "m= 737\n",
      "m= 738\n",
      "m= 739\n",
      "m= 740\n",
      "m= 741\n",
      "m= 742\n",
      "m= 743\n",
      "m= 744\n",
      "m= 745\n",
      "m= 746\n",
      "m= 747\n",
      "m= 748\n",
      "m= 749\n",
      "m= 750\n",
      "m= 751\n",
      "m= 752\n",
      "m= 753\n",
      "m= 754\n",
      "m= 755\n",
      "m= 756\n",
      "m= 757\n",
      "m= 758\n",
      "m= 759\n",
      "m= 760\n",
      "m= 761\n",
      "m= 762\n",
      "m= 763\n",
      "m= 764\n",
      "m= 765\n",
      "m= 766\n",
      "m= 767\n",
      "m= 768\n",
      "m= 769\n",
      "m= 770\n",
      "m= 771\n",
      "m= 772\n",
      "m= 773\n",
      "m= 774\n",
      "m= 775\n",
      "m= 776\n",
      "m= 777\n",
      "m= 778\n",
      "m= 779\n",
      "m= 780\n",
      "m= 781\n",
      "m= 782\n",
      "m= 783\n",
      "m= 784\n",
      "m= 785\n",
      "m= 786\n",
      "m= 787\n",
      "m= 788\n",
      "m= 789\n",
      "m= 790\n",
      "m= 791\n",
      "m= 792\n",
      "m= 793\n",
      "m= 794\n",
      "m= 795\n",
      "m= 796\n",
      "m= 797\n",
      "m= 798\n",
      "m= 799\n",
      "m= 800\n",
      "m= 801\n",
      "m= 802\n",
      "m= 803\n",
      "m= 804\n",
      "m= 805\n",
      "m= 806\n",
      "m= 807\n",
      "m= 808\n",
      "m= 809\n",
      "m= 810\n",
      "m= 811\n",
      "m= 812\n",
      "m= 813\n",
      "m= 814\n",
      "m= 815\n",
      "m= 816\n",
      "m= 817\n",
      "m= 818\n",
      "m= 819\n",
      "m= 820\n",
      "m= 821\n",
      "m= 822\n",
      "m= 823\n",
      "m= 824\n",
      "m= 825\n",
      "m= 826\n",
      "m= 827\n",
      "m= 828\n",
      "m= 829\n",
      "m= 830\n",
      "m= 831\n",
      "m= 832\n",
      "m= 833\n",
      "m= 834\n",
      "m= 835\n",
      "m= 836\n",
      "m= 837\n",
      "m= 838\n",
      "m= 839\n",
      "m= 840\n",
      "m= 841\n",
      "m= 842\n",
      "m= 843\n",
      "m= 844\n",
      "m= 845\n",
      "m= 846\n",
      "m= 847\n",
      "m= 848\n",
      "m= 849\n",
      "m= 850\n",
      "m= 851\n",
      "m= 852\n",
      "m= 853\n",
      "m= 854\n",
      "m= 855\n",
      "m= 856\n",
      "m= 857\n",
      "m= 858\n",
      "m= 859\n",
      "m= 860\n",
      "m= 861\n",
      "m= 862\n",
      "m= 863\n",
      "m= 864\n",
      "m= 865\n",
      "m= 866\n",
      "m= 867\n",
      "m= 868\n",
      "m= 869\n",
      "m= 870\n",
      "m= 871\n",
      "m= 872\n",
      "m= 873\n",
      "m= 874\n",
      "m= 875\n",
      "m= 876\n",
      "m= 877\n",
      "m= 878\n",
      "m= 879\n",
      "m= 880\n",
      "m= 881\n",
      "m= 882\n",
      "m= 883\n",
      "m= 884\n",
      "m= 885\n",
      "m= 886\n",
      "m= 887\n",
      "m= 888\n",
      "m= 889\n",
      "m= 890\n",
      "m= 891\n",
      "m= 892\n",
      "m= 893\n",
      "m= 894\n",
      "m= 895\n",
      "m= 896\n",
      "m= 897\n",
      "m= 898\n",
      "m= 899\n",
      "m= 900\n",
      "m= 901\n",
      "m= 902\n",
      "m= 903\n",
      "m= 904\n",
      "m= 905\n",
      "m= 906\n",
      "m= 907\n",
      "m= 908\n",
      "m= 909\n",
      "m= 910\n",
      "m= 911\n",
      "m= 912\n",
      "m= 913\n",
      "m= 914\n",
      "m= 915\n",
      "m= 916\n",
      "m= 917\n",
      "m= 918\n",
      "m= 919\n",
      "m= 920\n",
      "m= 921\n",
      "m= 922\n",
      "m= 923\n",
      "m= 924\n",
      "m= 925\n",
      "m= 926\n",
      "m= 927\n",
      "m= 928\n",
      "m= 929\n",
      "m= 930\n",
      "m= 931\n",
      "m= 932\n",
      "m= 933\n",
      "m= 934\n",
      "m= 935\n",
      "m= 936\n",
      "m= 937\n",
      "m= 938\n",
      "m= 939\n",
      "m= 940\n",
      "m= 941\n",
      "m= 942\n",
      "m= 943\n",
      "m= 944\n",
      "m= 945\n",
      "m= 946\n",
      "m= 947\n",
      "m= 948\n",
      "m= 949\n",
      "m= 950\n",
      "m= 951\n",
      "m= 952\n",
      "m= 953\n",
      "m= 954\n",
      "m= 955\n",
      "m= 956\n",
      "m= 957\n",
      "m= 958\n",
      "m= 959\n",
      "m= 960\n",
      "m= 961\n",
      "m= 962\n",
      "m= 963\n",
      "m= 964\n",
      "m= 965\n",
      "m= 966\n",
      "m= 967\n",
      "m= 968\n",
      "m= 969\n",
      "m= 970\n",
      "m= 971\n",
      "m= 972\n",
      "m= 973\n",
      "m= 974\n",
      "m= 975\n",
      "m= 976\n",
      "m= 977\n",
      "m= 978\n",
      "m= 979\n",
      "m= 980\n",
      "m= 981\n",
      "m= 982\n",
      "m= 983\n",
      "m= 984\n",
      "m= 985\n",
      "m= 986\n",
      "m= 987\n",
      "m= 988\n",
      "m= 989\n",
      "m= 990\n",
      "m= 991\n",
      "m= 992\n",
      "m= 993\n",
      "m= 994\n",
      "m= 995\n",
      "m= 996\n",
      "m= 997\n",
      "m= 998\n",
      "m= 999\n"
     ]
    }
   ],
   "source": [
    "#Monte Carlo M=1000\n",
    "M=1000\n",
    "tau_star=np.zeros(B)\n",
    "S_star=np.zeros(B)\n",
    "tau_hat_val=tau_hat(X,Y)\n",
    "\n",
    "#intervalles de confiance\n",
    "IC_base_list=[]\n",
    "IC_perc_list=[]\n",
    "IC_boot_list=[]\n",
    "\n",
    "\n",
    "for m in range(M):\n",
    "    print(\"m=\",m)\n",
    "    X=npr.gamma(p,1/theta,size=n)\n",
    "    Y=npr.gamma(q,1/kappa,size=n)\n",
    "    for b in range(B):\n",
    "        ind=npr.randint(0,n,n)\n",
    "        sample_X=X[ind]\n",
    "        sample_Y=Y[ind]\n",
    "        tau_star[b]=tau_hat(sample_X,sample_Y)\n",
    "        var_hat=np.var(sample_X/np.sqrt(np.var(sample_X)/np.mean(sample_Y)**2+\n",
    "                                    np.mean(sample_X)*np.var(sample_Y)/np.mean(sample_Y)**4) )\n",
    "        S_star[b]=np.sqrt(n)*(tau_star[b]-tau_hat_val)/np.sqrt(var_hat)\n",
    "    #ordonne les paramètres estimés\n",
    "    tau_star=np.sort(tau_star)\n",
    "    S_star=np.sort(S_star)\n",
    "    IC_base_list.append(IC_base(alpha,X,Y,tau_star))\n",
    "    IC_perc_list.append(IC_perc(alpha,X,Y,tau_star))\n",
    "    IC_boot_list.append(IC_t_boot(alpha,X,Y,S_star))\n",
    "    "
   ]
  },
  {
   "cell_type": "code",
   "execution_count": 93,
   "metadata": {},
   "outputs": [],
   "source": [
    "#crée listes contenant les IC de chaque méthode, pour chaque itération de Monte Carlo m=1...M\n",
    "inf_base=np.zeros(M)\n",
    "inf_perc=np.zeros(M)\n",
    "inf_boot=np.zeros(M)\n",
    "sup_base=np.zeros(M)\n",
    "sup_perc=np.zeros(M)\n",
    "sup_boot=np.zeros(M)\n",
    "\n",
    "for m in range(M):\n",
    "    inf_base[m]= IC_base_list[m][0]\n",
    "    inf_perc[m]= IC_perc_list[m][0]\n",
    "    inf_boot[m]= IC_boot_list[m][0]\n",
    "    sup_base[m]= IC_base_list[m][1]\n",
    "    sup_perc[m]= IC_perc_list[m][1]\n",
    "    sup_boot[m]= IC_boot_list[m][1]"
   ]
  },
  {
   "cell_type": "code",
   "execution_count": 94,
   "metadata": {},
   "outputs": [
    {
     "name": "stdout",
     "output_type": "stream",
     "text": [
      " borne inf IC base -0.94685503511 \n",
      " borne inf IC percentile 0.918323106093 \n",
      " borne inf IC bootstrap -3.95208769482\n"
     ]
    }
   ],
   "source": [
    "#comparaison des bornes inf moyennes pour chacune des méthodes de calcul des IC\n",
    "print(\" borne inf IC base\",np.mean(inf_base),\"\\n borne inf IC percentile\",np.mean(inf_perc),\n",
    "      \"\\n borne inf IC bootstrap\",np.mean(inf_boot))"
   ]
  },
  {
   "cell_type": "code",
   "execution_count": 95,
   "metadata": {},
   "outputs": [
    {
     "name": "stdout",
     "output_type": "stream",
     "text": [
      " borne sup IC base 3.58920728504 \n",
      " borne sup IC percentile 5.45438542625 \n",
      " borne sup IC bootstrap 3.72109410049\n"
     ]
    }
   ],
   "source": [
    "#comparaison des bornes sup moyennes pour chacune des méthodes de calcul des IC\n",
    "print(\" borne sup IC base\",np.mean(sup_base),\"\\n borne sup IC percentile\",np.mean(sup_perc),\n",
    "      \"\\n borne sup IC bootstrap\",np.mean(sup_boot))"
   ]
  },
  {
   "cell_type": "code",
   "execution_count": 129,
   "metadata": {},
   "outputs": [
    {
     "data": {
      "image/png": "[encoded data removed]",
      "text/plain": [
       "<matplotlib.figure.Figure at 0x11190acc0>"
      ]
     },
     "metadata": {},
     "output_type": "display_data"
    }
   ],
   "source": [
    "fig=plt.figure(figsize=(18,10))\n",
    "\n",
    "plt.suptitle(\"Comparaison des bornes inférieures et supérieures \\n en fonction des différentes méthodes d'intervalle de confiance\",\n",
    "            fontweight='bold',size=16)\n",
    "\n",
    "plt.subplot(231)\n",
    "plt.hist(inf_base,bins=200)\n",
    "plt.xlim(np.percentile(inf_base,5),np.percentile(inf_base,95))\n",
    "plt.title(\"IC base borne inf\",fontweight='bold')\n",
    "\n",
    "plt.subplot(232)\n",
    "plt.hist(inf_perc,bins=200,color='orange')\n",
    "plt.xlim(np.percentile(inf_perc,5),np.percentile(inf_perc,95))\n",
    "plt.title(\"IC percentile borne inf\",fontweight='bold')\n",
    "\n",
    "plt.subplot(233)\n",
    "plt.hist(inf_boot,bins=200,color='red')\n",
    "plt.xlim(np.percentile(inf_boot,5),np.percentile(inf_boot,95))\n",
    "plt.title(\"IC bootstrap borne inf\",fontweight='bold')\n",
    "\n",
    "plt.subplot(234)\n",
    "plt.hist(sup_base,bins=200)\n",
    "plt.xlim(np.percentile(sup_base,5),np.percentile(sup_base,95))\n",
    "plt.title(\"IC base borne sup\",fontweight='bold')\n",
    "\n",
    "plt.subplot(235)\n",
    "plt.hist(sup_perc,bins=200,color='orange')\n",
    "plt.xlim(np.percentile(sup_perc,5),np.percentile(sup_perc,95))\n",
    "plt.title(\"IC percentile borne sup\",fontweight='bold')\n",
    "\n",
    "plt.subplot(236)\n",
    "plt.hist(sup_boot,bins=200,color='red')\n",
    "plt.xlim(np.percentile(sup_boot,5),np.percentile(sup_boot,95))\n",
    "plt.title(\"IC bootstrap borne sup\",fontweight='bold')\n",
    "\n",
    "plt.show()"
   ]
  },
  {
   "cell_type": "markdown",
   "metadata": {},
   "source": [
    "### Tests par bootstrap"
   ]
  },
  {
   "cell_type": "markdown",
   "metadata": {},
   "source": [
    "On teste: $H_{0}: \\tau=2$"
   ]
  },
  {
   "cell_type": "markdown",
   "metadata": {},
   "source": [
    "* Niveaux de tests par IC"
   ]
  },
  {
   "cell_type": "code",
   "execution_count": 208,
   "metadata": {
    "collapsed": true
   },
   "outputs": [],
   "source": [
    "X=npr.gamma(p,1/theta,size=n)\n",
    "Y=npr.gamma(q,1/kappa,size=n)"
   ]
  },
  {
   "cell_type": "code",
   "execution_count": 209,
   "metadata": {
    "collapsed": true
   },
   "outputs": [],
   "source": [
    "#Bootstrap\n",
    "tau_star=np.zeros(B)\n",
    "S_star=np.zeros(B)\n",
    "tau_hat_val=tau_hat(X,Y)\n",
    "for b in range(B):\n",
    "    ind=npr.randint(0,n,n)\n",
    "    sample_X=X[ind]\n",
    "    sample_Y=Y[ind]\n",
    "    tau_star[b]=tau_hat(sample_X,sample_Y)\n",
    "    var_hat=np.var(sample_X/np.sqrt(np.var(sample_X)/np.mean(sample_Y)**2+\n",
    "                                    np.mean(sample_X)*np.var(sample_Y)/np.mean(sample_Y)**4) )\n",
    "    S_star[b]=np.sqrt(n)*(tau_star[b]-tau_hat_val)/np.sqrt(var_hat)\n",
    "\n",
    "#ordonne les paramètres estimés\n",
    "tau_star=np.sort(tau_star)\n",
    "S_star=np.sort(S_star)"
   ]
  },
  {
   "cell_type": "code",
   "execution_count": 210,
   "metadata": {
    "collapsed": true
   },
   "outputs": [],
   "source": [
    "#H_0: tau=2\n",
    "#calculons les p-value pour chaque IC\n",
    "def p_value(x,y,theta_0,S_star):\n",
    "    theta_hat=tau_hat(x,y)\n",
    "    sigma_F=np.sqrt( np.var(x/np.sqrt(np.var(x)/np.mean(y)**2+\n",
    "                                    np.mean(x)*np.var(y)/np.mean(y)**4) ) )\n",
    "    S_bar=np.sqrt(n)*(theta_hat-theta_0)/sigma_F\n",
    "    return( ( len(S_star[S_star > S_bar])+1 ) / (B+1) )"
   ]
  },
  {
   "cell_type": "code",
   "execution_count": 211,
   "metadata": {},
   "outputs": [
    {
     "name": "stdout",
     "output_type": "stream",
     "text": [
      "0.2777222777222777\n"
     ]
    }
   ],
   "source": [
    "theta_0=2\n",
    "p_value=p_value(X,Y,theta_0,S_star)\n",
    "print(p_value)"
   ]
  },
  {
   "cell_type": "code",
   "execution_count": 213,
   "metadata": {},
   "outputs": [
    {
     "name": "stdout",
     "output_type": "stream",
     "text": [
      "Intervalle de confiance de base avec p-value: [0.52900128320381512, 6.3034639609728877]\n"
     ]
    }
   ],
   "source": [
    "print(\"Intervalle de confiance de base avec p-value:\",IC_base(p_value,X,Y,tau_star))"
   ]
  },
  {
   "cell_type": "code",
   "execution_count": 189,
   "metadata": {},
   "outputs": [
    {
     "name": "stdout",
     "output_type": "stream",
     "text": [
      "Intervalle de confiance percentile avec p-value: [2.4825500092340236, 6.5584815512237657]\n"
     ]
    }
   ],
   "source": [
    "print(\"Intervalle de confiance percentile avec p-value:\",IC_perc(p_value,X,Y,tau_star))"
   ]
  },
  {
   "cell_type": "code",
   "execution_count": 190,
   "metadata": {},
   "outputs": [
    {
     "name": "stdout",
     "output_type": "stream",
     "text": [
      "Intervalle de confiance t-bootstrap avec p-value: [-0.17318356922299527, 5.0411091352439428]\n"
     ]
    }
   ],
   "source": [
    "print(\"Intervalle de confiance t-bootstrap avec p-value:\",IC_t_boot(p_value,X,Y,S_star))"
   ]
  },
  {
   "cell_type": "markdown",
   "metadata": {},
   "source": [
    "* Puissance des tests $H_{1}: \\tau=3$"
   ]
  },
  {
   "cell_type": "code",
   "execution_count": 152,
   "metadata": {
    "collapsed": true
   },
   "outputs": [],
   "source": [
    "p=0.7\n",
    "theta=0.007\n",
    "q=1\n",
    "kappa=0.03\n",
    "alpha=0.05"
   ]
  },
  {
   "cell_type": "code",
   "execution_count": 153,
   "metadata": {},
   "outputs": [
    {
     "data": {
      "text/plain": [
       "2.9999999999999996"
      ]
     },
     "execution_count": 153,
     "metadata": {},
     "output_type": "execute_result"
    }
   ],
   "source": [
    "p*kappa/(q*theta)"
   ]
  },
  {
   "cell_type": "code",
   "execution_count": 156,
   "metadata": {
    "collapsed": true
   },
   "outputs": [],
   "source": [
    "#puissance = proba que H_0 soit rejeté et que H_0 soit faux (vrai négatif) = 1 -  beta\n",
    "#Pour chaque type d'intervalle, calcul des quantiles sur loi gamma ?\n",
    "sigma_F=np.sqrt( np.var(X/np.sqrt(np.var(X)/np.mean(Y)**2+\n",
    "                                    np.mean(X)*np.var(Y)/np.mean(Y)**4) ) )\n",
    "power=1-norm.cdf(1.64-3/(sigma_F/np.sqrt(n)))"
   ]
  },
  {
   "cell_type": "code",
   "execution_count": 157,
   "metadata": {},
   "outputs": [
    {
     "data": {
      "text/plain": [
       "0.069557262606202541"
      ]
     },
     "execution_count": 157,
     "metadata": {},
     "output_type": "execute_result"
    }
   ],
   "source": [
    "power"
   ]
  },
  {
   "cell_type": "code",
   "execution_count": null,
   "metadata": {
    "collapsed": true
   },
   "outputs": [],
   "source": []
  }
 ],
 "metadata": {
  "anaconda-cloud": {},
  "kernelspec": {
   "display_name": "Python 3",
   "language": "python",
   "name": "python3"
  },
  "language_info": {
   "codemirror_mode": {
    "name": "ipython",
    "version": 3
   },
   "file_extension": ".py",
   "mimetype": "text/x-python",
   "name": "python",
   "nbconvert_exporter": "python",
   "pygments_lexer": "ipython3",
   "version": "3.6.3"
  }
 },
 "nbformat": 4,
 "nbformat_minor": 2
}
