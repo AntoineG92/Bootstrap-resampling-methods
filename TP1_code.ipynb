{
 "cells": [
  {
   "cell_type": "code",
   "execution_count": 186,
   "metadata": {},
   "outputs": [],
   "source": [
    "import numpy as np\n",
    "import numpy.random as npr\n",
    "import pandas as pd\n",
    "from matplotlib import pyplot as plt\n",
    "from scipy.stats import norm\n",
    "import math"
   ]
  },
  {
   "cell_type": "code",
   "execution_count": 56,
   "metadata": {},
   "outputs": [],
   "source": [
    "#law=pd.read_csv(\"/Users/antoinegrelety/Documents/ENSAE/S2_Bootstrap/TP1/lsat.dat\")\n",
    "law=pd.read_table(\"/Users/antoinegrelety/Documents/ENSAE/S2_Bootstrap/TP1/lsat.dat\",sep=\" \")"
   ]
  },
  {
   "cell_type": "code",
   "execution_count": 57,
   "metadata": {},
   "outputs": [
    {
     "data": {
      "text/html": [
       "<div>\n",
       "<style>\n",
       "    .dataframe thead tr:only-child th {\n",
       "        text-align: right;\n",
       "    }\n",
       "\n",
       "    .dataframe thead th {\n",
       "        text-align: left;\n",
       "    }\n",
       "\n",
       "    .dataframe tbody tr th {\n",
       "        vertical-align: top;\n",
       "    }\n",
       "</style>\n",
       "<table border=\"1\" class=\"dataframe\">\n",
       "  <thead>\n",
       "    <tr style=\"text-align: right;\">\n",
       "      <th></th>\n",
       "      <th>LSAT</th>\n",
       "      <th>GPA</th>\n",
       "    </tr>\n",
       "  </thead>\n",
       "  <tbody>\n",
       "    <tr>\n",
       "      <th>0</th>\n",
       "      <td>576</td>\n",
       "      <td>3.39</td>\n",
       "    </tr>\n",
       "    <tr>\n",
       "      <th>1</th>\n",
       "      <td>635</td>\n",
       "      <td>3.30</td>\n",
       "    </tr>\n",
       "    <tr>\n",
       "      <th>2</th>\n",
       "      <td>558</td>\n",
       "      <td>2.81</td>\n",
       "    </tr>\n",
       "    <tr>\n",
       "      <th>3</th>\n",
       "      <td>578</td>\n",
       "      <td>3.03</td>\n",
       "    </tr>\n",
       "    <tr>\n",
       "      <th>4</th>\n",
       "      <td>666</td>\n",
       "      <td>3.44</td>\n",
       "    </tr>\n",
       "  </tbody>\n",
       "</table>\n",
       "</div>"
      ],
      "text/plain": [
       "   LSAT   GPA\n",
       "0   576  3.39\n",
       "1   635  3.30\n",
       "2   558  2.81\n",
       "3   578  3.03\n",
       "4   666  3.44"
      ]
     },
     "execution_count": 57,
     "metadata": {},
     "output_type": "execute_result"
    }
   ],
   "source": [
    "law.head()"
   ]
  },
  {
   "cell_type": "code",
   "execution_count": 35,
   "metadata": {
    "collapsed": true
   },
   "outputs": [],
   "source": [
    "n=law.shape[0]"
   ]
  },
  {
   "cell_type": "code",
   "execution_count": 59,
   "metadata": {},
   "outputs": [],
   "source": [
    "LSAT=np.array(law[\"LSAT\"])\n",
    "GPA=np.array(law[\"GPA\"])"
   ]
  },
  {
   "cell_type": "code",
   "execution_count": 60,
   "metadata": {
    "collapsed": true
   },
   "outputs": [],
   "source": [
    "law=np.array(law)"
   ]
  },
  {
   "cell_type": "markdown",
   "metadata": {},
   "source": [
    "### Estimateur bootstrap de la variance de la corrélation"
   ]
  },
  {
   "cell_type": "code",
   "execution_count": 61,
   "metadata": {},
   "outputs": [
    {
     "name": "stdout",
     "output_type": "stream",
     "text": [
      "[ 4  9 10 10  6  1 14 14 10 13  0  7 12  8  3]\n"
     ]
    }
   ],
   "source": [
    "ind=npr.randint(0,n,15)\n",
    "print(ind)"
   ]
  },
  {
   "cell_type": "code",
   "execution_count": 62,
   "metadata": {
    "collapsed": true
   },
   "outputs": [],
   "source": [
    "sample=law[ind,:]"
   ]
  },
  {
   "cell_type": "code",
   "execution_count": 63,
   "metadata": {},
   "outputs": [
    {
     "data": {
      "text/plain": [
       "array([ 27969.06])"
      ]
     },
     "execution_count": 63,
     "metadata": {},
     "output_type": "execute_result"
    }
   ],
   "source": [
    "np.correlate(LSAT,GPA)"
   ]
  },
  {
   "cell_type": "code",
   "execution_count": 79,
   "metadata": {},
   "outputs": [],
   "source": [
    "B=200\n",
    "corr_star=np.zeros(B)\n",
    "for b in range(B):\n",
    "    ind=npr.randint(0,n,15)\n",
    "    sample_b=law[ind,:]\n",
    "    corr_star[b]=np.corrcoef(LSAT[ind],GPA[ind])[0,1]\n",
    "    #print(corr_star[b])"
   ]
  },
  {
   "cell_type": "code",
   "execution_count": 80,
   "metadata": {},
   "outputs": [
    {
     "name": "stdout",
     "output_type": "stream",
     "text": [
      "estimateur bootstrap: 0.0151738033795\n"
     ]
    }
   ],
   "source": [
    "print(\"estimateur bootstrap:\",np.var(corr_star))"
   ]
  },
  {
   "cell_type": "markdown",
   "metadata": {},
   "source": [
    "### Médiane"
   ]
  },
  {
   "cell_type": "code",
   "execution_count": 146,
   "metadata": {},
   "outputs": [
    {
     "name": "stdout",
     "output_type": "stream",
     "text": [
      "0.24323424919\n"
     ]
    }
   ],
   "source": [
    "#Z_size=[100,1000,10000]\n",
    "Z_size=[10]\n",
    "B=10000\n",
    "\n",
    "for c in Z_size:\n",
    "    Z=npr.exponential(size=c)\n",
    "    med_star=np.zeros(B)\n",
    "    med=np.zeros(B)\n",
    "    for b in range(B):\n",
    "        ind=npr.randint(0,len(Z),len(Z))\n",
    "        sample_b=Z[ind]\n",
    "        med_star[b]=np.median(sample_b)\n",
    "    print(np.var(med_star))"
   ]
  },
  {
   "cell_type": "markdown",
   "metadata": {},
   "source": [
    "### Estimation de la fonction de répartition"
   ]
  },
  {
   "cell_type": "code",
   "execution_count": 139,
   "metadata": {
    "collapsed": true
   },
   "outputs": [],
   "source": [
    "Z=npr.exponential(size=10)\n",
    "med_Z=np.median(Z)"
   ]
  },
  {
   "cell_type": "markdown",
   "metadata": {},
   "source": [
    "Fonction de répartition de la médiane empirique"
   ]
  },
  {
   "cell_type": "code",
   "execution_count": 113,
   "metadata": {},
   "outputs": [
    {
     "name": "stdout",
     "output_type": "stream",
     "text": [
      "médiane via MC: 0.747642864594\n"
     ]
    }
   ],
   "source": [
    "M=10000\n",
    "med_MC=np.zeros(M)\n",
    "for m in range(M):\n",
    "        Z=npr.exponential(size=10)\n",
    "        med_MC[m]=np.median(Z)\n",
    "print(\"médiane via MC:\",np.mean(med_MC))"
   ]
  },
  {
   "cell_type": "code",
   "execution_count": 114,
   "metadata": {},
   "outputs": [
    {
     "data": {
      "image/png": "[encoded data removed]",
      "text/plain": [
       "<matplotlib.figure.Figure at 0x1136f0fd0>"
      ]
     },
     "metadata": {},
     "output_type": "display_data"
    }
   ],
   "source": [
    "plt.hist(med_MC,bins=100)\n",
    "plt.show()"
   ]
  },
  {
   "cell_type": "code",
   "execution_count": 128,
   "metadata": {},
   "outputs": [
    {
     "data": {
      "text/plain": [
       "(10000,)"
      ]
     },
     "execution_count": 128,
     "metadata": {},
     "output_type": "execute_result"
    }
   ],
   "source": [
    "med_MC.shape"
   ]
  },
  {
   "cell_type": "markdown",
   "metadata": {},
   "source": [
    "Fonction de répartition de l'approximation asymptotique gaussienne"
   ]
  },
  {
   "cell_type": "code",
   "execution_count": 158,
   "metadata": {},
   "outputs": [
    {
     "data": {
      "image/png": "[encoded data removed]",
      "text/plain": [
       "<matplotlib.figure.Figure at 0x117648668>"
      ]
     },
     "metadata": {},
     "output_type": "display_data"
    }
   ],
   "source": [
    "plt.plot(np.sqrt(len(Z))*(np.sort(med_MC)-np.log(2)),(1/M)*np.arange(M))\n",
    "gridnorm=np.arange(-2,5,0.01)\n",
    "plt.plot(gridnorm,norm.cdf(gridnorm))\n",
    "plt.plot(np.sqrt(len(Z))*(np.sort(med_star)-med_Z),(1/B)*np.arange(B))\n",
    "plt.show()"
   ]
  },
  {
   "cell_type": "markdown",
   "metadata": {},
   "source": [
    "## Partie 2: intervalles de confiance"
   ]
  },
  {
   "cell_type": "code",
   "execution_count": 226,
   "metadata": {
    "collapsed": true
   },
   "outputs": [],
   "source": [
    "n=10\n",
    "p=0.7\n",
    "theta=0.007\n",
    "q=1\n",
    "kappa=0.02\n",
    "alpha=0.05\n",
    "tau=(p*kappa)/(q*theta)"
   ]
  },
  {
   "cell_type": "code",
   "execution_count": 227,
   "metadata": {},
   "outputs": [],
   "source": [
    "X=npr.gamma(p,1/theta,size=n)\n",
    "Y=npr.gamma(q,1/kappa,size=n)"
   ]
  },
  {
   "cell_type": "code",
   "execution_count": 228,
   "metadata": {
    "collapsed": true
   },
   "outputs": [],
   "source": [
    "def tau_hat(x,y):\n",
    "    return(np.mean(x)/np.mean(y))"
   ]
  },
  {
   "cell_type": "markdown",
   "metadata": {},
   "source": [
    "### IC par bootstrap"
   ]
  },
  {
   "cell_type": "code",
   "execution_count": 229,
   "metadata": {
    "collapsed": true
   },
   "outputs": [],
   "source": [
    "def sigma_hat(x,y):\n",
    "    return  np.sqrt( np.var(x)/(np.mean(y**2)) + (np.mean(x**2)/np.mean(y**4))*np.var(y) )"
   ]
  },
  {
   "cell_type": "code",
   "execution_count": 230,
   "metadata": {
    "collapsed": true
   },
   "outputs": [],
   "source": [
    "def ICAN(alpha,X,Y):\n",
    "    A= []\n",
    "    A.append(tau_hat(X,Y)-sigma_hat(X,Y)/np.sqrt(n)*norm.ppf(1-alpha/2))\n",
    "    A.append(tau_hat(X,Y)+sigma_hat(X,Y)/np.sqrt(n)*norm.ppf(1-alpha/2))\n",
    "    return A"
   ]
  },
  {
   "cell_type": "code",
   "execution_count": 231,
   "metadata": {},
   "outputs": [
    {
     "name": "stdout",
     "output_type": "stream",
     "text": [
      "[0.8928674744209133, 3.2859831169301472]\n",
      "2.08942529568\n"
     ]
    }
   ],
   "source": [
    "print(ICAN(alpha,X,Y))\n",
    "print(tau_hat(X,Y))"
   ]
  },
  {
   "cell_type": "code",
   "execution_count": 255,
   "metadata": {},
   "outputs": [],
   "source": [
    "#Bootstrap\n",
    "B=1000\n",
    "tau_star=np.zeros(B)\n",
    "S_star=np.zeros(B)\n",
    "tau_hat_val=tau_hat(X,Y)\n",
    "for b in range(B):\n",
    "    ind=npr.randint(0,n,n)\n",
    "    sample_X=X[ind]\n",
    "    sample_Y=Y[ind]\n",
    "    tau_star[b]=tau_hat(sample_X,sample_Y)\n",
    "    var_hat=np.var(sample_X/np.sqrt(np.var(sample_X)/np.mean(sample_Y)**2+\n",
    "                                    np.mean(sample_X)*np.var(sample_Y)/np.mean(sample_Y)**4) )\n",
    "    S_star[b]=np.sqrt(n)*(tau_star[b]-tau_hat_val)/np.sqrt(var_hat)\n",
    "\n",
    "#ordonne les paramètres estimés\n",
    "tau_star=np.sort(tau_star)\n",
    "S_star=np.sort(S_star)"
   ]
  },
  {
   "cell_type": "code",
   "execution_count": 256,
   "metadata": {},
   "outputs": [
    {
     "data": {
      "image/png": "[encoded data removed]",
      "text/plain": [
       "<matplotlib.figure.Figure at 0x11724f208>"
      ]
     },
     "metadata": {},
     "output_type": "display_data"
    }
   ],
   "source": [
    "plt.hist(S_star,bins=100)\n",
    "plt.show()"
   ]
  },
  {
   "cell_type": "code",
   "execution_count": 233,
   "metadata": {
    "collapsed": true
   },
   "outputs": [],
   "source": [
    "def IC_base(alpha,x,y,theta):\n",
    "    A= []\n",
    "    A.append( 2*tau_hat(x,y)-theta[math.ceil(len(theta)*(1-alpha/2))] )\n",
    "    A.append( 2*tau_hat(x,y)-theta[math.ceil(len(theta)*(alpha/2))] )\n",
    "    return(A)"
   ]
  },
  {
   "cell_type": "code",
   "execution_count": 234,
   "metadata": {},
   "outputs": [
    {
     "name": "stdout",
     "output_type": "stream",
     "text": [
      "Intervalle de confiance de base: [-0.18357523647229002, 3.2533204385723882]\n"
     ]
    }
   ],
   "source": [
    "print(\"Intervalle de confiance de base:\",IC_base(alpha,X,Y,tau_star))"
   ]
  },
  {
   "cell_type": "code",
   "execution_count": 235,
   "metadata": {
    "collapsed": true
   },
   "outputs": [],
   "source": [
    "def IC_perc(alpha,x,y,theta):\n",
    "    A= []\n",
    "    A.append( theta[math.ceil(len(theta)*(alpha/2))] )\n",
    "    A.append( theta[math.ceil(len(theta)*(1-alpha/2))] )\n",
    "    return(A)"
   ]
  },
  {
   "cell_type": "code",
   "execution_count": 236,
   "metadata": {},
   "outputs": [
    {
     "name": "stdout",
     "output_type": "stream",
     "text": [
      "Intervalle de confiance percentile: [0.92553015277867201, 4.3624258278233503]\n"
     ]
    }
   ],
   "source": [
    "print(\"Intervalle de confiance percentile:\",IC_perc(alpha,X,Y,tau_star))"
   ]
  },
  {
   "cell_type": "code",
   "execution_count": 257,
   "metadata": {
    "collapsed": true
   },
   "outputs": [],
   "source": [
    "def IC_t_boot(alpha,x,y,theta):\n",
    "    A= []\n",
    "    sigma_F=np.sqrt( np.var(x/np.sqrt(np.var(x)/np.mean(y)**2+\n",
    "                                    np.mean(x)*np.var(y)/np.mean(y)**4) ) )\n",
    "    \n",
    "    A.append( tau_hat(x,y) - sigma_F*theta[math.ceil(len(theta)*(1-alpha/2))]/np.sqrt(n) )\n",
    "    A.append( tau_hat(x,y) - sigma_F*theta[math.ceil(len(theta)*(alpha/2))]/np.sqrt(n)  )\n",
    "    return(A)"
   ]
  },
  {
   "cell_type": "code",
   "execution_count": 259,
   "metadata": {},
   "outputs": [
    {
     "name": "stdout",
     "output_type": "stream",
     "text": [
      "Intervalle de confiance t-bootstrap: [-1.3882196612655919, 3.2263538431377334]\n"
     ]
    }
   ],
   "source": [
    "print(\"Intervalle de confiance t-bootstrap:\",IC_t_boot(alpha,X,Y,S_star))"
   ]
  },
  {
   "cell_type": "code",
   "execution_count": null,
   "metadata": {
    "collapsed": true
   },
   "outputs": [],
   "source": [
    "def bornes_sup_inf():\n",
    "    IC1=IC_base(alpha,X,Y,tau_star)\n",
    "    IC2=IC_perc(alpha,X,Y,tau_star)\n",
    "    IC3=IC_t_boot(alpha,X,Y,S_star)\n",
    "    return([,])"
   ]
  }
 ],
 "metadata": {
  "kernelspec": {
   "display_name": "Python 3",
   "language": "python",
   "name": "python3"
  },
  "language_info": {
   "codemirror_mode": {
    "name": "ipython",
    "version": 3
   },
   "file_extension": ".py",
   "mimetype": "text/x-python",
   "name": "python",
   "nbconvert_exporter": "python",
   "pygments_lexer": "ipython3",
   "version": "3.6.3"
  }
 },
 "nbformat": 4,
 "nbformat_minor": 2
}
