{
 "cells": [
  {
   "cell_type": "markdown",
   "metadata": {},
   "source": [
    "# <center> Bootstrap TP1\n",
    "<b>Antoine GRELETY</b>\n",
    "<b>Vincent LE MEUR</b>"
   ]
  },
  {
   "cell_type": "markdown",
   "metadata": {},
   "source": [
    "## Importation des librairies et des données"
   ]
  },
  {
   "cell_type": "code",
   "execution_count": 1,
   "metadata": {
    "ExecuteTime": {
<<<<<<< HEAD
     "end_time": "2018-02-25T16:10:44.785480Z",
     "start_time": "2018-02-25T16:10:22.160482Z"
    },
    "collapsed": true
=======
     "end_time": "2018-02-25T19:21:59.684792Z",
     "start_time": "2018-02-25T19:21:47.202902Z"
    }
>>>>>>> 61212ff1d911688a637a177a06195b11c5734acb
   },
   "outputs": [],
   "source": [
    "import numpy as np\n",
    "import numpy.random as npr\n",
    "import pandas as pd\n",
    "from matplotlib import pyplot as plt\n",
    "from scipy.stats import norm\n",
    "import math"
   ]
  },
  {
   "cell_type": "code",
<<<<<<< HEAD
   "execution_count": 4,
   "metadata": {
    "ExecuteTime": {
     "end_time": "2018-02-25T16:11:00.042906Z",
     "start_time": "2018-02-25T16:10:59.952205Z"
    },
    "collapsed": true
=======
   "execution_count": 2,
   "metadata": {
    "ExecuteTime": {
     "end_time": "2018-02-25T19:21:59.831912Z",
     "start_time": "2018-02-25T19:21:59.687873Z"
    }
>>>>>>> 61212ff1d911688a637a177a06195b11c5734acb
   },
   "outputs": [],
   "source": [
    "law=pd.read_table(\"lsat.dat\",sep=\" \")"
   ]
  },
  {
   "cell_type": "code",
   "execution_count": 3,
   "metadata": {
    "ExecuteTime": {
     "end_time": "2018-02-25T19:21:59.969498Z",
     "start_time": "2018-02-25T19:21:59.835605Z"
    }
   },
   "outputs": [
    {
     "data": {
      "text/html": [
       "<div>\n",
       "<style>\n",
       "    .dataframe thead tr:only-child th {\n",
       "        text-align: right;\n",
       "    }\n",
       "\n",
       "    .dataframe thead th {\n",
       "        text-align: left;\n",
       "    }\n",
       "\n",
       "    .dataframe tbody tr th {\n",
       "        vertical-align: top;\n",
       "    }\n",
       "</style>\n",
       "<table border=\"1\" class=\"dataframe\">\n",
       "  <thead>\n",
       "    <tr style=\"text-align: right;\">\n",
       "      <th></th>\n",
       "      <th>LSAT</th>\n",
       "      <th>GPA</th>\n",
       "    </tr>\n",
       "  </thead>\n",
       "  <tbody>\n",
       "    <tr>\n",
       "      <th>0</th>\n",
       "      <td>576</td>\n",
       "      <td>3.39</td>\n",
       "    </tr>\n",
       "    <tr>\n",
       "      <th>1</th>\n",
       "      <td>635</td>\n",
       "      <td>3.30</td>\n",
       "    </tr>\n",
       "    <tr>\n",
       "      <th>2</th>\n",
       "      <td>558</td>\n",
       "      <td>2.81</td>\n",
       "    </tr>\n",
       "    <tr>\n",
       "      <th>3</th>\n",
       "      <td>578</td>\n",
       "      <td>3.03</td>\n",
       "    </tr>\n",
       "    <tr>\n",
       "      <th>4</th>\n",
       "      <td>666</td>\n",
       "      <td>3.44</td>\n",
       "    </tr>\n",
       "  </tbody>\n",
       "</table>\n",
       "</div>"
      ],
      "text/plain": [
       "   LSAT   GPA\n",
       "0   576  3.39\n",
       "1   635  3.30\n",
       "2   558  2.81\n",
       "3   578  3.03\n",
       "4   666  3.44"
      ]
     },
     "execution_count": 3,
     "metadata": {},
     "output_type": "execute_result"
    }
   ],
   "source": [
    "law.head()"
   ]
  },
  {
   "cell_type": "code",
   "execution_count": 4,
   "metadata": {
    "ExecuteTime": {
<<<<<<< HEAD
     "end_time": "2018-02-25T16:11:22.922999Z",
     "start_time": "2018-02-25T16:11:22.916723Z"
    },
    "collapsed": true
=======
     "end_time": "2018-02-25T19:21:59.978663Z",
     "start_time": "2018-02-25T19:21:59.972753Z"
    }
>>>>>>> 61212ff1d911688a637a177a06195b11c5734acb
   },
   "outputs": [],
   "source": [
    "n=law.shape[0]"
   ]
  },
  {
   "cell_type": "code",
   "execution_count": 5,
   "metadata": {
    "ExecuteTime": {
<<<<<<< HEAD
     "end_time": "2018-02-25T16:11:24.995031Z",
     "start_time": "2018-02-25T16:11:24.945673Z"
    },
    "collapsed": true
=======
     "end_time": "2018-02-25T19:22:00.025934Z",
     "start_time": "2018-02-25T19:21:59.985055Z"
    }
>>>>>>> 61212ff1d911688a637a177a06195b11c5734acb
   },
   "outputs": [],
   "source": [
    "LSAT=np.array(law[\"LSAT\"])\n",
    "GPA=np.array(law[\"GPA\"])"
   ]
  },
  {
   "cell_type": "code",
   "execution_count": 6,
   "metadata": {
    "ExecuteTime": {
<<<<<<< HEAD
     "end_time": "2018-02-25T16:11:34.358403Z",
     "start_time": "2018-02-25T16:11:34.353579Z"
    },
    "collapsed": true
=======
     "end_time": "2018-02-25T19:22:00.053447Z",
     "start_time": "2018-02-25T19:22:00.031596Z"
    }
>>>>>>> 61212ff1d911688a637a177a06195b11c5734acb
   },
   "outputs": [],
   "source": [
    "law=np.array(law)"
   ]
  },
  {
   "cell_type": "markdown",
   "metadata": {},
   "source": [
    "## Partie 1 :  Estimateurs bootstrap"
   ]
  },
  {
   "cell_type": "markdown",
   "metadata": {},
   "source": [
    "### Estimateur bootstrap de la variance de la corrélation"
   ]
  },
  {
   "cell_type": "code",
<<<<<<< HEAD
   "execution_count": 147,
   "metadata": {
    "ExecuteTime": {
     "end_time": "2018-02-25T16:12:10.236102Z",
     "start_time": "2018-02-25T16:12:10.191143Z"
    }
   },
   "outputs": [
    {
     "name": "stdout",
     "output_type": "stream",
     "text": [
      "[3 5 5 8 7 2 1 2 7 2 2 9 2 1 9]\n"
     ]
    }
   ],
   "source": [
    "ind=npr.randint(0,n,15)\n",
    "print(ind)"
   ]
  },
  {
   "cell_type": "code",
   "execution_count": 148,
   "metadata": {
    "ExecuteTime": {
     "end_time": "2018-02-25T16:12:16.376950Z",
     "start_time": "2018-02-25T16:12:16.355104Z"
    },
    "collapsed": true
   },
   "outputs": [],
   "source": [
    "sample=law[ind,:]"
   ]
  },
  {
   "cell_type": "code",
   "execution_count": 2,
   "metadata": {},
   "outputs": [
    {
     "ename": "NameError",
     "evalue": "name 'n' is not defined",
     "output_type": "error",
     "traceback": [
      "\u001b[0;31m---------------------------------------------------------------------------\u001b[0m",
      "\u001b[0;31mNameError\u001b[0m                                 Traceback (most recent call last)",
      "\u001b[0;32m<ipython-input-2-a21324c9586e>\u001b[0m in \u001b[0;36m<module>\u001b[0;34m()\u001b[0m\n\u001b[1;32m      2\u001b[0m \u001b[0mcorr_star\u001b[0m\u001b[0;34m=\u001b[0m\u001b[0mnp\u001b[0m\u001b[0;34m.\u001b[0m\u001b[0mzeros\u001b[0m\u001b[0;34m(\u001b[0m\u001b[0mB\u001b[0m\u001b[0;34m)\u001b[0m\u001b[0;34m\u001b[0m\u001b[0m\n\u001b[1;32m      3\u001b[0m \u001b[0;32mfor\u001b[0m \u001b[0mb\u001b[0m \u001b[0;32min\u001b[0m \u001b[0mrange\u001b[0m\u001b[0;34m(\u001b[0m\u001b[0mB\u001b[0m\u001b[0;34m)\u001b[0m\u001b[0;34m:\u001b[0m\u001b[0;34m\u001b[0m\u001b[0m\n\u001b[0;32m----> 4\u001b[0;31m     \u001b[0mind\u001b[0m\u001b[0;34m=\u001b[0m\u001b[0mnpr\u001b[0m\u001b[0;34m.\u001b[0m\u001b[0mrandint\u001b[0m\u001b[0;34m(\u001b[0m\u001b[0;36m0\u001b[0m\u001b[0;34m,\u001b[0m\u001b[0mn\u001b[0m\u001b[0;34m,\u001b[0m\u001b[0;36m15\u001b[0m\u001b[0;34m)\u001b[0m\u001b[0;34m\u001b[0m\u001b[0m\n\u001b[0m\u001b[1;32m      5\u001b[0m     \u001b[0msample_b\u001b[0m\u001b[0;34m=\u001b[0m\u001b[0mlaw\u001b[0m\u001b[0;34m[\u001b[0m\u001b[0mind\u001b[0m\u001b[0;34m,\u001b[0m\u001b[0;34m:\u001b[0m\u001b[0;34m]\u001b[0m\u001b[0;34m\u001b[0m\u001b[0m\n\u001b[1;32m      6\u001b[0m     \u001b[0mcorr_star\u001b[0m\u001b[0;34m[\u001b[0m\u001b[0mb\u001b[0m\u001b[0;34m]\u001b[0m\u001b[0;34m=\u001b[0m\u001b[0mnp\u001b[0m\u001b[0;34m.\u001b[0m\u001b[0mcorrcoef\u001b[0m\u001b[0;34m(\u001b[0m\u001b[0mLSAT\u001b[0m\u001b[0;34m[\u001b[0m\u001b[0mind\u001b[0m\u001b[0;34m]\u001b[0m\u001b[0;34m,\u001b[0m\u001b[0mGPA\u001b[0m\u001b[0;34m[\u001b[0m\u001b[0mind\u001b[0m\u001b[0;34m]\u001b[0m\u001b[0;34m)\u001b[0m\u001b[0;34m[\u001b[0m\u001b[0;36m0\u001b[0m\u001b[0;34m,\u001b[0m\u001b[0;36m1\u001b[0m\u001b[0;34m]\u001b[0m\u001b[0;34m\u001b[0m\u001b[0m\n",
      "\u001b[0;31mNameError\u001b[0m: name 'n' is not defined"
     ]
    }
   ],
   "source": [
=======
   "execution_count": 7,
   "metadata": {
    "ExecuteTime": {
     "end_time": "2018-02-25T19:22:02.260336Z",
     "start_time": "2018-02-25T19:22:00.058813Z"
    }
   },
   "outputs": [],
   "source": [
>>>>>>> 61212ff1d911688a637a177a06195b11c5734acb
    "B=200\n",
    "corr_star=np.zeros(B)\n",
    "for b in range(B):\n",
    "    ind=npr.randint(0,n,15)\n",
    "    sample_b=law[ind,:]\n",
    "    corr_star[b]=np.corrcoef(LSAT[ind],GPA[ind])[0,1]"
   ]
  },
  {
   "cell_type": "code",
<<<<<<< HEAD
   "execution_count": 150,
   "metadata": {},
=======
   "execution_count": 8,
   "metadata": {
    "ExecuteTime": {
     "end_time": "2018-02-25T19:22:02.310705Z",
     "start_time": "2018-02-25T19:22:02.263549Z"
    }
   },
>>>>>>> 61212ff1d911688a637a177a06195b11c5734acb
   "outputs": [
    {
     "name": "stdout",
     "output_type": "stream",
     "text": [
<<<<<<< HEAD
      "estimateur bootstrap: 0.0169684904212\n"
=======
      "estimateur bootstrap: 0.01848404435332366\n"
>>>>>>> 61212ff1d911688a637a177a06195b11c5734acb
     ]
    }
   ],
   "source": [
    "print(\"estimateur bootstrap:\",np.var(corr_star))"
   ]
  },
  {
   "cell_type": "markdown",
   "metadata": {},
   "source": [
    "### Médiane"
   ]
  },
  {
   "cell_type": "code",
<<<<<<< HEAD
   "execution_count": 25,
   "metadata": {},
=======
   "execution_count": 61,
   "metadata": {
    "ExecuteTime": {
     "end_time": "2018-02-25T20:58:26.672560Z",
     "start_time": "2018-02-25T20:58:14.283994Z"
    }
   },
>>>>>>> 61212ff1d911688a637a177a06195b11c5734acb
   "outputs": [
    {
     "name": "stdout",
     "output_type": "stream",
     "text": [
<<<<<<< HEAD
      "0.0705616341882\n"
=======
      "Variance de la médiane : 0.10880905898981048\n",
      "Variance de la médiane : 0.007270190885361279\n",
      "Variance de la médiane : 0.0012068088438816136\n",
      "Variance de la médiane : 0.000101711554926429\n"
>>>>>>> 61212ff1d911688a637a177a06195b11c5734acb
     ]
    }
   ],
   "source": [
    "Z_size=[10,100,1000,10000,10]\n",
    "\n",
    "B=10000\n",
    "i=0\n",
    "for c in Z_size:\n",
    "    i=i+1\n",
    "    Z=npr.exponential(size=c)\n",
    "    med_star=np.zeros(B)\n",
    "    med=np.zeros(B)\n",
    "    for b in range(B):\n",
    "        ind=npr.randint(0,len(Z),len(Z))\n",
    "        sample_b=Z[ind]\n",
    "        med_star[b]=np.median(sample_b)\n",
    "    if i<=4:     # Cette condition nous sert à garder en mémoire la valeur pour n=10 (qui sera utilisée après)\n",
    "        print(\"Variance de la médiane :\",np.var(med_star))\n",
    "        \n",
    "    "
   ]
  },
  {
   "cell_type": "markdown",
   "metadata": {},
   "source": [
    "On constate que la variance de la médiane tend vers 0 ce qui correspond à la valeur limite."
   ]
  },
  {
   "cell_type": "markdown",
   "metadata": {},
   "source": [
    "### Estimation de la fonction de répartition"
   ]
  },
  {
   "cell_type": "code",
<<<<<<< HEAD
   "execution_count": 26,
   "metadata": {
    "collapsed": true
=======
   "execution_count": 62,
   "metadata": {
    "ExecuteTime": {
     "end_time": "2018-02-25T20:58:26.684119Z",
     "start_time": "2018-02-25T20:58:26.675665Z"
    }
>>>>>>> 61212ff1d911688a637a177a06195b11c5734acb
   },
   "outputs": [],
   "source": [
    "Z=npr.exponential(size=10)\n",
    "med_Z=np.median(Z)"
   ]
  },
  {
   "cell_type": "markdown",
   "metadata": {},
   "source": [
    "Fonction de répartition de la médiane empirique approché par Monte Carlo"
   ]
  },
  {
   "cell_type": "code",
<<<<<<< HEAD
   "execution_count": 27,
   "metadata": {},
=======
   "execution_count": 64,
   "metadata": {
    "ExecuteTime": {
     "end_time": "2018-02-25T20:58:34.611842Z",
     "start_time": "2018-02-25T20:58:33.253264Z"
    }
   },
>>>>>>> 61212ff1d911688a637a177a06195b11c5734acb
   "outputs": [
    {
     "name": "stdout",
     "output_type": "stream",
     "text": [
<<<<<<< HEAD
      "médiane via MC: 0.746615197946\n"
=======
      "médiane via MC: 0.7442143549433653\n"
>>>>>>> 61212ff1d911688a637a177a06195b11c5734acb
     ]
    }
   ],
   "source": [
    "M=10000\n",
    "med_MC=np.zeros(M)\n",
    "for m in range(M):\n",
    "        Z=npr.exponential(size=10)\n",
    "        med_MC[m]=np.median(Z)\n",
    "print(\"médiane via MC:\",np.mean(med_MC))"
   ]
  },
  {
<<<<<<< HEAD
=======
   "cell_type": "markdown",
   "metadata": {},
   "source": [
    "Comparaison des fonctions de répartition de l'approximation asymptotique gaussienne, celle approchée par Monte Carlo et celle obtenue par estimateurs boostrapés :"
   ]
  },
  {
   "cell_type": "code",
   "execution_count": 66,
   "metadata": {
    "ExecuteTime": {
     "end_time": "2018-02-25T20:59:10.729847Z",
     "start_time": "2018-02-25T20:59:10.384834Z"
    }
   },
   "outputs": [
    {
     "data": {
      "image/png": "iVBORw0KGgoAAAANSUhEUgAAAXcAAAD8CAYAAACMwORRAAAABHNCSVQICAgIfAhkiAAAAAlwSFlz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\n4YIk3IUQwgVJuAshhAuScBdCCBf0/8KRRnSkCzmVAAAAAElFTkSuQmCC\n",
      "text/plain": [
       "<matplotlib.figure.Figure at 0x1a18636630>"
      ]
     },
     "metadata": {},
     "output_type": "display_data"
    }
   ],
   "source": [
    "plt.plot(np.sqrt(len(Z))*(np.sort(med_MC)-np.log(2)),(1/M)*np.arange(M))\n",
    "gridnorm=np.arange(-2,5,0.01)\n",
    "plt.plot(gridnorm,norm.cdf(gridnorm))\n",
    "plt.plot(np.sqrt(len(Z))*(np.sort(med_star)-med_Z),(1/B)*np.arange(B))\n",
    "plt.legend([\"Monte Carlo\",\"Approx. gaussienne\",\"Estimateurs bootstrapés\"])\n",
    "plt.show()"
   ]
  },
  {
>>>>>>> 61212ff1d911688a637a177a06195b11c5734acb
   "cell_type": "markdown",
   "metadata": {},
   "source": [
    "La fonction de répartition obtenue par estimateurs boostrapés oscille autour de celle obtenue par approximation Gaussienne. En comparaison, la méthode de Monte Carlo semble ici plus précise pour cette estimation.\n",
    "\n",
    "On vérifie ici la convergence en loi de la médiane obtenue par boostrap vers une loi normale."
   ]
  },
  {
<<<<<<< HEAD
   "cell_type": "code",
   "execution_count": 28,
   "metadata": {},
   "outputs": [
    {
     "data": {
      "image/png": "iVBORw0KGgoAAAANSUhEUgAAAXcAAAD8CAYAAACMwORRAAAABHNCSVQICAgIfAhkiAAAAAlwSFlz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\nTkSuQmCC\n",
      "text/plain": [
       "<matplotlib.figure.Figure at 0x111a310b8>"
      ]
     },
     "metadata": {},
     "output_type": "display_data"
    }
   ],
   "source": [
    "plt.plot(np.sqrt(len(Z))*(np.sort(med_MC)-np.log(2)),(1/M)*np.arange(M))\n",
    "gridnorm=np.arange(-2,5,0.01)\n",
    "plt.plot(gridnorm,norm.cdf(gridnorm))\n",
    "plt.plot(np.sqrt(len(Z))*(np.sort(med_star)-med_Z),(1/B)*np.arange(B))\n",
    "plt.legend([\"Monte Carlo\",\"Approx. gaussienne\",\"Estimateurs bootstrapés\"])\n",
    "plt.show()"
=======
   "cell_type": "markdown",
   "metadata": {},
   "source": [
    "## Partie 2: intervalles de confiance"
>>>>>>> 61212ff1d911688a637a177a06195b11c5734acb
   ]
  },
  {
   "cell_type": "markdown",
   "metadata": {},
   "source": [
    "On définit ci-dessous les paramètres :"
   ]
  },
  {
   "cell_type": "code",
<<<<<<< HEAD
   "execution_count": 2,
   "metadata": {
    "collapsed": true
=======
   "execution_count": 13,
   "metadata": {
    "ExecuteTime": {
     "end_time": "2018-02-25T19:22:16.120990Z",
     "start_time": "2018-02-25T19:22:16.110876Z"
    }
>>>>>>> 61212ff1d911688a637a177a06195b11c5734acb
   },
   "outputs": [],
   "source": [
    "n=10\n",
    "p=0.7\n",
    "theta=0.007\n",
    "q=1\n",
    "kappa=0.02\n",
    "alpha=0.05\n",
    "tau=(p*kappa)/(q*theta)"
   ]
  },
  {
<<<<<<< HEAD
   "cell_type": "code",
   "execution_count": 3,
   "metadata": {
    "collapsed": true
=======
   "cell_type": "markdown",
   "metadata": {},
   "source": [
    "On définit nos deux échantillons de taille n :"
   ]
  },
  {
   "cell_type": "code",
   "execution_count": 14,
   "metadata": {
    "ExecuteTime": {
     "end_time": "2018-02-25T19:22:16.149364Z",
     "start_time": "2018-02-25T19:22:16.125056Z"
    }
>>>>>>> 61212ff1d911688a637a177a06195b11c5734acb
   },
   "outputs": [],
   "source": [
    "X=npr.gamma(p,1/theta,size=n)\n",
    "Y=npr.gamma(q,1/kappa,size=n)"
   ]
  },
  {
   "cell_type": "code",
<<<<<<< HEAD
   "execution_count": 4,
   "metadata": {
    "collapsed": true
=======
   "execution_count": 15,
   "metadata": {
    "ExecuteTime": {
     "end_time": "2018-02-25T19:22:16.162455Z",
     "start_time": "2018-02-25T19:22:16.154202Z"
    }
>>>>>>> 61212ff1d911688a637a177a06195b11c5734acb
   },
   "outputs": [],
   "source": [
    "def tau_hat(x,y):\n",
    "    return(np.mean(x)/np.mean(y))"
   ]
  },
  {
   "cell_type": "markdown",
   "metadata": {},
   "source": [
    "## Intervalle de confiance par approximation normale :"
   ]
  },
  {
   "cell_type": "markdown",
   "metadata": {},
   "source": [
    "La loi limite de $\\sqrt{n}(\\hat{\\tau}-\\tau)$ est $\\mathcal{N}(0,\\sigma^2)$ avec $\\sigma^2 = \\dfrac{\\mathbb{V}(X)}{\\bar{Y}_n^{2}} + \\dfrac{\\bar{X}_n^2 \\mathbb{V}(Y)}{\\bar{Y}_n^4}$"
   ]
  },
  {
   "cell_type": "markdown",
   "metadata": {},
   "source": [
    "On en déduit l'intervalle de confiance asymptotique par approximation normale :"
   ]
  },
  {
   "cell_type": "markdown",
   "metadata": {},
   "source": [
    "$$IC_{\\text{AN}}(\\alpha)=\\left[\\hat{\\tau} -\n",
    "\\frac{\\hat{\\sigma}}{\\sqrt n} \\Phi^{-1} (1-\\alpha/2);\\hat{\\tau}+\n",
    "\\frac{\\hat{\\sigma}}{\\sqrt n} \\Phi^{-1} (1-\\alpha/2)\\right]\n",
    "$$\n",
    "\n",
    "où $$\\hat{\\sigma}=\\sqrt{\\frac{\\frac{1}{n} \\sum_{i=1}^n (X_i\n",
    "-\\bar{X}_n)^2 }{\\bar{Y}_n^2}+\\frac{\\bar{X}_n^2}{\\bar{Y}_n^4}\n",
    "\\frac{1}{n} \\sum_{i=1}^n (Y_i -\\bar{Y}_n)^2}.$$"
   ]
  },
  {
   "cell_type": "markdown",
   "metadata": {},
   "source": [
    "## Intervalle de confiance par Boostrap :"
   ]
  },
  {
   "cell_type": "markdown",
   "metadata": {},
   "source": [
    "### IC par bootstrap"
   ]
  },
  {
<<<<<<< HEAD
   "cell_type": "code",
   "execution_count": 5,
   "metadata": {
    "collapsed": true
=======
   "cell_type": "markdown",
   "metadata": {},
   "source": [
    "Construction de l'intervalle de confiance par approximation normale :"
   ]
  },
  {
   "cell_type": "code",
   "execution_count": 16,
   "metadata": {
    "ExecuteTime": {
     "end_time": "2018-02-25T19:22:16.176143Z",
     "start_time": "2018-02-25T19:22:16.166582Z"
    }
>>>>>>> 61212ff1d911688a637a177a06195b11c5734acb
   },
   "outputs": [],
   "source": [
    "def sigma_hat(x,y):\n",
    "    return  np.sqrt( np.var(x)/(np.mean(y**2)) + (np.mean(x**2)/np.mean(y**4))*np.var(y) )"
   ]
  },
  {
   "cell_type": "code",
<<<<<<< HEAD
   "execution_count": 6,
   "metadata": {
    "collapsed": true
=======
   "execution_count": 17,
   "metadata": {
    "ExecuteTime": {
     "end_time": "2018-02-25T19:22:16.201588Z",
     "start_time": "2018-02-25T19:22:16.180470Z"
    }
>>>>>>> 61212ff1d911688a637a177a06195b11c5734acb
   },
   "outputs": [],
   "source": [
    "def ICAN(alpha,X,Y):\n",
    "    A= []\n",
    "    A.append(tau_hat(X,Y)-sigma_hat(X,Y)/np.sqrt(n)*norm.ppf(1-alpha/2))\n",
    "    A.append(tau_hat(X,Y)+sigma_hat(X,Y)/np.sqrt(n)*norm.ppf(1-alpha/2))\n",
    "    return A"
   ]
  },
  {
   "cell_type": "code",
<<<<<<< HEAD
   "execution_count": 7,
   "metadata": {},
=======
   "execution_count": 18,
   "metadata": {
    "ExecuteTime": {
     "end_time": "2018-02-25T19:22:16.221251Z",
     "start_time": "2018-02-25T19:22:16.207611Z"
    }
   },
>>>>>>> 61212ff1d911688a637a177a06195b11c5734acb
   "outputs": [
    {
     "name": "stdout",
     "output_type": "stream",
     "text": [
<<<<<<< HEAD
      "[0.65047998342199498, 2.2056536196001755]\n",
      "1.42806680151\n"
=======
      "Intervalle de confiance à un niveau alpha = 5% d'une approximation normale :  [1.7876645511421447, 7.841911700420223]\n",
      "Valeur de l'estimation :  4.814788125781184\n"
>>>>>>> 61212ff1d911688a637a177a06195b11c5734acb
     ]
    }
   ],
   "source": [
    "print(\"Intervalle de confiance à un niveau alpha = 5% d'une approximation normale : \",ICAN(alpha,X,Y))\n",
    "print(\"Valeur de l'estimation : \",tau_hat(X,Y))"
   ]
  },
  {
<<<<<<< HEAD
   "cell_type": "code",
   "execution_count": 8,
=======
   "cell_type": "markdown",
>>>>>>> 61212ff1d911688a637a177a06195b11c5734acb
   "metadata": {},
   "source": [
    "On estime le paramètre $\\hat{\\tau}$, par Boostrap ci-dessous. On stocke les différentes valeurs dans le vecteur \"tau_star\" : "
   ]
  },
  {
   "cell_type": "code",
   "execution_count": 19,
   "metadata": {
    "ExecuteTime": {
     "end_time": "2018-02-25T19:22:16.587037Z",
     "start_time": "2018-02-25T19:22:16.226008Z"
    }
   },
   "outputs": [],
   "source": [
    "#Bootstrap\n",
    "B=1000\n",
    "tau_star=np.zeros(B)\n",
    "S_star=np.zeros(B)\n",
    "tau_hat_val=tau_hat(X,Y)\n",
    "for b in range(B):\n",
    "    ind=npr.randint(0,n,n)\n",
    "    sample_X=X[ind]\n",
    "    sample_Y=Y[ind]\n",
    "    tau_star[b]=tau_hat(sample_X,sample_Y)\n",
    "    var_hat=np.var(sample_X/np.sqrt(np.var(sample_X)/np.mean(sample_Y)**2+\n",
    "                                    np.mean(sample_X)*np.var(sample_Y)/np.mean(sample_Y)**4) )\n",
    "    S_star[b]=np.sqrt(n)*(tau_star[b]-tau_hat_val)/np.sqrt(var_hat)\n",
    "\n",
    "#ordonne les paramètres estimés\n",
    "tau_star=np.sort(tau_star)\n",
    "S_star=np.sort(S_star)"
   ]
  },
  {
<<<<<<< HEAD
   "cell_type": "code",
   "execution_count": 9,
   "metadata": {
    "collapsed": true
=======
   "cell_type": "markdown",
   "metadata": {},
   "source": [
    "On définit ci-dessous notre intevalle de confiance du boostrap basique (\"IC_base\") :"
   ]
  },
  {
   "cell_type": "code",
   "execution_count": 20,
   "metadata": {
    "ExecuteTime": {
     "end_time": "2018-02-25T19:22:16.605386Z",
     "start_time": "2018-02-25T19:22:16.589757Z"
    }
>>>>>>> 61212ff1d911688a637a177a06195b11c5734acb
   },
   "outputs": [],
   "source": [
    "def IC_base(alpha,x,y,theta):\n",
    "    A= []\n",
    "    A.append( 2*tau_hat(x,y)-theta[math.ceil(len(theta)*(1-alpha/2))] )\n",
    "    A.append( 2*tau_hat(x,y)-theta[math.ceil(len(theta)*(alpha/2))] )\n",
    "    return(A)"
   ]
  },
  {
   "cell_type": "code",
<<<<<<< HEAD
   "execution_count": 10,
   "metadata": {},
=======
   "execution_count": 21,
   "metadata": {
    "ExecuteTime": {
     "end_time": "2018-02-25T19:22:16.619108Z",
     "start_time": "2018-02-25T19:22:16.609644Z"
    }
   },
>>>>>>> 61212ff1d911688a637a177a06195b11c5734acb
   "outputs": [
    {
     "name": "stdout",
     "output_type": "stream",
     "text": [
<<<<<<< HEAD
      "Intervalle de confiance de base: [0.19465066469947079, 2.2065647588127359]\n"
=======
      "Intervalle de confiance de base: [-2.6697072465769516, 7.683709882008846]\n"
>>>>>>> 61212ff1d911688a637a177a06195b11c5734acb
     ]
    }
   ],
   "source": [
    "print(\"Intervalle de confiance de base:\",IC_base(alpha,X,Y,tau_star))"
   ]
  },
  {
<<<<<<< HEAD
   "cell_type": "code",
   "execution_count": 11,
   "metadata": {
    "collapsed": true
=======
   "cell_type": "markdown",
   "metadata": {},
   "source": [
    "On définit ci-dessous notre intervalle de confiance du percentile (\"IC_perc\") : "
   ]
  },
  {
   "cell_type": "code",
   "execution_count": 22,
   "metadata": {
    "ExecuteTime": {
     "end_time": "2018-02-25T19:22:16.646353Z",
     "start_time": "2018-02-25T19:22:16.623457Z"
    }
>>>>>>> 61212ff1d911688a637a177a06195b11c5734acb
   },
   "outputs": [],
   "source": [
    "def IC_perc(alpha,x,y,theta):\n",
    "    A= []\n",
    "    A.append( theta[math.ceil(len(theta)*(alpha/2))] )\n",
    "    A.append( theta[math.ceil(len(theta)*(1-alpha/2))] )\n",
    "    return(A)"
   ]
  },
  {
   "cell_type": "code",
<<<<<<< HEAD
   "execution_count": 12,
   "metadata": {},
=======
   "execution_count": 23,
   "metadata": {
    "ExecuteTime": {
     "end_time": "2018-02-25T19:22:16.659577Z",
     "start_time": "2018-02-25T19:22:16.649663Z"
    }
   },
>>>>>>> 61212ff1d911688a637a177a06195b11c5734acb
   "outputs": [
    {
     "name": "stdout",
     "output_type": "stream",
     "text": [
<<<<<<< HEAD
      "Intervalle de confiance percentile: [0.64956884420943461, 2.6614829383226999]\n"
=======
      "Intervalle de confiance percentile: [1.9458663695535219, 12.299283498139319]\n"
>>>>>>> 61212ff1d911688a637a177a06195b11c5734acb
     ]
    }
   ],
   "source": [
    "print(\"Intervalle de confiance percentile:\",IC_perc(alpha,X,Y,tau_star))"
   ]
  },
  {
<<<<<<< HEAD
   "cell_type": "code",
   "execution_count": 13,
   "metadata": {
    "collapsed": true
=======
   "cell_type": "markdown",
   "metadata": {},
   "source": [
    "On définit enfin, l'intervalle de confiance du t-boostrap (\"IC_t_boot\") :"
   ]
  },
  {
   "cell_type": "code",
   "execution_count": 24,
   "metadata": {
    "ExecuteTime": {
     "end_time": "2018-02-25T19:22:16.687581Z",
     "start_time": "2018-02-25T19:22:16.663752Z"
    }
>>>>>>> 61212ff1d911688a637a177a06195b11c5734acb
   },
   "outputs": [],
   "source": [
    "def IC_t_boot(alpha,x,y,theta):\n",
    "    A= []\n",
    "    sigma_F=np.sqrt( np.var(x/np.sqrt(np.var(x)/np.mean(y)**2+\n",
    "                                    np.mean(x)*np.var(y)/np.mean(y)**4) ) )\n",
    "    \n",
    "    A.append( tau_hat(x,y) - sigma_F*theta[math.ceil(len(theta)*(1-alpha/2))]/np.sqrt(n) )\n",
    "    A.append( tau_hat(x,y) - sigma_F*theta[math.ceil(len(theta)*(alpha/2))]/np.sqrt(n)  )\n",
    "    return(A)"
   ]
  },
  {
   "cell_type": "code",
<<<<<<< HEAD
   "execution_count": 14,
   "metadata": {},
=======
   "execution_count": 25,
   "metadata": {
    "ExecuteTime": {
     "end_time": "2018-02-25T19:22:16.703605Z",
     "start_time": "2018-02-25T19:22:16.691927Z"
    }
   },
>>>>>>> 61212ff1d911688a637a177a06195b11c5734acb
   "outputs": [
    {
     "name": "stdout",
     "output_type": "stream",
     "text": [
<<<<<<< HEAD
      "Intervalle de confiance t-bootstrap: [-0.51565114785864008, 2.2926772083574005]\n"
=======
      "Intervalle de confiance t-bootstrap: [-7.314690220336636, 7.556644526137523]\n"
>>>>>>> 61212ff1d911688a637a177a06195b11c5734acb
     ]
    }
   ],
   "source": [
    "print(\"Intervalle de confiance t-bootstrap:\",IC_t_boot(alpha,X,Y,S_star))"
   ]
  },
  {
   "cell_type": "markdown",
   "metadata": {},
   "source": [
    "### Comparaison des IC"
   ]
  },
  {
<<<<<<< HEAD
   "cell_type": "code",
   "execution_count": 92,
=======
   "cell_type": "markdown",
>>>>>>> 61212ff1d911688a637a177a06195b11c5734acb
   "metadata": {},
   "source": [
    "Dans cette partie nous allons comparer par Monte Carlo les performances des différents intervalles de confiances obtenus par les trois fonctions précédentes, en considérant la moyenne des bornes inf et sup de ces intervalles."
   ]
  },
  {
   "cell_type": "code",
   "execution_count": 26,
   "metadata": {
    "ExecuteTime": {
     "end_time": "2018-02-25T19:27:21.657142Z",
     "start_time": "2018-02-25T19:22:16.708292Z"
    }
   },
   "outputs": [],
   "source": [
    "#Monte Carlo \n",
    "M=1000\n",
    "tau_star=np.zeros(B)\n",
    "S_star=np.zeros(B)\n",
    "tau_hat_val=tau_hat(X,Y)\n",
    "\n",
    "#intervalles de confiance\n",
    "IC_base_list=[]\n",
    "IC_perc_list=[]\n",
    "IC_boot_list=[]\n",
    "\n",
    "for m in range(M):\n",
    "    X=npr.gamma(p,1/theta,size=n)\n",
    "    Y=npr.gamma(q,1/kappa,size=n)\n",
    "    for b in range(B):\n",
    "        \n",
    "        ind=npr.randint(0,n,n)\n",
    "        sample_X=X[ind]\n",
    "        sample_Y=Y[ind]\n",
    "        tau_star[b]=tau_hat(sample_X,sample_Y)\n",
    "        var_hat=np.var(sample_X/np.sqrt(np.var(sample_X)/np.mean(sample_Y)**2+\n",
    "                                   np.mean(sample_X)*np.var(sample_Y)/np.mean(sample_Y)**4) )\n",
    "        S_star[b]=np.sqrt(n)*(tau_star[b]-tau_hat_val)/np.sqrt(var_hat)\n",
    "   #ordonne les paramètres estimés\n",
    "    tau_star=np.sort(tau_star)\n",
    "    S_star=np.sort(S_star)\n",
    "    IC_base_list.append(IC_base(alpha,X,Y,tau_star))\n",
    "    IC_perc_list.append(IC_perc(alpha,X,Y,tau_star))\n",
    "    IC_boot_list.append(IC_t_boot(alpha,X,Y,S_star))"
   ]
  },
  {
   "cell_type": "code",
   "execution_count": 27,
   "metadata": {
    "ExecuteTime": {
     "end_time": "2018-02-25T19:27:21.692256Z",
     "start_time": "2018-02-25T19:27:21.660001Z"
    }
   },
   "outputs": [],
   "source": [
    "#crée listes contenant les IC de chaque méthode, pour chaque itération de Monte Carlo m=1...M\n",
    "inf_base=np.zeros(M)\n",
    "inf_perc=np.zeros(M)\n",
    "inf_boot=np.zeros(M)\n",
    "sup_base=np.zeros(M)\n",
    "sup_perc=np.zeros(M)\n",
    "sup_boot=np.zeros(M)\n",
    "\n",
    "for m in range(M):\n",
    "    inf_base[m]= IC_base_list[m][0]\n",
    "    inf_perc[m]= IC_perc_list[m][0]\n",
    "    inf_boot[m]= IC_boot_list[m][0]\n",
    "    sup_base[m]= IC_base_list[m][1]\n",
    "    sup_perc[m]= IC_perc_list[m][1]\n",
    "    sup_boot[m]= IC_boot_list[m][1]"
   ]
  },
  {
   "cell_type": "code",
   "execution_count": 28,
   "metadata": {
    "ExecuteTime": {
     "end_time": "2018-02-25T19:27:21.710821Z",
     "start_time": "2018-02-25T19:27:21.696360Z"
    }
   },
   "outputs": [
    {
     "name": "stdout",
     "output_type": "stream",
     "text": [
<<<<<<< HEAD
      "m= 0\n",
      "m= 1\n",
      "m= 2\n",
      "m= 3\n",
      "m= 4\n",
      "m= 5\n",
      "m= 6\n",
      "m= 7\n",
      "m= 8\n",
      "m= 9\n",
      "m= 10\n",
      "m= 11\n",
      "m= 12\n",
      "m= 13\n",
      "m= 14\n",
      "m= 15\n",
      "m= 16\n",
      "m= 17\n",
      "m= 18\n",
      "m= 19\n",
      "m= 20\n",
      "m= 21\n",
      "m= 22\n",
      "m= 23\n",
      "m= 24\n",
      "m= 25\n",
      "m= 26\n",
      "m= 27\n",
      "m= 28\n",
      "m= 29\n",
      "m= 30\n",
      "m= 31\n",
      "m= 32\n",
      "m= 33\n",
      "m= 34\n",
      "m= 35\n",
      "m= 36\n",
      "m= 37\n",
      "m= 38\n",
      "m= 39\n",
      "m= 40\n",
      "m= 41\n",
      "m= 42\n",
      "m= 43\n",
      "m= 44\n",
      "m= 45\n",
      "m= 46\n",
      "m= 47\n",
      "m= 48\n",
      "m= 49\n",
      "m= 50\n",
      "m= 51\n",
      "m= 52\n",
      "m= 53\n",
      "m= 54\n",
      "m= 55\n",
      "m= 56\n",
      "m= 57\n",
      "m= 58\n",
      "m= 59\n",
      "m= 60\n",
      "m= 61\n",
      "m= 62\n",
      "m= 63\n",
      "m= 64\n",
      "m= 65\n",
      "m= 66\n",
      "m= 67\n",
      "m= 68\n",
      "m= 69\n",
      "m= 70\n",
      "m= 71\n",
      "m= 72\n",
      "m= 73\n",
      "m= 74\n",
      "m= 75\n",
      "m= 76\n",
      "m= 77\n",
      "m= 78\n",
      "m= 79\n",
      "m= 80\n",
      "m= 81\n",
      "m= 82\n",
      "m= 83\n",
      "m= 84\n",
      "m= 85\n",
      "m= 86\n",
      "m= 87\n",
      "m= 88\n",
      "m= 89\n",
      "m= 90\n",
      "m= 91\n",
      "m= 92\n",
      "m= 93\n",
      "m= 94\n",
      "m= 95\n",
      "m= 96\n",
      "m= 97\n",
      "m= 98\n",
      "m= 99\n",
      "m= 100\n",
      "m= 101\n",
      "m= 102\n",
      "m= 103\n",
      "m= 104\n",
      "m= 105\n",
      "m= 106\n",
      "m= 107\n",
      "m= 108\n",
      "m= 109\n",
      "m= 110\n",
      "m= 111\n",
      "m= 112\n",
      "m= 113\n",
      "m= 114\n",
      "m= 115\n",
      "m= 116\n",
      "m= 117\n",
      "m= 118\n",
      "m= 119\n",
      "m= 120\n",
      "m= 121\n",
      "m= 122\n",
      "m= 123\n",
      "m= 124\n",
      "m= 125\n",
      "m= 126\n",
      "m= 127\n",
      "m= 128\n",
      "m= 129\n",
      "m= 130\n",
      "m= 131\n",
      "m= 132\n",
      "m= 133\n",
      "m= 134\n",
      "m= 135\n",
      "m= 136\n",
      "m= 137\n",
      "m= 138\n",
      "m= 139\n",
      "m= 140\n",
      "m= 141\n",
      "m= 142\n",
      "m= 143\n",
      "m= 144\n",
      "m= 145\n",
      "m= 146\n",
      "m= 147\n",
      "m= 148\n",
      "m= 149\n",
      "m= 150\n",
      "m= 151\n",
      "m= 152\n",
      "m= 153\n",
      "m= 154\n",
      "m= 155\n",
      "m= 156\n",
      "m= 157\n",
      "m= 158\n",
      "m= 159\n",
      "m= 160\n",
      "m= 161\n",
      "m= 162\n",
      "m= 163\n",
      "m= 164\n",
      "m= 165\n",
      "m= 166\n",
      "m= 167\n",
      "m= 168\n",
      "m= 169\n",
      "m= 170\n",
      "m= 171\n",
      "m= 172\n",
      "m= 173\n",
      "m= 174\n",
      "m= 175\n",
      "m= 176\n",
      "m= 177\n",
      "m= 178\n",
      "m= 179\n",
      "m= 180\n",
      "m= 181\n",
      "m= 182\n",
      "m= 183\n",
      "m= 184\n",
      "m= 185\n",
      "m= 186\n",
      "m= 187\n",
      "m= 188\n",
      "m= 189\n",
      "m= 190\n",
      "m= 191\n",
      "m= 192\n",
      "m= 193\n",
      "m= 194\n",
      "m= 195\n",
      "m= 196\n",
      "m= 197\n",
      "m= 198\n",
      "m= 199\n",
      "m= 200\n",
      "m= 201\n",
      "m= 202\n",
      "m= 203\n",
      "m= 204\n",
      "m= 205\n",
      "m= 206\n",
      "m= 207\n",
      "m= 208\n",
      "m= 209\n",
      "m= 210\n",
      "m= 211\n",
      "m= 212\n",
      "m= 213\n",
      "m= 214\n",
      "m= 215\n",
      "m= 216\n",
      "m= 217\n",
      "m= 218\n",
      "m= 219\n",
      "m= 220\n",
      "m= 221\n",
      "m= 222\n",
      "m= 223\n",
      "m= 224\n",
      "m= 225\n",
      "m= 226\n",
      "m= 227\n",
      "m= 228\n",
      "m= 229\n",
      "m= 230\n",
      "m= 231\n",
      "m= 232\n",
      "m= 233\n",
      "m= 234\n",
      "m= 235\n",
      "m= 236\n",
      "m= 237\n",
      "m= 238\n",
      "m= 239\n",
      "m= 240\n",
      "m= 241\n",
      "m= 242\n",
      "m= 243\n",
      "m= 244\n",
      "m= 245\n",
      "m= 246\n",
      "m= 247\n",
      "m= 248\n",
      "m= 249\n",
      "m= 250\n",
      "m= 251\n",
      "m= 252\n",
      "m= 253\n",
      "m= 254\n",
      "m= 255\n",
      "m= 256\n",
      "m= 257\n",
      "m= 258\n",
      "m= 259\n",
      "m= 260\n",
      "m= 261\n",
      "m= 262\n",
      "m= 263\n",
      "m= 264\n",
      "m= 265\n",
      "m= 266\n",
      "m= 267\n",
      "m= 268\n",
      "m= 269\n",
      "m= 270\n",
      "m= 271\n",
      "m= 272\n",
      "m= 273\n",
      "m= 274\n",
      "m= 275\n",
      "m= 276\n",
      "m= 277\n",
      "m= 278\n",
      "m= 279\n",
      "m= 280\n",
      "m= 281\n",
      "m= 282\n",
      "m= 283\n",
      "m= 284\n",
      "m= 285\n",
      "m= 286\n",
      "m= 287\n",
      "m= 288\n",
      "m= 289\n",
      "m= 290\n",
      "m= 291\n",
      "m= 292\n",
      "m= 293\n",
      "m= 294\n",
      "m= 295\n",
      "m= 296\n",
      "m= 297\n",
      "m= 298\n",
      "m= 299\n",
      "m= 300\n",
      "m= 301\n",
      "m= 302\n",
      "m= 303\n",
      "m= 304\n",
      "m= 305\n",
      "m= 306\n",
      "m= 307\n",
      "m= 308\n",
      "m= 309\n",
      "m= 310\n",
      "m= 311\n",
      "m= 312\n",
      "m= 313\n",
      "m= 314\n",
      "m= 315\n",
      "m= 316\n",
      "m= 317\n",
      "m= 318\n",
      "m= 319\n",
      "m= 320\n",
      "m= 321\n",
      "m= 322\n",
      "m= 323\n",
      "m= 324\n",
      "m= 325\n",
      "m= 326\n",
      "m= 327\n",
      "m= 328\n",
      "m= 329\n",
      "m= 330\n",
      "m= 331\n",
      "m= 332\n",
      "m= 333\n",
      "m= 334\n",
      "m= 335\n",
      "m= 336\n",
      "m= 337\n",
      "m= 338\n",
      "m= 339\n",
      "m= 340\n",
      "m= 341\n",
      "m= 342\n",
      "m= 343\n",
      "m= 344\n",
      "m= 345\n",
      "m= 346\n",
      "m= 347\n",
      "m= 348\n",
      "m= 349\n",
      "m= 350\n",
      "m= 351\n",
      "m= 352\n",
      "m= 353\n",
      "m= 354\n",
      "m= 355\n",
      "m= 356\n",
      "m= 357\n",
      "m= 358\n",
      "m= 359\n",
      "m= 360\n",
      "m= 361\n",
      "m= 362\n",
      "m= 363\n",
      "m= 364\n",
      "m= 365\n",
      "m= 366\n",
      "m= 367\n",
      "m= 368\n",
      "m= 369\n",
      "m= 370\n",
      "m= 371\n",
      "m= 372\n",
      "m= 373\n",
      "m= 374\n",
      "m= 375\n",
      "m= 376\n",
      "m= 377\n",
      "m= 378\n",
      "m= 379\n",
      "m= 380\n",
      "m= 381\n",
      "m= 382\n",
      "m= 383\n",
      "m= 384\n",
      "m= 385\n",
      "m= 386\n",
      "m= 387\n",
      "m= 388\n",
      "m= 389\n",
      "m= 390\n",
      "m= 391\n",
      "m= 392\n",
      "m= 393\n",
      "m= 394\n",
      "m= 395\n",
      "m= 396\n",
      "m= 397\n",
      "m= 398\n",
      "m= 399\n",
      "m= 400\n",
      "m= 401\n",
      "m= 402\n",
      "m= 403\n",
      "m= 404\n",
      "m= 405\n",
      "m= 406\n",
      "m= 407\n",
      "m= 408\n",
      "m= 409\n",
      "m= 410\n",
      "m= 411\n",
      "m= 412\n",
      "m= 413\n",
      "m= 414\n",
      "m= 415\n",
      "m= 416\n",
      "m= 417\n",
      "m= 418\n",
      "m= 419\n",
      "m= 420\n",
      "m= 421\n",
      "m= 422\n",
      "m= 423\n",
      "m= 424\n",
      "m= 425\n",
      "m= 426\n",
      "m= 427\n",
      "m= 428\n",
      "m= 429\n",
      "m= 430\n",
      "m= 431\n",
      "m= 432\n",
      "m= 433\n",
      "m= 434\n",
      "m= 435\n",
      "m= 436\n",
      "m= 437\n",
      "m= 438\n",
      "m= 439\n",
      "m= 440\n",
      "m= 441\n",
      "m= 442\n",
      "m= 443\n",
      "m= 444\n",
      "m= 445\n",
      "m= 446\n",
      "m= 447\n",
      "m= 448\n",
      "m= 449\n",
      "m= 450\n",
      "m= 451\n",
      "m= 452\n",
      "m= 453\n",
      "m= 454\n",
      "m= 455\n",
      "m= 456\n",
      "m= 457\n",
      "m= 458\n",
      "m= 459\n",
      "m= 460\n",
      "m= 461\n",
      "m= 462\n",
      "m= 463\n",
      "m= 464\n",
      "m= 465\n",
      "m= 466\n",
      "m= 467\n",
      "m= 468\n",
      "m= 469\n",
      "m= 470\n",
      "m= 471\n",
      "m= 472\n",
      "m= 473\n",
      "m= 474\n",
      "m= 475\n",
      "m= 476\n",
      "m= 477\n",
      "m= 478\n",
      "m= 479\n",
      "m= 480\n",
      "m= 481\n",
      "m= 482\n",
      "m= 483\n",
      "m= 484\n",
      "m= 485\n",
      "m= 486\n",
      "m= 487\n",
      "m= 488\n",
      "m= 489\n",
      "m= 490\n",
      "m= 491\n",
      "m= 492\n",
      "m= 493\n",
      "m= 494\n",
      "m= 495\n",
      "m= 496\n",
      "m= 497\n",
      "m= 498\n",
      "m= 499\n",
      "m= 500\n",
      "m= 501\n",
      "m= 502\n",
      "m= 503\n",
      "m= 504\n",
      "m= 505\n",
      "m= 506\n",
      "m= 507\n",
      "m= 508\n",
      "m= 509\n",
      "m= 510\n",
      "m= 511\n",
      "m= 512\n",
      "m= 513\n",
      "m= 514\n",
      "m= 515\n",
      "m= 516\n",
      "m= 517\n",
      "m= 518\n",
      "m= 519\n",
      "m= 520\n",
      "m= 521\n",
      "m= 522\n",
      "m= 523\n",
      "m= 524\n",
      "m= 525\n",
      "m= 526\n",
      "m= 527\n",
      "m= 528\n",
      "m= 529\n",
      "m= 530\n",
      "m= 531\n",
      "m= 532\n",
      "m= 533\n",
      "m= 534\n",
      "m= 535\n",
      "m= 536\n",
      "m= 537\n",
      "m= 538\n",
      "m= 539\n",
      "m= 540\n",
      "m= 541\n",
      "m= 542\n",
      "m= 543\n",
      "m= 544\n",
      "m= 545\n",
      "m= 546\n",
      "m= 547\n",
      "m= 548\n",
      "m= 549\n",
      "m= 550\n",
      "m= 551\n",
      "m= 552\n",
      "m= 553\n",
      "m= 554\n",
      "m= 555\n",
      "m= 556\n",
      "m= 557\n",
      "m= 558\n",
      "m= 559\n",
      "m= 560\n",
      "m= 561\n",
      "m= 562\n",
      "m= 563\n",
      "m= 564\n",
      "m= 565\n",
      "m= 566\n",
      "m= 567\n",
      "m= 568\n",
      "m= 569\n",
      "m= 570\n",
      "m= 571\n",
      "m= 572\n",
      "m= 573\n",
      "m= 574\n",
      "m= 575\n",
      "m= 576\n",
      "m= 577\n",
      "m= 578\n",
      "m= 579\n",
      "m= 580\n",
      "m= 581\n",
      "m= 582\n",
      "m= 583\n",
      "m= 584\n",
      "m= 585\n",
      "m= 586\n",
      "m= 587\n",
      "m= 588\n",
      "m= 589\n",
      "m= 590\n",
      "m= 591\n",
      "m= 592\n",
      "m= 593\n",
      "m= 594\n",
      "m= 595\n",
      "m= 596\n",
      "m= 597\n",
      "m= 598\n",
      "m= 599\n",
      "m= 600\n",
      "m= 601\n",
      "m= 602\n",
      "m= 603\n",
      "m= 604\n",
      "m= 605\n",
      "m= 606\n",
      "m= 607\n",
      "m= 608\n",
      "m= 609\n",
      "m= 610\n",
      "m= 611\n",
      "m= 612\n",
      "m= 613\n",
      "m= 614\n",
      "m= 615\n",
      "m= 616\n",
      "m= 617\n",
      "m= 618\n",
      "m= 619\n",
      "m= 620\n",
      "m= 621\n",
      "m= 622\n",
      "m= 623\n",
      "m= 624\n",
      "m= 625\n",
      "m= 626\n",
      "m= 627\n",
      "m= 628\n",
      "m= 629\n",
      "m= 630\n",
      "m= 631\n",
      "m= 632\n",
      "m= 633\n",
      "m= 634\n",
      "m= 635\n",
      "m= 636\n",
      "m= 637\n",
      "m= 638\n",
      "m= 639\n",
      "m= 640\n",
      "m= 641\n",
      "m= 642\n",
      "m= 643\n",
      "m= 644\n",
      "m= 645\n",
      "m= 646\n",
      "m= 647\n",
      "m= 648\n",
      "m= 649\n",
      "m= 650\n",
      "m= 651\n",
      "m= 652\n",
      "m= 653\n",
      "m= 654\n",
      "m= 655\n",
      "m= 656\n",
      "m= 657\n",
      "m= 658\n",
      "m= 659\n",
      "m= 660\n",
      "m= 661\n",
      "m= 662\n",
      "m= 663\n",
      "m= 664\n",
      "m= 665\n",
      "m= 666\n",
      "m= 667\n",
      "m= 668\n",
      "m= 669\n",
      "m= 670\n",
      "m= 671\n",
      "m= 672\n",
      "m= 673\n",
      "m= 674\n",
      "m= 675\n",
      "m= 676\n",
      "m= 677\n",
      "m= 678\n",
      "m= 679\n",
      "m= 680\n",
      "m= 681\n",
      "m= 682\n",
      "m= 683\n",
      "m= 684\n",
      "m= 685\n",
      "m= 686\n",
      "m= 687\n",
      "m= 688\n",
      "m= 689\n",
      "m= 690\n",
      "m= 691\n",
      "m= 692\n",
      "m= 693\n",
      "m= 694\n",
      "m= 695\n",
      "m= 696\n",
      "m= 697\n",
      "m= 698\n",
      "m= 699\n",
      "m= 700\n",
      "m= 701\n",
      "m= 702\n",
      "m= 703\n",
      "m= 704\n",
      "m= 705\n",
      "m= 706\n",
      "m= 707\n",
      "m= 708\n",
      "m= 709\n",
      "m= 710\n",
      "m= 711\n",
      "m= 712\n",
      "m= 713\n",
      "m= 714\n",
      "m= 715\n",
      "m= 716\n",
      "m= 717\n",
      "m= 718\n",
      "m= 719\n",
      "m= 720\n",
      "m= 721\n",
      "m= 722\n",
      "m= 723\n",
      "m= 724\n",
      "m= 725\n",
      "m= 726\n",
      "m= 727\n",
      "m= 728\n",
      "m= 729\n",
      "m= 730\n",
      "m= 731\n",
      "m= 732\n",
      "m= 733\n",
      "m= 734\n",
      "m= 735\n",
      "m= 736\n",
      "m= 737\n",
      "m= 738\n",
      "m= 739\n",
      "m= 740\n",
      "m= 741\n",
      "m= 742\n",
      "m= 743\n",
      "m= 744\n",
      "m= 745\n",
      "m= 746\n",
      "m= 747\n",
      "m= 748\n",
      "m= 749\n",
      "m= 750\n",
      "m= 751\n",
      "m= 752\n",
      "m= 753\n",
      "m= 754\n",
      "m= 755\n",
      "m= 756\n",
      "m= 757\n",
      "m= 758\n",
      "m= 759\n",
      "m= 760\n",
      "m= 761\n",
      "m= 762\n",
      "m= 763\n",
      "m= 764\n",
      "m= 765\n",
      "m= 766\n",
      "m= 767\n",
      "m= 768\n",
      "m= 769\n",
      "m= 770\n",
      "m= 771\n",
      "m= 772\n",
      "m= 773\n",
      "m= 774\n",
      "m= 775\n",
      "m= 776\n",
      "m= 777\n",
      "m= 778\n",
      "m= 779\n",
      "m= 780\n",
      "m= 781\n",
      "m= 782\n",
      "m= 783\n",
      "m= 784\n",
      "m= 785\n",
      "m= 786\n",
      "m= 787\n",
      "m= 788\n",
      "m= 789\n",
      "m= 790\n",
      "m= 791\n",
      "m= 792\n",
      "m= 793\n",
      "m= 794\n",
      "m= 795\n",
      "m= 796\n",
      "m= 797\n",
      "m= 798\n",
      "m= 799\n",
      "m= 800\n",
      "m= 801\n",
      "m= 802\n",
      "m= 803\n",
      "m= 804\n",
      "m= 805\n",
      "m= 806\n",
      "m= 807\n",
      "m= 808\n",
      "m= 809\n",
      "m= 810\n",
      "m= 811\n",
      "m= 812\n",
      "m= 813\n",
      "m= 814\n",
      "m= 815\n",
      "m= 816\n",
      "m= 817\n",
      "m= 818\n",
      "m= 819\n",
      "m= 820\n",
      "m= 821\n",
      "m= 822\n",
      "m= 823\n",
      "m= 824\n",
      "m= 825\n",
      "m= 826\n",
      "m= 827\n",
      "m= 828\n",
      "m= 829\n",
      "m= 830\n",
      "m= 831\n",
      "m= 832\n",
      "m= 833\n",
      "m= 834\n",
      "m= 835\n",
      "m= 836\n",
      "m= 837\n",
      "m= 838\n",
      "m= 839\n",
      "m= 840\n",
      "m= 841\n",
      "m= 842\n",
      "m= 843\n",
      "m= 844\n",
      "m= 845\n",
      "m= 846\n",
      "m= 847\n",
      "m= 848\n",
      "m= 849\n",
      "m= 850\n",
      "m= 851\n",
      "m= 852\n",
      "m= 853\n",
      "m= 854\n",
      "m= 855\n",
      "m= 856\n",
      "m= 857\n",
      "m= 858\n",
      "m= 859\n",
      "m= 860\n",
      "m= 861\n",
      "m= 862\n",
      "m= 863\n",
      "m= 864\n",
      "m= 865\n",
      "m= 866\n",
      "m= 867\n",
      "m= 868\n",
      "m= 869\n",
      "m= 870\n",
      "m= 871\n",
      "m= 872\n",
      "m= 873\n",
      "m= 874\n",
      "m= 875\n",
      "m= 876\n",
      "m= 877\n",
      "m= 878\n",
      "m= 879\n",
      "m= 880\n",
      "m= 881\n",
      "m= 882\n",
      "m= 883\n",
      "m= 884\n",
      "m= 885\n",
      "m= 886\n",
      "m= 887\n",
      "m= 888\n",
      "m= 889\n",
      "m= 890\n",
      "m= 891\n",
      "m= 892\n",
      "m= 893\n",
      "m= 894\n",
      "m= 895\n",
      "m= 896\n",
      "m= 897\n",
      "m= 898\n",
      "m= 899\n",
      "m= 900\n",
      "m= 901\n",
      "m= 902\n",
      "m= 903\n",
      "m= 904\n",
      "m= 905\n",
      "m= 906\n",
      "m= 907\n",
      "m= 908\n",
      "m= 909\n",
      "m= 910\n",
      "m= 911\n",
      "m= 912\n",
      "m= 913\n",
      "m= 914\n",
      "m= 915\n",
      "m= 916\n",
      "m= 917\n",
      "m= 918\n",
      "m= 919\n",
      "m= 920\n",
      "m= 921\n",
      "m= 922\n",
      "m= 923\n",
      "m= 924\n",
      "m= 925\n",
      "m= 926\n",
      "m= 927\n",
      "m= 928\n",
      "m= 929\n",
      "m= 930\n",
      "m= 931\n",
      "m= 932\n",
      "m= 933\n",
      "m= 934\n",
      "m= 935\n",
      "m= 936\n",
      "m= 937\n",
      "m= 938\n",
      "m= 939\n",
      "m= 940\n",
      "m= 941\n",
      "m= 942\n",
      "m= 943\n",
      "m= 944\n",
      "m= 945\n",
      "m= 946\n",
      "m= 947\n",
      "m= 948\n",
      "m= 949\n",
      "m= 950\n",
      "m= 951\n",
      "m= 952\n",
      "m= 953\n",
      "m= 954\n",
      "m= 955\n",
      "m= 956\n",
      "m= 957\n",
      "m= 958\n",
      "m= 959\n",
      "m= 960\n",
      "m= 961\n",
      "m= 962\n",
      "m= 963\n",
      "m= 964\n",
      "m= 965\n",
      "m= 966\n",
      "m= 967\n",
      "m= 968\n",
      "m= 969\n",
      "m= 970\n",
      "m= 971\n",
      "m= 972\n",
      "m= 973\n",
      "m= 974\n",
      "m= 975\n",
      "m= 976\n",
      "m= 977\n",
      "m= 978\n",
      "m= 979\n",
      "m= 980\n",
      "m= 981\n",
      "m= 982\n",
      "m= 983\n",
      "m= 984\n",
      "m= 985\n",
      "m= 986\n",
      "m= 987\n",
      "m= 988\n",
      "m= 989\n",
      "m= 990\n",
      "m= 991\n",
      "m= 992\n",
      "m= 993\n",
      "m= 994\n",
      "m= 995\n",
      "m= 996\n",
      "m= 997\n",
      "m= 998\n",
      "m= 999\n"
=======
      " borne inf IC base -0.9577278648618847 \n",
      " borne inf IC percentile 0.9054538248784988 \n",
      " borne inf IC t-bootstrap 0.15333020663162683\n"
>>>>>>> 61212ff1d911688a637a177a06195b11c5734acb
     ]
    }
   ],
   "source": [
<<<<<<< HEAD
    "#Monte Carlo M=1000\n",
    "M=1000\n",
    "tau_star=np.zeros(B)\n",
    "S_star=np.zeros(B)\n",
    "tau_hat_val=tau_hat(X,Y)\n",
    "\n",
    "#intervalles de confiance\n",
    "IC_base_list=[]\n",
    "IC_perc_list=[]\n",
    "IC_boot_list=[]\n",
    "\n",
    "\n",
    "for m in range(M):\n",
    "    print(\"m=\",m)\n",
    "    X=npr.gamma(p,1/theta,size=n)\n",
    "    Y=npr.gamma(q,1/kappa,size=n)\n",
    "    for b in range(B):\n",
    "        ind=npr.randint(0,n,n)\n",
    "        sample_X=X[ind]\n",
    "        sample_Y=Y[ind]\n",
    "        tau_star[b]=tau_hat(sample_X,sample_Y)\n",
    "        var_hat=np.var(sample_X/np.sqrt(np.var(sample_X)/np.mean(sample_Y)**2+\n",
    "                                    np.mean(sample_X)*np.var(sample_Y)/np.mean(sample_Y)**4) )\n",
    "        S_star[b]=np.sqrt(n)*(tau_star[b]-tau_hat_val)/np.sqrt(var_hat)\n",
    "    #ordonne les paramètres estimés\n",
    "    tau_star=np.sort(tau_star)\n",
    "    S_star=np.sort(S_star)\n",
    "    IC_base_list.append(IC_base(alpha,X,Y,tau_star))\n",
    "    IC_perc_list.append(IC_perc(alpha,X,Y,tau_star))\n",
    "    IC_boot_list.append(IC_t_boot(alpha,X,Y,S_star))\n",
    "    "
=======
    "#comparaison des bornes inf moyennes pour chacune des méthodes de calcul des IC\n",
    "print(\" borne inf IC base\",np.mean(inf_base),\"\\n borne inf IC percentile\",np.mean(inf_perc),\"\\n borne inf IC t-bootstrap\",np.mean(inf_boot))"
>>>>>>> 61212ff1d911688a637a177a06195b11c5734acb
   ]
  },
  {
   "cell_type": "code",
<<<<<<< HEAD
   "execution_count": 93,
=======
   "execution_count": 29,
   "metadata": {
    "ExecuteTime": {
     "end_time": "2018-02-25T19:27:21.727675Z",
     "start_time": "2018-02-25T19:27:21.715002Z"
    }
   },
   "outputs": [
    {
     "name": "stdout",
     "output_type": "stream",
     "text": [
      " borne sup IC base 3.545895389708314 \n",
      " borne sup IC percentile 5.409077079448696 \n",
      " borne sup IC t-bootstrap 6.849733021602348\n"
     ]
    }
   ],
   "source": [
    "#comparaison des bornes sup moyennes pour chacune des méthodes de calcul des IC\n",
    "print(\" borne sup IC base\",np.mean(sup_base),\"\\n borne sup IC percentile\",np.mean(sup_perc),\"\\n borne sup IC t-bootstrap\",np.mean(sup_boot))"
   ]
  },
  {
   "cell_type": "markdown",
>>>>>>> 61212ff1d911688a637a177a06195b11c5734acb
   "metadata": {},
   "source": [
<<<<<<< HEAD
    "#crée listes contenant les IC de chaque méthode, pour chaque itération de Monte Carlo m=1...M\n",
    "inf_base=np.zeros(M)\n",
    "inf_perc=np.zeros(M)\n",
    "inf_boot=np.zeros(M)\n",
    "sup_base=np.zeros(M)\n",
    "sup_perc=np.zeros(M)\n",
    "sup_boot=np.zeros(M)\n",
    "\n",
    "for m in range(M):\n",
    "    inf_base[m]= IC_base_list[m][0]\n",
    "    inf_perc[m]= IC_perc_list[m][0]\n",
    "    inf_boot[m]= IC_boot_list[m][0]\n",
    "    sup_base[m]= IC_base_list[m][1]\n",
    "    sup_perc[m]= IC_perc_list[m][1]\n",
    "    sup_boot[m]= IC_boot_list[m][1]"
   ]
  },
  {
   "cell_type": "code",
   "execution_count": 94,
   "metadata": {},
   "outputs": [
    {
     "name": "stdout",
     "output_type": "stream",
     "text": [
      " borne inf IC base -0.94685503511 \n",
      " borne inf IC percentile 0.918323106093 \n",
      " borne inf IC bootstrap -3.95208769482\n"
     ]
    }
   ],
   "source": [
    "#comparaison des bornes inf moyennes pour chacune des méthodes de calcul des IC\n",
    "print(\" borne inf IC base\",np.mean(inf_base),\"\\n borne inf IC percentile\",np.mean(inf_perc),\n",
    "      \"\\n borne inf IC bootstrap\",np.mean(inf_boot))"
=======
    "On constate que l'intervalle de confiance par t-boostrap est plus large et est le moins centré (excentré vers la gauche). Les intervalles de confiance basique et les intervalles de confiance percentile ont une longueur proche mais l'intervalle de confiance basique semble \"mieux\" centré autour de la valeur théorique."
   ]
  },
  {
   "cell_type": "markdown",
   "metadata": {},
   "source": [
    "Nous observons ci dessous de manière plus fine la distribution de ces bornes : "
>>>>>>> 61212ff1d911688a637a177a06195b11c5734acb
   ]
  },
  {
   "cell_type": "code",
<<<<<<< HEAD
   "execution_count": 95,
   "metadata": {},
   "outputs": [
    {
     "name": "stdout",
     "output_type": "stream",
     "text": [
      " borne sup IC base 3.58920728504 \n",
      " borne sup IC percentile 5.45438542625 \n",
      " borne sup IC bootstrap 3.72109410049\n"
     ]
    }
   ],
   "source": [
    "#comparaison des bornes sup moyennes pour chacune des méthodes de calcul des IC\n",
    "print(\" borne sup IC base\",np.mean(sup_base),\"\\n borne sup IC percentile\",np.mean(sup_perc),\n",
    "      \"\\n borne sup IC bootstrap\",np.mean(sup_boot))"
   ]
  },
  {
   "cell_type": "code",
   "execution_count": 129,
   "metadata": {},
   "outputs": [
    {
     "data": {
      "image/png": "iVBORw0KGgoAAAANSUhEUgAABBIAAAKGCAYAAAD3f7ipAAAABHNCSVQICAgIfAhkiAAAAAlwSFlz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\n",
      "text/plain": [
       "<matplotlib.figure.Figure at 0x11190acc0>"
=======
   "execution_count": 30,
   "metadata": {
    "ExecuteTime": {
     "end_time": "2018-02-25T19:27:26.484028Z",
     "start_time": "2018-02-25T19:27:21.732167Z"
    }
   },
   "outputs": [
    {
     "data": {
      "image/png": "iVBORw0KGgoAAAANSUhEUgAABBIAAAKGCAYAAAD3f7ipAAAABHNCSVQICAgIfAhkiAAAAAlwSFlz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\nRK5CYII=\n",
      "text/plain": [
       "<matplotlib.figure.Figure at 0x110895828>"
>>>>>>> 61212ff1d911688a637a177a06195b11c5734acb
      ]
     },
     "metadata": {},
     "output_type": "display_data"
    }
   ],
   "source": [
    "fig=plt.figure(figsize=(18,10))\n",
    "\n",
    "plt.suptitle(\"Comparaison des bornes inférieures et supérieures \\n en fonction des différentes méthodes d'intervalle de confiance\",\n",
<<<<<<< HEAD
    "            fontweight='bold',size=16)\n",
    "\n",
    "plt.subplot(231)\n",
    "plt.hist(inf_base,bins=200)\n",
=======
    "           fontweight='bold',size=16)\n",
    "\n",
    "plt.subplot(231)\n",
    "plt.hist(inf_base,bins=200,color=\"blue\")\n",
>>>>>>> 61212ff1d911688a637a177a06195b11c5734acb
    "plt.xlim(np.percentile(inf_base,5),np.percentile(inf_base,95))\n",
    "plt.title(\"IC base borne inf\",fontweight='bold')\n",
    "\n",
    "plt.subplot(232)\n",
<<<<<<< HEAD
    "plt.hist(inf_perc,bins=200,color='orange')\n",
=======
    "plt.hist(inf_perc,bins=200,color=\"red\")\n",
>>>>>>> 61212ff1d911688a637a177a06195b11c5734acb
    "plt.xlim(np.percentile(inf_perc,5),np.percentile(inf_perc,95))\n",
    "plt.title(\"IC percentile borne inf\",fontweight='bold')\n",
    "\n",
    "plt.subplot(233)\n",
<<<<<<< HEAD
    "plt.hist(inf_boot,bins=200,color='red')\n",
    "plt.xlim(np.percentile(inf_boot,5),np.percentile(inf_boot,95))\n",
    "plt.title(\"IC bootstrap borne inf\",fontweight='bold')\n",
    "\n",
    "plt.subplot(234)\n",
    "plt.hist(sup_base,bins=200)\n",
=======
    "plt.hist(inf_boot,bins=200,color=\"orange\")\n",
    "plt.xlim(np.percentile(inf_boot,5),np.percentile(inf_boot,95))\n",
    "plt.title(\"IC t-bootstrap borne inf\",fontweight='bold')\n",
    "\n",
    "plt.subplot(234)\n",
    "plt.hist(sup_base,bins=200,color='blue')\n",
>>>>>>> 61212ff1d911688a637a177a06195b11c5734acb
    "plt.xlim(np.percentile(sup_base,5),np.percentile(sup_base,95))\n",
    "plt.title(\"IC base borne sup\",fontweight='bold')\n",
    "\n",
    "plt.subplot(235)\n",
<<<<<<< HEAD
    "plt.hist(sup_perc,bins=200,color='orange')\n",
=======
    "plt.hist(sup_perc,bins=200,color='red')\n",
>>>>>>> 61212ff1d911688a637a177a06195b11c5734acb
    "plt.xlim(np.percentile(sup_perc,5),np.percentile(sup_perc,95))\n",
    "plt.title(\"IC percentile borne sup\",fontweight='bold')\n",
    "\n",
    "plt.subplot(236)\n",
<<<<<<< HEAD
    "plt.hist(sup_boot,bins=200,color='red')\n",
    "plt.xlim(np.percentile(sup_boot,5),np.percentile(sup_boot,95))\n",
    "plt.title(\"IC bootstrap borne sup\",fontweight='bold')\n",
    "\n",
    "plt.show()"
=======
    "plt.hist(sup_boot,bins=200,color='orange')\n",
    "plt.xlim(np.percentile(sup_boot,5),np.percentile(sup_boot,95))\n",
    "plt.title(\"IC t-bootstrap borne sup\",fontweight='bold')\n",
    "\n",
    "plt.show()\n",
    "\n"
   ]
  },
  {
   "cell_type": "markdown",
   "metadata": {},
   "source": [
    "Globalement, on constate qu'aucune des trois méthodes ne permet d'approximer de manière fine à la fois la borne sup et la borne inf de l'intervalle de confiance."
>>>>>>> 61212ff1d911688a637a177a06195b11c5734acb
   ]
  },
  {
   "cell_type": "markdown",
   "metadata": {},
   "source": [
    "### Tests par bootstrap"
   ]
  },
  {
   "cell_type": "markdown",
   "metadata": {},
   "source": [
    "On teste: $H_{0}: \\tau=2$"
   ]
  },
  {
   "cell_type": "markdown",
   "metadata": {},
   "source": [
    "* Niveaux de tests par IC"
   ]
  },
  {
   "cell_type": "code",
<<<<<<< HEAD
   "execution_count": 40,
   "metadata": {
    "collapsed": true
=======
   "execution_count": 31,
   "metadata": {
    "ExecuteTime": {
     "end_time": "2018-02-25T19:27:26.864243Z",
     "start_time": "2018-02-25T19:27:26.487812Z"
    }
>>>>>>> 61212ff1d911688a637a177a06195b11c5734acb
   },
   "outputs": [],
   "source": [
    "X=npr.gamma(p,1/theta,size=n)\n",
<<<<<<< HEAD
    "Y=npr.gamma(q,1/kappa,size=n)"
   ]
  },
  {
   "cell_type": "code",
   "execution_count": 41,
   "metadata": {
    "collapsed": true
   },
   "outputs": [],
   "source": [
    "#Bootstrap\n",
=======
    "Y=npr.gamma(q,1/kappa,size=n)\n",
    "#Bootstrap\n",
    "B=1000\n",
>>>>>>> 61212ff1d911688a637a177a06195b11c5734acb
    "tau_star=np.zeros(B)\n",
    "S_star=np.zeros(B)\n",
    "tau_hat_val=tau_hat(X,Y)\n",
    "for b in range(B):\n",
    "    ind=npr.randint(0,n,n)\n",
    "    sample_X=X[ind]\n",
    "    sample_Y=Y[ind]\n",
    "    tau_star[b]=tau_hat(sample_X,sample_Y)\n",
    "    var_hat=np.var(sample_X/np.sqrt(np.var(sample_X)/np.mean(sample_Y)**2+\n",
    "                                    np.mean(sample_X)*np.var(sample_Y)/np.mean(sample_Y)**4) )\n",
    "    S_star[b]=np.sqrt(n)*(tau_star[b]-tau_hat_val)/np.sqrt(var_hat)\n",
    "\n",
    "#ordonne les paramètres estimés\n",
    "tau_star=np.sort(tau_star)\n",
    "S_star=np.sort(S_star)"
   ]
  },
  {
   "cell_type": "code",
<<<<<<< HEAD
   "execution_count": 42,
   "metadata": {
    "collapsed": true
=======
   "execution_count": 32,
   "metadata": {
    "ExecuteTime": {
     "end_time": "2018-02-25T19:27:26.902780Z",
     "start_time": "2018-02-25T19:27:26.867325Z"
    }
>>>>>>> 61212ff1d911688a637a177a06195b11c5734acb
   },
   "outputs": [],
   "source": [
    "def p_value(x,y,theta_0,S_star):\n",
    "    theta_hat=tau_hat(x,y)\n",
    "    sigma_F=np.sqrt( np.var(x/np.sqrt(np.var(x)/np.mean(y)**2+\n",
    "                                    np.mean(x)*np.var(y)/np.mean(y)**4) ) )\n",
    "    S_bar=np.sqrt(n)*(theta_hat-theta_0)/(sigma_F)\n",
    "    return( ( len(S_star[S_star > S_bar])+1 ) / (B+1) )"
   ]
  },
  {
   "cell_type": "code",
<<<<<<< HEAD
   "execution_count": 43,
   "metadata": {},
=======
   "execution_count": 33,
   "metadata": {
    "ExecuteTime": {
     "end_time": "2018-02-25T19:27:26.920649Z",
     "start_time": "2018-02-25T19:27:26.908061Z"
    }
   },
>>>>>>> 61212ff1d911688a637a177a06195b11c5734acb
   "outputs": [
    {
     "name": "stdout",
     "output_type": "stream",
     "text": [
<<<<<<< HEAD
      "0.31368631368631367\n"
=======
      "0.7132867132867133\n"
>>>>>>> 61212ff1d911688a637a177a06195b11c5734acb
     ]
    }
   ],
   "source": [
    "theta_0=2\n",
    "p_value=p_value(X,Y,theta_0,S_star)\n",
    "print(p_value)"
   ]
  },
  {
   "cell_type": "code",
<<<<<<< HEAD
   "execution_count": 17,
   "metadata": {},
=======
   "execution_count": 70,
   "metadata": {
    "ExecuteTime": {
     "end_time": "2018-02-25T21:07:03.476737Z",
     "start_time": "2018-02-25T21:07:03.466905Z"
    }
   },
>>>>>>> 61212ff1d911688a637a177a06195b11c5734acb
   "outputs": [
    {
     "name": "stdout",
     "output_type": "stream",
     "text": [
<<<<<<< HEAD
      "Intervalle de confiance de base avec p-value: [0.35795776721893402, 2.1250306413609144]\n"
=======
      "Intervalle de confiance de base avec p-value: [-0.36537962159516235, 2.3959154474676114]\n"
>>>>>>> 61212ff1d911688a637a177a06195b11c5734acb
     ]
    }
   ],
   "source": [
    "print(\"Intervalle de confiance de base avec p-value:\",IC_base(1-p_value,X,Y,tau_star))"
   ]
  },
  {
   "cell_type": "code",
<<<<<<< HEAD
   "execution_count": 18,
   "metadata": {},
=======
   "execution_count": 50,
   "metadata": {
    "ExecuteTime": {
     "end_time": "2018-02-25T20:13:38.206385Z",
     "start_time": "2018-02-25T20:13:38.197958Z"
    }
   },
>>>>>>> 61212ff1d911688a637a177a06195b11c5734acb
   "outputs": [
    {
     "name": "stdout",
     "output_type": "stream",
     "text": [
<<<<<<< HEAD
      "Intervalle de confiance percentile avec p-value: [0.73110296166125655, 2.4981758358032367]\n"
=======
      "Intervalle de confiance percentile avec p-value: [0.7720666525372663, 3.53336172160004]\n"
>>>>>>> 61212ff1d911688a637a177a06195b11c5734acb
     ]
    }
   ],
   "source": [
    "print(\"Intervalle de confiance percentile avec p-value:\",IC_perc(1-p_value,X,Y,tau_star))"
   ]
  },
  {
   "cell_type": "code",
<<<<<<< HEAD
   "execution_count": 19,
   "metadata": {},
=======
   "execution_count": 51,
   "metadata": {
    "ExecuteTime": {
     "end_time": "2018-02-25T20:13:41.532589Z",
     "start_time": "2018-02-25T20:13:41.522914Z"
    }
   },
>>>>>>> 61212ff1d911688a637a177a06195b11c5734acb
   "outputs": [
    {
     "name": "stdout",
     "output_type": "stream",
     "text": [
<<<<<<< HEAD
      "Intervalle de confiance t-bootstrap avec p-value: [-0.23761048200159918, 2.1991021791950747]\n"
=======
      "Intervalle de confiance t-bootstrap avec p-value: [-1.605590476679204, 2.236249216617016]\n"
>>>>>>> 61212ff1d911688a637a177a06195b11c5734acb
     ]
    }
   ],
   "source": [
    "print(\"Intervalle de confiance t-bootstrap avec p-value:\",IC_t_boot(1-p_value,X,Y,S_star))"
   ]
  },
  {
   "cell_type": "markdown",
   "metadata": {},
   "source": [
    "On constate que la valeur théorique de $\\hat{\\tau}$ est bien comprise dans chacun de ces intervalles. Etant donné la valeur importante de la p-value, on est amené à ne pas rejeter à des niveaux de confiances raisonnable (5%,10%) l'hypothèse H0."
   ]
  },
  {
   "cell_type": "markdown",
   "metadata": {},
   "source": [
    "* Puissance des tests $H_{1}: \\tau=3$"
   ]
  },
  {
   "cell_type": "code",
<<<<<<< HEAD
   "execution_count": 44,
   "metadata": {
    "collapsed": true
=======
   "execution_count": 37,
   "metadata": {
    "ExecuteTime": {
     "end_time": "2018-02-25T19:27:27.000511Z",
     "start_time": "2018-02-25T19:27:26.971523Z"
    }
>>>>>>> 61212ff1d911688a637a177a06195b11c5734acb
   },
   "outputs": [],
   "source": [
    "p=0.7\n",
    "theta=0.007\n",
    "q=1\n",
    "kappa=0.03\n",
    "alpha=0.05"
   ]
  },
  {
   "cell_type": "markdown",
   "metadata": {},
   "source": [
    "Puisque $\\dfrac{\\sqrt{n}(\\hat{\\tau}-\\tau)}{\\hat{\\sigma}} \\thicksim \\mathcal{N}(0,1)$, nous pouvons déterminer la puissance du test $H_{1}: \\tau=3$ directement :"
   ]
  },
  {
   "cell_type": "code",
<<<<<<< HEAD
   "execution_count": null,
   "metadata": {
    "collapsed": true
   },
   "outputs": [],
   "source": [
    "#puissance = proba que H_0 soit rejeté et que H_0 soit faux (vrai négatif) = 1 -  beta\n",
    "#Pour chaque type d'intervalle, calcul des quantiles sur loi gamma ?\n"
=======
   "execution_count": 53,
   "metadata": {
    "ExecuteTime": {
     "end_time": "2018-02-25T20:46:04.848624Z",
     "start_time": "2018-02-25T20:46:04.826236Z"
    }
   },
   "outputs": [
    {
     "name": "stdout",
     "output_type": "stream",
     "text": [
      "La puissance du test H1 est :  0.08999245225155583\n"
     ]
    }
   ],
   "source": [
    "sigma_F=np.sqrt( np.var(X/np.sqrt(np.var(X)/np.mean(Y)**2+\n",
    "                                   np.mean(X)*np.var(Y)/np.mean(Y)**4) ) )\n",
    "power=1-norm.cdf(1.64-3/(sigma_F/np.sqrt(n)))\n",
    "print(\"La puissance du test H1 est : \",power)"
   ]
  },
  {
   "cell_type": "markdown",
   "metadata": {},
   "source": [
    "On constate que la puissance du test n'est pas très élevé, la probabilité de ne pas rejeter H0 sachant que H0 est faux n'est pas négligeable."
>>>>>>> 61212ff1d911688a637a177a06195b11c5734acb
   ]
  }
 ],
 "metadata": {
  "anaconda-cloud": {},
  "kernelspec": {
   "display_name": "Python 3",
   "language": "python",
   "name": "python3"
  },
  "language_info": {
   "codemirror_mode": {
    "name": "ipython",
    "version": 3
   },
   "file_extension": ".py",
   "mimetype": "text/x-python",
   "name": "python",
   "nbconvert_exporter": "python",
   "pygments_lexer": "ipython3",
   "version": "3.6.3"
  }
 },
 "nbformat": 4,
 "nbformat_minor": 2
}
