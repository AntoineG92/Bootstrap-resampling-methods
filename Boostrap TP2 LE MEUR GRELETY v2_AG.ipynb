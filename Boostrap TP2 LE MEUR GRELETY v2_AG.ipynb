{
 "cells": [
  {
   "cell_type": "markdown",
   "metadata": {},
   "source": [
    "# <center> Applications du Bootstrap : TP2 régression"
   ]
  },
  {
   "cell_type": "markdown",
   "metadata": {},
   "source": [
    "Antoine Grelety\n",
    "\n",
    "Vincent Le Meur"
   ]
  },
  {
   "cell_type": "code",
   "execution_count": 1,
   "metadata": {
    "ExecuteTime": {
     "end_time": "2018-03-16T09:35:51.282626Z",
     "start_time": "2018-03-16T09:35:36.093427Z"
    },
    "collapsed": true
   },
   "outputs": [],
   "source": [
    "import numpy as np\n",
    "import numpy.random as npr\n",
    "import pandas as pd\n",
    "import math\n",
    "import scipy as sc\n",
    "from scipy.stats import norm\n",
    "import statsmodels.genmod.generalized_linear_model as st\n",
    "from matplotlib import pyplot as plt"
   ]
  },
  {
   "cell_type": "code",
   "execution_count": 2,
   "metadata": {},
   "outputs": [],
   "source": [
    "import resampling"
   ]
  },
  {
   "cell_type": "markdown",
   "metadata": {},
   "source": [
    "## Importation des données"
   ]
  },
  {
   "cell_type": "code",
   "execution_count": 3,
   "metadata": {
    "ExecuteTime": {
     "end_time": "2018-03-16T09:35:51.478873Z",
     "start_time": "2018-03-16T09:35:51.285949Z"
    },
    "collapsed": true
   },
   "outputs": [],
   "source": [
    "cars = pd.read_csv(\"mtcars.csv\")\n",
    "cars[\"intercept\"]=np.ones(len(cars))\n",
    "urine = pd.read_csv(\"urine.dat\",sep=\"\\t\")\n",
    "#urine[\"intercept\"]=np.ones(len(urine))\n",
    "urine=urine.fillna(np.mean(urine))"
   ]
  },
  {
   "cell_type": "code",
   "execution_count": 4,
   "metadata": {
    "ExecuteTime": {
     "end_time": "2018-03-16T09:35:51.575940Z",
     "start_time": "2018-03-16T09:35:51.487021Z"
    },
    "scrolled": true
   },
   "outputs": [
    {
     "data": {
      "text/html": [
       "<div>\n",
       "<style>\n",
       "    .dataframe thead tr:only-child th {\n",
       "        text-align: right;\n",
       "    }\n",
       "\n",
       "    .dataframe thead th {\n",
       "        text-align: left;\n",
       "    }\n",
       "\n",
       "    .dataframe tbody tr th {\n",
       "        vertical-align: top;\n",
       "    }\n",
       "</style>\n",
       "<table border=\"1\" class=\"dataframe\">\n",
       "  <thead>\n",
       "    <tr style=\"text-align: right;\">\n",
       "      <th></th>\n",
       "      <th>model</th>\n",
       "      <th>mpg</th>\n",
       "      <th>cyl</th>\n",
       "      <th>disp</th>\n",
       "      <th>hp</th>\n",
       "      <th>drat</th>\n",
       "      <th>wt</th>\n",
       "      <th>qsec</th>\n",
       "      <th>vs</th>\n",
       "      <th>am</th>\n",
       "      <th>gear</th>\n",
       "      <th>carb</th>\n",
       "      <th>intercept</th>\n",
       "    </tr>\n",
       "  </thead>\n",
       "  <tbody>\n",
       "    <tr>\n",
       "      <th>0</th>\n",
       "      <td>Mazda RX4</td>\n",
       "      <td>21.0</td>\n",
       "      <td>6</td>\n",
       "      <td>160.0</td>\n",
       "      <td>110</td>\n",
       "      <td>3.90</td>\n",
       "      <td>2.620</td>\n",
       "      <td>16.46</td>\n",
       "      <td>0</td>\n",
       "      <td>1</td>\n",
       "      <td>4</td>\n",
       "      <td>4</td>\n",
       "      <td>1.0</td>\n",
       "    </tr>\n",
       "    <tr>\n",
       "      <th>1</th>\n",
       "      <td>Mazda RX4 Wag</td>\n",
       "      <td>21.0</td>\n",
       "      <td>6</td>\n",
       "      <td>160.0</td>\n",
       "      <td>110</td>\n",
       "      <td>3.90</td>\n",
       "      <td>2.875</td>\n",
       "      <td>17.02</td>\n",
       "      <td>0</td>\n",
       "      <td>1</td>\n",
       "      <td>4</td>\n",
       "      <td>4</td>\n",
       "      <td>1.0</td>\n",
       "    </tr>\n",
       "    <tr>\n",
       "      <th>2</th>\n",
       "      <td>Datsun 710</td>\n",
       "      <td>22.8</td>\n",
       "      <td>4</td>\n",
       "      <td>108.0</td>\n",
       "      <td>93</td>\n",
       "      <td>3.85</td>\n",
       "      <td>2.320</td>\n",
       "      <td>18.61</td>\n",
       "      <td>1</td>\n",
       "      <td>1</td>\n",
       "      <td>4</td>\n",
       "      <td>1</td>\n",
       "      <td>1.0</td>\n",
       "    </tr>\n",
       "    <tr>\n",
       "      <th>3</th>\n",
       "      <td>Hornet 4 Drive</td>\n",
       "      <td>21.4</td>\n",
       "      <td>6</td>\n",
       "      <td>258.0</td>\n",
       "      <td>110</td>\n",
       "      <td>3.08</td>\n",
       "      <td>3.215</td>\n",
       "      <td>19.44</td>\n",
       "      <td>1</td>\n",
       "      <td>0</td>\n",
       "      <td>3</td>\n",
       "      <td>1</td>\n",
       "      <td>1.0</td>\n",
       "    </tr>\n",
       "    <tr>\n",
       "      <th>4</th>\n",
       "      <td>Hornet Sportabout</td>\n",
       "      <td>18.7</td>\n",
       "      <td>8</td>\n",
       "      <td>360.0</td>\n",
       "      <td>175</td>\n",
       "      <td>3.15</td>\n",
       "      <td>3.440</td>\n",
       "      <td>17.02</td>\n",
       "      <td>0</td>\n",
       "      <td>0</td>\n",
       "      <td>3</td>\n",
       "      <td>2</td>\n",
       "      <td>1.0</td>\n",
       "    </tr>\n",
       "  </tbody>\n",
       "</table>\n",
       "</div>"
      ],
      "text/plain": [
       "               model   mpg  cyl   disp   hp  drat     wt   qsec  vs  am  gear  \\\n",
       "0          Mazda RX4  21.0    6  160.0  110  3.90  2.620  16.46   0   1     4   \n",
       "1      Mazda RX4 Wag  21.0    6  160.0  110  3.90  2.875  17.02   0   1     4   \n",
       "2         Datsun 710  22.8    4  108.0   93  3.85  2.320  18.61   1   1     4   \n",
       "3     Hornet 4 Drive  21.4    6  258.0  110  3.08  3.215  19.44   1   0     3   \n",
       "4  Hornet Sportabout  18.7    8  360.0  175  3.15  3.440  17.02   0   0     3   \n",
       "\n",
       "   carb  intercept  \n",
       "0     4        1.0  \n",
       "1     4        1.0  \n",
       "2     1        1.0  \n",
       "3     1        1.0  \n",
       "4     2        1.0  "
      ]
     },
     "execution_count": 4,
     "metadata": {},
     "output_type": "execute_result"
    }
   ],
   "source": [
    "cars.head()"
   ]
  },
  {
   "cell_type": "code",
   "execution_count": 5,
   "metadata": {},
   "outputs": [
    {
     "data": {
      "text/html": [
       "<div>\n",
       "<style>\n",
       "    .dataframe thead tr:only-child th {\n",
       "        text-align: right;\n",
       "    }\n",
       "\n",
       "    .dataframe thead th {\n",
       "        text-align: left;\n",
       "    }\n",
       "\n",
       "    .dataframe tbody tr th {\n",
       "        vertical-align: top;\n",
       "    }\n",
       "</style>\n",
       "<table border=\"1\" class=\"dataframe\">\n",
       "  <thead>\n",
       "    <tr style=\"text-align: right;\">\n",
       "      <th></th>\n",
       "      <th>r</th>\n",
       "      <th>gravity</th>\n",
       "      <th>ph</th>\n",
       "      <th>osmo</th>\n",
       "      <th>cond</th>\n",
       "      <th>urea</th>\n",
       "      <th>calc</th>\n",
       "    </tr>\n",
       "  </thead>\n",
       "  <tbody>\n",
       "    <tr>\n",
       "      <th>0</th>\n",
       "      <td>0</td>\n",
       "      <td>1.021</td>\n",
       "      <td>4.91</td>\n",
       "      <td>725.0</td>\n",
       "      <td>20.901282</td>\n",
       "      <td>443</td>\n",
       "      <td>2.45</td>\n",
       "    </tr>\n",
       "    <tr>\n",
       "      <th>1</th>\n",
       "      <td>0</td>\n",
       "      <td>1.017</td>\n",
       "      <td>5.74</td>\n",
       "      <td>577.0</td>\n",
       "      <td>20.000000</td>\n",
       "      <td>296</td>\n",
       "      <td>4.49</td>\n",
       "    </tr>\n",
       "    <tr>\n",
       "      <th>2</th>\n",
       "      <td>0</td>\n",
       "      <td>1.008</td>\n",
       "      <td>7.20</td>\n",
       "      <td>321.0</td>\n",
       "      <td>14.900000</td>\n",
       "      <td>101</td>\n",
       "      <td>2.36</td>\n",
       "    </tr>\n",
       "    <tr>\n",
       "      <th>3</th>\n",
       "      <td>0</td>\n",
       "      <td>1.011</td>\n",
       "      <td>5.51</td>\n",
       "      <td>408.0</td>\n",
       "      <td>12.600000</td>\n",
       "      <td>224</td>\n",
       "      <td>2.15</td>\n",
       "    </tr>\n",
       "    <tr>\n",
       "      <th>4</th>\n",
       "      <td>0</td>\n",
       "      <td>1.005</td>\n",
       "      <td>6.52</td>\n",
       "      <td>187.0</td>\n",
       "      <td>7.500000</td>\n",
       "      <td>91</td>\n",
       "      <td>1.16</td>\n",
       "    </tr>\n",
       "  </tbody>\n",
       "</table>\n",
       "</div>"
      ],
      "text/plain": [
       "   r  gravity    ph   osmo       cond  urea  calc\n",
       "0  0    1.021  4.91  725.0  20.901282   443  2.45\n",
       "1  0    1.017  5.74  577.0  20.000000   296  4.49\n",
       "2  0    1.008  7.20  321.0  14.900000   101  2.36\n",
       "3  0    1.011  5.51  408.0  12.600000   224  2.15\n",
       "4  0    1.005  6.52  187.0   7.500000    91  1.16"
      ]
     },
     "execution_count": 5,
     "metadata": {},
     "output_type": "execute_result"
    }
   ],
   "source": [
    "urine.head()"
   ]
  },
  {
   "cell_type": "code",
   "execution_count": 6,
   "metadata": {
    "collapsed": true
   },
   "outputs": [],
   "source": [
    "X_cars = np.array(cars.drop([\"mpg\",\"model\"],axis=1))\n",
    "y_cars = np.array(cars.iloc[:,1])"
   ]
  },
  {
   "cell_type": "code",
   "execution_count": 7,
   "metadata": {
    "collapsed": true
   },
   "outputs": [],
   "source": [
    "X_urine = np.array(urine.drop(\"r\",axis=1))\n",
    "y_urine = np.array(urine.iloc[:,0])"
   ]
  },
  {
   "cell_type": "code",
   "execution_count": 8,
   "metadata": {},
   "outputs": [],
   "source": [
    "Res_lin = resampling.Res(X=X_cars,y=y_cars,method=\"linear\",alpha=0.05,B=100)\n",
    "Res_log = resampling.Res(X=X_urine,y=y_urine,method=\"logistic\",alpha=0.05,B=100)"
   ]
  },
  {
   "cell_type": "markdown",
   "metadata": {},
   "source": [
    "## Estimateurs classiques"
   ]
  },
  {
   "cell_type": "markdown",
   "metadata": {},
   "source": [
    "### Estimation de Y=mpg dans le dataset mtcars via une régression linéaire"
   ]
  },
  {
   "cell_type": "code",
   "execution_count": 18,
   "metadata": {
    "ExecuteTime": {
     "end_time": "2018-03-16T09:35:53.661045Z",
     "start_time": "2018-03-16T09:35:51.745962Z"
    }
   },
   "outputs": [
    {
     "data": {
      "text/html": [
       "<table class=\"simpletable\">\n",
       "<caption>Generalized Linear Model Regression Results</caption>\n",
       "<tr>\n",
       "  <th>Dep. Variable:</th>          <td>y</td>        <th>  No. Observations:  </th>    <td>    32</td>    \n",
       "</tr>\n",
       "<tr>\n",
       "  <th>Model:</th>                 <td>GLM</td>       <th>  Df Residuals:      </th>    <td>    21</td>    \n",
       "</tr>\n",
       "<tr>\n",
       "  <th>Model Family:</th>       <td>Gaussian</td>     <th>  Df Model:          </th>    <td>    10</td>    \n",
       "</tr>\n",
       "<tr>\n",
       "  <th>Link Function:</th>      <td>identity</td>     <th>  Scale:             </th> <td>7.02354428651</td>\n",
       "</tr>\n",
       "<tr>\n",
       "  <th>Method:</th>               <td>IRLS</td>       <th>  Log-Likelihood:    </th>   <td> -69.855</td>   \n",
       "</tr>\n",
       "<tr>\n",
       "  <th>Date:</th>           <td>Mon, 19 Mar 2018</td> <th>  Deviance:          </th>   <td>  147.49</td>   \n",
       "</tr>\n",
       "<tr>\n",
       "  <th>Time:</th>               <td>15:16:14</td>     <th>  Pearson chi2:      </th>    <td>  147.</td>    \n",
       "</tr>\n",
       "<tr>\n",
       "  <th>No. Iterations:</th>         <td>2</td>        <th>                     </th>       <td> </td>      \n",
       "</tr>\n",
       "</table>\n",
       "<table class=\"simpletable\">\n",
       "<tr>\n",
       "    <td></td>       <th>coef</th>     <th>std err</th>      <th>z</th>      <th>P>|z|</th>  <th>[0.025</th>    <th>0.975]</th>  \n",
       "</tr>\n",
       "<tr>\n",
       "  <th>x1</th>    <td>   -0.1114</td> <td>    1.045</td> <td>   -0.107</td> <td> 0.915</td> <td>   -2.160</td> <td>    1.937</td>\n",
       "</tr>\n",
       "<tr>\n",
       "  <th>x2</th>    <td>    0.0133</td> <td>    0.018</td> <td>    0.747</td> <td> 0.455</td> <td>   -0.022</td> <td>    0.048</td>\n",
       "</tr>\n",
       "<tr>\n",
       "  <th>x3</th>    <td>   -0.0215</td> <td>    0.022</td> <td>   -0.987</td> <td> 0.324</td> <td>   -0.064</td> <td>    0.021</td>\n",
       "</tr>\n",
       "<tr>\n",
       "  <th>x4</th>    <td>    0.7871</td> <td>    1.635</td> <td>    0.481</td> <td> 0.630</td> <td>   -2.418</td> <td>    3.992</td>\n",
       "</tr>\n",
       "<tr>\n",
       "  <th>x5</th>    <td>   -3.7153</td> <td>    1.894</td> <td>   -1.961</td> <td> 0.050</td> <td>   -7.428</td> <td>   -0.002</td>\n",
       "</tr>\n",
       "<tr>\n",
       "  <th>x6</th>    <td>    0.8210</td> <td>    0.731</td> <td>    1.123</td> <td> 0.261</td> <td>   -0.611</td> <td>    2.253</td>\n",
       "</tr>\n",
       "<tr>\n",
       "  <th>x7</th>    <td>    0.3178</td> <td>    2.105</td> <td>    0.151</td> <td> 0.880</td> <td>   -3.807</td> <td>    4.443</td>\n",
       "</tr>\n",
       "<tr>\n",
       "  <th>x8</th>    <td>    2.5202</td> <td>    2.057</td> <td>    1.225</td> <td> 0.220</td> <td>   -1.511</td> <td>    6.551</td>\n",
       "</tr>\n",
       "<tr>\n",
       "  <th>x9</th>    <td>    0.6554</td> <td>    1.493</td> <td>    0.439</td> <td> 0.661</td> <td>   -2.271</td> <td>    3.582</td>\n",
       "</tr>\n",
       "<tr>\n",
       "  <th>x10</th>   <td>   -0.1994</td> <td>    0.829</td> <td>   -0.241</td> <td> 0.810</td> <td>   -1.824</td> <td>    1.425</td>\n",
       "</tr>\n",
       "<tr>\n",
       "  <th>const</th> <td>   12.3034</td> <td>   18.718</td> <td>    0.657</td> <td> 0.511</td> <td>  -24.383</td> <td>   48.990</td>\n",
       "</tr>\n",
       "</table>"
      ],
      "text/plain": [
       "<class 'statsmodels.iolib.summary.Summary'>\n",
       "\"\"\"\n",
       "                 Generalized Linear Model Regression Results                  \n",
       "==============================================================================\n",
       "Dep. Variable:                      y   No. Observations:                   32\n",
       "Model:                            GLM   Df Residuals:                       21\n",
       "Model Family:                Gaussian   Df Model:                           10\n",
       "Link Function:               identity   Scale:                   7.02354428651\n",
       "Method:                          IRLS   Log-Likelihood:                -69.855\n",
       "Date:                Mon, 19 Mar 2018   Deviance:                       147.49\n",
       "Time:                        15:16:14   Pearson chi2:                     147.\n",
       "No. Iterations:                     2                                         \n",
       "==============================================================================\n",
       "                 coef    std err          z      P>|z|      [0.025      0.975]\n",
       "------------------------------------------------------------------------------\n",
       "x1            -0.1114      1.045     -0.107      0.915      -2.160       1.937\n",
       "x2             0.0133      0.018      0.747      0.455      -0.022       0.048\n",
       "x3            -0.0215      0.022     -0.987      0.324      -0.064       0.021\n",
       "x4             0.7871      1.635      0.481      0.630      -2.418       3.992\n",
       "x5            -3.7153      1.894     -1.961      0.050      -7.428      -0.002\n",
       "x6             0.8210      0.731      1.123      0.261      -0.611       2.253\n",
       "x7             0.3178      2.105      0.151      0.880      -3.807       4.443\n",
       "x8             2.5202      2.057      1.225      0.220      -1.511       6.551\n",
       "x9             0.6554      1.493      0.439      0.661      -2.271       3.582\n",
       "x10           -0.1994      0.829     -0.241      0.810      -1.824       1.425\n",
       "const         12.3034     18.718      0.657      0.511     -24.383      48.990\n",
       "==============================================================================\n",
       "\"\"\""
      ]
     },
     "execution_count": 18,
     "metadata": {},
     "output_type": "execute_result"
    }
   ],
   "source": [
    "Res_lin.results.summary()"
   ]
  },
  {
   "cell_type": "code",
   "execution_count": 21,
   "metadata": {},
   "outputs": [
    {
     "data": {
      "text/plain": [
       "array([ 0.9150752 ,  0.45520936,  0.32372076,  0.63030073,  0.04985701,\n",
       "        0.26126201,  0.87998246,  0.22042321,  0.6607237 ,  0.80984513,\n",
       "        0.5109843 ])"
      ]
     },
     "execution_count": 21,
     "metadata": {},
     "output_type": "execute_result"
    }
   ],
   "source": [
    "Res_lin.results.pvalues"
   ]
  },
  {
   "cell_type": "code",
   "execution_count": 12,
   "metadata": {},
   "outputs": [
    {
     "data": {
      "text/html": [
       "<table class=\"simpletable\">\n",
       "<caption>Generalized Linear Model Regression Results</caption>\n",
       "<tr>\n",
       "  <th>Dep. Variable:</th>          <td>y</td>        <th>  No. Observations:  </th>  <td>    79</td> \n",
       "</tr>\n",
       "<tr>\n",
       "  <th>Model:</th>                 <td>GLM</td>       <th>  Df Residuals:      </th>  <td>    73</td> \n",
       "</tr>\n",
       "<tr>\n",
       "  <th>Model Family:</th>       <td>Binomial</td>     <th>  Df Model:          </th>  <td>     5</td> \n",
       "</tr>\n",
       "<tr>\n",
       "  <th>Link Function:</th>        <td>logit</td>      <th>  Scale:             </th>    <td>1.0</td>  \n",
       "</tr>\n",
       "<tr>\n",
       "  <th>Method:</th>               <td>IRLS</td>       <th>  Log-Likelihood:    </th> <td> -34.461</td>\n",
       "</tr>\n",
       "<tr>\n",
       "  <th>Date:</th>           <td>Mon, 19 Mar 2018</td> <th>  Deviance:          </th> <td>  68.921</td>\n",
       "</tr>\n",
       "<tr>\n",
       "  <th>Time:</th>               <td>14:05:35</td>     <th>  Pearson chi2:      </th>  <td>  92.0</td> \n",
       "</tr>\n",
       "<tr>\n",
       "  <th>No. Iterations:</th>         <td>6</td>        <th>                     </th>     <td> </td>   \n",
       "</tr>\n",
       "</table>\n",
       "<table class=\"simpletable\">\n",
       "<tr>\n",
       "   <td></td>     <th>coef</th>     <th>std err</th>      <th>z</th>      <th>P>|z|</th>  <th>[0.025</th>    <th>0.975]</th>  \n",
       "</tr>\n",
       "<tr>\n",
       "  <th>x1</th> <td>    0.9611</td> <td>    3.095</td> <td>    0.310</td> <td> 0.756</td> <td>   -5.106</td> <td>    7.028</td>\n",
       "</tr>\n",
       "<tr>\n",
       "  <th>x2</th> <td>   -0.3806</td> <td>    0.477</td> <td>   -0.798</td> <td> 0.425</td> <td>   -1.316</td> <td>    0.555</td>\n",
       "</tr>\n",
       "<tr>\n",
       "  <th>x3</th> <td>    0.0238</td> <td>    0.009</td> <td>    2.525</td> <td> 0.012</td> <td>    0.005</td> <td>    0.042</td>\n",
       "</tr>\n",
       "<tr>\n",
       "  <th>x4</th> <td>   -0.4531</td> <td>    0.156</td> <td>   -2.909</td> <td> 0.004</td> <td>   -0.758</td> <td>   -0.148</td>\n",
       "</tr>\n",
       "<tr>\n",
       "  <th>x5</th> <td>   -0.0250</td> <td>    0.011</td> <td>   -2.340</td> <td> 0.019</td> <td>   -0.046</td> <td>   -0.004</td>\n",
       "</tr>\n",
       "<tr>\n",
       "  <th>x6</th> <td>    0.6669</td> <td>    0.188</td> <td>    3.546</td> <td> 0.000</td> <td>    0.298</td> <td>    1.036</td>\n",
       "</tr>\n",
       "</table>"
      ],
      "text/plain": [
       "<class 'statsmodels.iolib.summary.Summary'>\n",
       "\"\"\"\n",
       "                 Generalized Linear Model Regression Results                  \n",
       "==============================================================================\n",
       "Dep. Variable:                      y   No. Observations:                   79\n",
       "Model:                            GLM   Df Residuals:                       73\n",
       "Model Family:                Binomial   Df Model:                            5\n",
       "Link Function:                  logit   Scale:                             1.0\n",
       "Method:                          IRLS   Log-Likelihood:                -34.461\n",
       "Date:                Mon, 19 Mar 2018   Deviance:                       68.921\n",
       "Time:                        14:05:35   Pearson chi2:                     92.0\n",
       "No. Iterations:                     6                                         \n",
       "==============================================================================\n",
       "                 coef    std err          z      P>|z|      [0.025      0.975]\n",
       "------------------------------------------------------------------------------\n",
       "x1             0.9611      3.095      0.310      0.756      -5.106       7.028\n",
       "x2            -0.3806      0.477     -0.798      0.425      -1.316       0.555\n",
       "x3             0.0238      0.009      2.525      0.012       0.005       0.042\n",
       "x4            -0.4531      0.156     -2.909      0.004      -0.758      -0.148\n",
       "x5            -0.0250      0.011     -2.340      0.019      -0.046      -0.004\n",
       "x6             0.6669      0.188      3.546      0.000       0.298       1.036\n",
       "==============================================================================\n",
       "\"\"\""
      ]
     },
     "execution_count": 12,
     "metadata": {},
     "output_type": "execute_result"
    }
   ],
   "source": [
    "Res_log.results.summary()"
   ]
  },
  {
   "cell_type": "markdown",
   "metadata": {},
   "source": [
    "## Intervalles de confiance par bootstrap"
   ]
  },
  {
   "cell_type": "markdown",
   "metadata": {},
   "source": [
    "### Dataset cars :"
   ]
  },
  {
   "cell_type": "code",
   "execution_count": 13,
   "metadata": {},
   "outputs": [],
   "source": [
    "#liste des beta bootstrapés pour Error Sampling et Case Sampling\n",
    "CS_beta = Res_lin.case_sampling()\n",
    "ES_beta = Res_lin.errors_sampling()"
   ]
  },
  {
   "cell_type": "code",
   "execution_count": 14,
   "metadata": {
    "collapsed": true
   },
   "outputs": [],
   "source": [
    "IC_base_ES=Res_lin.IC_base(Res_lin.beta,ES_beta)\n",
    "IC_perc_ES=Res_lin.IC_perc(Res_lin.beta,ES_beta)\n",
    "IC_base_CS=Res_lin.IC_base(Res_lin.beta,CS_beta)\n",
    "IC_perc_CS=Res_lin.IC_perc(Res_lin.beta,CS_beta)\n",
    "ICAN_plot = Res_lin.ICAN()"
   ]
  },
  {
   "cell_type": "markdown",
   "metadata": {},
   "source": [
    "Comparons à présent les différents intervalles de confiance pour le dataset mtcars :"
   ]
  },
  {
   "cell_type": "code",
   "execution_count": 15,
   "metadata": {
    "ExecuteTime": {
     "end_time": "2018-03-16T09:45:45.151424Z",
     "start_time": "2018-03-16T09:45:42.784977Z"
    }
   },
   "outputs": [
    {
     "data": {
      "image/png": "[encoded data removed]",
      "text/plain": [
       "<matplotlib.figure.Figure at 0x10e3f9208>"
      ]
     },
     "metadata": {},
     "output_type": "display_data"
    }
   ],
   "source": [
    "# A RAJOUTER: CASE SAMPLING AVEC DASH LINE\n",
    "fig=plt.figure(figsize=(20,10))\n",
    "plt.suptitle(\"Comparaison des bornes inférieures et supérieures \\n en fonction des différentes méthodes d'intervalle de confiance\",\n",
    "           fontweight='bold',size=16)\n",
    "\n",
    "for i in range(X_cars.shape[1]-1):\n",
    "    ax=fig.add_subplot(5,2,i+1)\n",
    "    #base ES\n",
    "    base_ES=ax.axvline(IC_base_ES[i-1][0] ,label=\"IC Base ES\")\n",
    "    base_ES=ax.axvline(IC_base_ES[i-1][1] ,label=\"IC Base ES\")\n",
    "    #base CS\n",
    "    base_CS=ax.axvline(IC_base_CS[i-1][0] ,label=\"IC Base CS\",linestyle='dashed')\n",
    "    base_CS=ax.axvline(IC_base_CS[i-1][1] ,label=\"IC Base CS\",linestyle='dashed')\n",
    "    #percentile ES\n",
    "    perc_ES=ax.axvline(IC_perc_ES[i-1][0] ,color='green',label=\"IC Perc EC\")\n",
    "    perc_ES=ax.axvline(IC_perc_ES[i-1][1] ,color='green',label=\"IC Perc EC\")\n",
    "    #percentile CS\n",
    "    perc_CS=ax.axvline(IC_perc_CS[i-1][0] ,color='green',label=\"IC Perc CS\",linestyle='dashed')\n",
    "    perc_CS=ax.axvline(IC_perc_CS[i-1][1] ,color='green',label=\"IC Perc CS\",linestyle='dashed')\n",
    "    #ICAN\n",
    "    ican=ax.axvline(ICAN_plot[i-1][0],color='red',label=\"ICAN\")\n",
    "    ican=ax.axvline(ICAN_plot[i-1][1],color='red',label=\"ICAN\")\n",
    "    plt.title(\"Beta\"+str(i+1),fontweight='bold')\n",
    "    plt.yticks([])\n",
    "    plt.legend(handles=[base_ES,base_CS,perc_ES,perc_CS,ican])\n",
    "\n",
    "plt.show()"
   ]
  },
  {
   "cell_type": "markdown",
   "metadata": {
    "ExecuteTime": {
     "end_time": "2018-03-13T08:49:12.185153Z",
     "start_time": "2018-03-13T08:49:12.174600Z"
    }
   },
   "source": [
    "### Dataset urine : "
   ]
  },
  {
   "cell_type": "markdown",
   "metadata": {},
   "source": [
    "On constate que l'intervalle de confiance Asymptotique Normal semble très souvent plus performant que les IC Percentile et basique. La différence de performance entre les modèles error sampling et Case sampling sont relativement différente en fonction du paramètre choisis de même entre les IC percentile et basique"
   ]
  },
  {
   "cell_type": "markdown",
   "metadata": {},
   "source": [
    "Comparons à présent la même chose pour le dataset urine :"
   ]
  },
  {
   "cell_type": "code",
   "execution_count": 16,
   "metadata": {},
   "outputs": [
    {
     "name": "stderr",
     "output_type": "stream",
     "text": [
      "/Users/antoinegrelety/Documents/ENSAE/S2_Bootstrap/Bootstrap-resampling-methods/resampling.py:96: RuntimeWarning: invalid value encountered in sqrt\n",
      "  cutoff = pi_logreg / ( 1 + pi_logreg ) + np.sqrt(pi_logreg*(1-pi_logreg))*sample_resid[i]\n"
     ]
    }
   ],
   "source": [
    "#liste des beta bootstrapés pour Error Sampling et Case Sampling\n",
    "CS_beta = Res_log.case_sampling()\n",
    "ES_beta = Res_log.errors_sampling()"
   ]
  },
  {
   "cell_type": "code",
   "execution_count": 17,
   "metadata": {
    "collapsed": true
   },
   "outputs": [],
   "source": [
    "IC_base_ES=Res_log.IC_base(Res_log.beta,ES_beta)\n",
    "IC_perc_ES=Res_log.IC_perc(Res_log.beta,ES_beta)\n",
    "IC_base_CS=Res_log.IC_base(Res_log.beta,CS_beta)\n",
    "IC_perc_CS=Res_log.IC_perc(Res_log.beta,CS_beta)\n",
    "ICAN_plot = Res_log.ICAN()"
   ]
  },
  {
   "cell_type": "code",
   "execution_count": 18,
   "metadata": {
    "ExecuteTime": {
     "end_time": "2018-03-16T09:54:16.322777Z",
     "start_time": "2018-03-16T09:54:14.809444Z"
    }
   },
   "outputs": [
    {
     "data": {
      "image/png": "[encoded data removed]",
      "text/plain": [
       "<matplotlib.figure.Figure at 0x10f099710>"
      ]
     },
     "metadata": {},
     "output_type": "display_data"
    }
   ],
   "source": [
    "# A RAJOUTER: CASE SAMPLING AVEC DASH LINE\n",
    "fig=plt.figure(figsize=(20,10))\n",
    "plt.suptitle(\"Comparaison des bornes inférieures et supérieures \\n en fonction des différentes méthodes d'intervalle de confiance\",\n",
    "           fontweight='bold',size=16)\n",
    "\n",
    "for i in range(X_urine.shape[1]):\n",
    "    ax=fig.add_subplot(5,2,i+1)\n",
    "    #base ES\n",
    "    base_ES=ax.axvline(IC_base_ES[i-1][0] ,label=\"IC Base ES\")\n",
    "    base_ES=ax.axvline(IC_base_ES[i-1][1] ,label=\"IC Base ES\")\n",
    "    #base CS\n",
    "    base_CS=ax.axvline(IC_base_CS[i-1][0] ,label=\"IC Base CS\",linestyle='dashed')\n",
    "    base_CS=ax.axvline(IC_base_CS[i-1][1] ,label=\"IC Base CS\",linestyle='dashed')\n",
    "    #percentile ES\n",
    "    perc_ES=ax.axvline(IC_perc_ES[i-1][0] ,color='green',label=\"IC Perc EC\")\n",
    "    perc_ES=ax.axvline(IC_perc_ES[i-1][1] ,color='green',label=\"IC Perc EC\")\n",
    "    #percentile CS\n",
    "    perc_CS=ax.axvline(IC_perc_CS[i-1][0] ,color='green',label=\"IC Perc CS\",linestyle='dashed')\n",
    "    perc_CS=ax.axvline(IC_perc_CS[i-1][1] ,color='green',label=\"IC Perc CS\",linestyle='dashed')\n",
    "    #ICAN\n",
    "    ican=ax.axvline(ICAN_plot[i-1][0],color='red',label=\"ICAN\")\n",
    "    ican=ax.axvline(ICAN_plot[i-1][1],color='red',label=\"ICAN\")\n",
    "    plt.title(\"Beta\"+str(i+1),fontweight='bold')\n",
    "    plt.yticks([])\n",
    "    plt.legend(handles=[base_ES,base_CS,perc_ES,perc_CS,ican])\n",
    "\n",
    "plt.show()"
   ]
  },
  {
   "cell_type": "markdown",
   "metadata": {},
   "source": [
    "Ici on constate que les différents intervalles de confiance  \"s'entrecoupent moins\" que dans le cas précédent. Encore une fois, les intervalles asymptotique normales semblent globalement plus ressérés. Enfin, la différence de performance Percentile/Basique Error Sampling/Case sampling varie d'un paramètre à l'autre"
   ]
  },
  {
   "cell_type": "markdown",
   "metadata": {},
   "source": [
    "## Tests par Bootstrap"
   ]
  },
  {
   "cell_type": "markdown",
   "metadata": {},
   "source": [
    "### Dataset cars"
   ]
  },
  {
   "cell_type": "markdown",
   "metadata": {},
   "source": [
    "#### Error Sampling"
   ]
  },
  {
   "cell_type": "code",
   "execution_count": 9,
   "metadata": {},
   "outputs": [],
   "source": [
    "p_values_ES_cars=[]\n",
    "for d in range(X_cars.shape[1]-1):\n",
    "    gamma,Residus,X_H0,vrais = Res_lin.Estim_H0(k=d)\n",
    "    p_values_ES_cars.append( Res_lin.bootstrap_H0_ES(k=d) )"
   ]
  },
  {
   "cell_type": "code",
   "execution_count": 15,
   "metadata": {},
   "outputs": [
    {
     "data": {
      "image/png": "[encoded data removed]",
      "text/plain": [
       "<matplotlib.figure.Figure at 0x118db4d68>"
      ]
     },
     "metadata": {},
     "output_type": "display_data"
    }
   ],
   "source": [
    "plt.boxplot(p_values_ES_cars[2])\n",
    "plt.show()"
   ]
  },
  {
   "cell_type": "markdown",
   "metadata": {},
   "source": [
    "#### Case Sampling"
   ]
  },
  {
   "cell_type": "code",
   "execution_count": 10,
   "metadata": {
    "collapsed": true
   },
   "outputs": [],
   "source": [
    "p_values_CS_cars=[]\n",
    "for d in range(X_cars.shape[1]-1):\n",
    "    gamma,Residus,X_H0,vrais = Res_lin.Estim_H0(k=d)\n",
    "    p_values_CS_cars.append( Res_lin.bootstrap_H0_CS(k=d) )"
   ]
  },
  {
   "cell_type": "code",
   "execution_count": 19,
   "metadata": {},
   "outputs": [
    {
     "data": {
      "image/png": "[encoded data removed]",
      "text/plain": [
       "<matplotlib.figure.Figure at 0x115940dd8>"
      ]
     },
     "metadata": {},
     "output_type": "display_data"
    }
   ],
   "source": [
    "plt.boxplot([p_values_CS_cars[2],p_values_ES_cars[2]])\n",
    "plt.show()"
   ]
  },
  {
   "cell_type": "markdown",
   "metadata": {},
   "source": [
    "### Dataset Urine"
   ]
  },
  {
   "cell_type": "code",
   "execution_count": 18,
   "metadata": {
    "collapsed": true
   },
   "outputs": [],
   "source": [
    "gamma,Residus,X_H0,vrais = Res_log.Estim_H0(k=1)"
   ]
  },
  {
   "cell_type": "code",
   "execution_count": 19,
   "metadata": {},
   "outputs": [
    {
     "name": "stderr",
     "output_type": "stream",
     "text": [
      "/Users/antoinegrelety/Documents/ENSAE/S2_Bootstrap/Bootstrap-resampling-methods/resampling.py:161: RuntimeWarning: invalid value encountered in sqrt\n",
      "  cutoff = pi_logreg / ( 1 + pi_logreg ) + np.sqrt(pi_logreg*(1-pi_logreg))*Residus[i]\n"
     ]
    }
   ],
   "source": [
    "F_list = Res_log.bootstrap_H0_ES(k=1)"
   ]
  },
  {
   "cell_type": "code",
   "execution_count": 21,
   "metadata": {},
   "outputs": [
    {
     "data": {
      "text/plain": [
       "0.49984269168943024"
      ]
     },
     "execution_count": 21,
     "metadata": {},
     "output_type": "execute_result"
    }
   ],
   "source": [
    "np.mean(F_list)"
   ]
  },
  {
   "cell_type": "code",
   "execution_count": 17,
   "metadata": {},
   "outputs": [
    {
     "data": {
      "text/plain": [
       "1.0"
      ]
     },
     "execution_count": 17,
     "metadata": {},
     "output_type": "execute_result"
    }
   ],
   "source": [
    "Res_log.p_value(F_list, -2*( Res_log.results.llf - vrais) )"
   ]
  },
  {
   "cell_type": "markdown",
   "metadata": {},
   "source": [
    "## Sur simulations"
   ]
  },
  {
   "cell_type": "code",
   "execution_count": 53,
   "metadata": {
    "ExecuteTime": {
     "end_time": "2018-03-14T12:08:53.278991Z",
     "start_time": "2018-03-14T12:08:53.248820Z"
    },
    "collapsed": true
   },
   "outputs": [],
   "source": [
    "# Définition des paramètres et des échantillons\n",
    "n=50\n",
    "p=5\n",
    "beta_0=2\n",
    "beta_1=2\n",
    "beta_2=2\n",
    "beta_3=0\n",
    "beta_4=0\n",
    "beta_5=0\n",
    "\n",
    "X=np.zeros((n,p))\n",
    "for k in range(n):\n",
    "    for j in range(p):\n",
    "        X[k][j]=npr.uniform(-0.5,0.5)\n",
    "Y=np.zeros((n,1))\n",
    "for k in range(n):\n",
    "    Y[k]=beta_0+beta_1*X[k][0]+beta_2*X[k][1]+beta_3*X[k][2]+beta_4*X[k][3]+beta_5*beta_1*X[k][4]+npr.normal(0,1)"
   ]
  }
 ],
 "metadata": {
  "anaconda-cloud": {},
  "kernelspec": {
   "display_name": "Python 3",
   "language": "python",
   "name": "python3"
  },
  "language_info": {
   "codemirror_mode": {
    "name": "ipython",
    "version": 3
   },
   "file_extension": ".py",
   "mimetype": "text/x-python",
   "name": "python",
   "nbconvert_exporter": "python",
   "pygments_lexer": "ipython3",
   "version": "3.6.3"
  }
 },
 "nbformat": 4,
 "nbformat_minor": 2
}
